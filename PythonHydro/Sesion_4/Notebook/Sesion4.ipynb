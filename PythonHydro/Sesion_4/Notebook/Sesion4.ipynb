{
 "cells": [
  {
   "cell_type": "code",
   "execution_count": 1,
   "metadata": {},
   "outputs": [],
   "source": [
    "import matplotlib.pyplot as plt\n",
    "import numpy as np\n",
    "import pandas as pd"
   ]
  },
  {
   "cell_type": "code",
   "execution_count": 2,
   "metadata": {},
   "outputs": [
    {
     "data": {
      "text/html": [
       "<div>\n",
       "<style scoped>\n",
       "    .dataframe tbody tr th:only-of-type {\n",
       "        vertical-align: middle;\n",
       "    }\n",
       "\n",
       "    .dataframe tbody tr th {\n",
       "        vertical-align: top;\n",
       "    }\n",
       "\n",
       "    .dataframe thead th {\n",
       "        text-align: right;\n",
       "    }\n",
       "</style>\n",
       "<table border=\"1\" class=\"dataframe\">\n",
       "  <thead>\n",
       "    <tr style=\"text-align: right;\">\n",
       "      <th></th>\n",
       "      <th>Min and Max values of temperature in celcius degrees</th>\n",
       "    </tr>\n",
       "  </thead>\n",
       "  <tbody>\n",
       "    <tr>\n",
       "      <th>0</th>\n",
       "      <td>Source: Hatari</td>\n",
       "    </tr>\n",
       "    <tr>\n",
       "      <th>1</th>\n",
       "      <td>Month    Min      Max</td>\n",
       "    </tr>\n",
       "    <tr>\n",
       "      <th>2</th>\n",
       "      <td>1        3.89     9.81</td>\n",
       "    </tr>\n",
       "    <tr>\n",
       "      <th>3</th>\n",
       "      <td>2        5.68     12.54</td>\n",
       "    </tr>\n",
       "    <tr>\n",
       "      <th>4</th>\n",
       "      <td>3        7.79     15.39</td>\n",
       "    </tr>\n",
       "    <tr>\n",
       "      <th>5</th>\n",
       "      <td>4        11.21    19.47</td>\n",
       "    </tr>\n",
       "    <tr>\n",
       "      <th>6</th>\n",
       "      <td>5        14.10    24.65</td>\n",
       "    </tr>\n",
       "    <tr>\n",
       "      <th>7</th>\n",
       "      <td>6        18.52    28.37</td>\n",
       "    </tr>\n",
       "    <tr>\n",
       "      <th>8</th>\n",
       "      <td>7        20.79    29.17</td>\n",
       "    </tr>\n",
       "    <tr>\n",
       "      <th>9</th>\n",
       "      <td>8        21.89    32.28</td>\n",
       "    </tr>\n",
       "    <tr>\n",
       "      <th>10</th>\n",
       "      <td>9        17.92    26.47</td>\n",
       "    </tr>\n",
       "    <tr>\n",
       "      <th>11</th>\n",
       "      <td>10       14.84    21.45</td>\n",
       "    </tr>\n",
       "    <tr>\n",
       "      <th>12</th>\n",
       "      <td>11       8.51     16.31</td>\n",
       "    </tr>\n",
       "    <tr>\n",
       "      <th>13</th>\n",
       "      <td>12       6.55     13.13</td>\n",
       "    </tr>\n",
       "  </tbody>\n",
       "</table>\n",
       "</div>"
      ],
      "text/plain": [
       "   Min and Max values of temperature in celcius degrees\n",
       "0                                      Source: Hatari  \n",
       "1                               Month    Min      Max  \n",
       "2                              1        3.89     9.81  \n",
       "3                             2        5.68     12.54  \n",
       "4                             3        7.79     15.39  \n",
       "5                             4        11.21    19.47  \n",
       "6                             5        14.10    24.65  \n",
       "7                             6        18.52    28.37  \n",
       "8                             7        20.79    29.17  \n",
       "9                             8        21.89    32.28  \n",
       "10                            9        17.92    26.47  \n",
       "11                            10       14.84    21.45  \n",
       "12                            11       8.51     16.31  \n",
       "13                            12       6.55     13.13  "
      ]
     },
     "execution_count": 2,
     "metadata": {},
     "output_type": "execute_result"
    }
   ],
   "source": [
    "pd.read_csv('temp.txt')"
   ]
  },
  {
   "cell_type": "code",
   "execution_count": 3,
   "metadata": {},
   "outputs": [
    {
     "data": {
      "text/html": [
       "<div>\n",
       "<style scoped>\n",
       "    .dataframe tbody tr th:only-of-type {\n",
       "        vertical-align: middle;\n",
       "    }\n",
       "\n",
       "    .dataframe tbody tr th {\n",
       "        vertical-align: top;\n",
       "    }\n",
       "\n",
       "    .dataframe thead th {\n",
       "        text-align: right;\n",
       "    }\n",
       "</style>\n",
       "<table border=\"1\" class=\"dataframe\">\n",
       "  <thead>\n",
       "    <tr style=\"text-align: right;\">\n",
       "      <th></th>\n",
       "      <th>Month    Min      Max</th>\n",
       "    </tr>\n",
       "  </thead>\n",
       "  <tbody>\n",
       "    <tr>\n",
       "      <th>0</th>\n",
       "      <td>1        3.89     9.81</td>\n",
       "    </tr>\n",
       "    <tr>\n",
       "      <th>1</th>\n",
       "      <td>2        5.68     12.54</td>\n",
       "    </tr>\n",
       "    <tr>\n",
       "      <th>2</th>\n",
       "      <td>3        7.79     15.39</td>\n",
       "    </tr>\n",
       "    <tr>\n",
       "      <th>3</th>\n",
       "      <td>4        11.21    19.47</td>\n",
       "    </tr>\n",
       "    <tr>\n",
       "      <th>4</th>\n",
       "      <td>5        14.10    24.65</td>\n",
       "    </tr>\n",
       "    <tr>\n",
       "      <th>5</th>\n",
       "      <td>6        18.52    28.37</td>\n",
       "    </tr>\n",
       "    <tr>\n",
       "      <th>6</th>\n",
       "      <td>7        20.79    29.17</td>\n",
       "    </tr>\n",
       "    <tr>\n",
       "      <th>7</th>\n",
       "      <td>8        21.89    32.28</td>\n",
       "    </tr>\n",
       "    <tr>\n",
       "      <th>8</th>\n",
       "      <td>9        17.92    26.47</td>\n",
       "    </tr>\n",
       "    <tr>\n",
       "      <th>9</th>\n",
       "      <td>10       14.84    21.45</td>\n",
       "    </tr>\n",
       "    <tr>\n",
       "      <th>10</th>\n",
       "      <td>11       8.51     16.31</td>\n",
       "    </tr>\n",
       "    <tr>\n",
       "      <th>11</th>\n",
       "      <td>12       6.55     13.13</td>\n",
       "    </tr>\n",
       "  </tbody>\n",
       "</table>\n",
       "</div>"
      ],
      "text/plain": [
       "      Month    Min      Max\n",
       "0    1        3.89     9.81\n",
       "1   2        5.68     12.54\n",
       "2   3        7.79     15.39\n",
       "3   4        11.21    19.47\n",
       "4   5        14.10    24.65\n",
       "5   6        18.52    28.37\n",
       "6   7        20.79    29.17\n",
       "7   8        21.89    32.28\n",
       "8   9        17.92    26.47\n",
       "9   10       14.84    21.45\n",
       "10  11       8.51     16.31\n",
       "11  12       6.55     13.13"
      ]
     },
     "execution_count": 3,
     "metadata": {},
     "output_type": "execute_result"
    }
   ],
   "source": [
    "pd.read_csv('temp.txt',skiprows=2)"
   ]
  },
  {
   "cell_type": "code",
   "execution_count": 4,
   "metadata": {},
   "outputs": [
    {
     "data": {
      "text/html": [
       "<div>\n",
       "<style scoped>\n",
       "    .dataframe tbody tr th:only-of-type {\n",
       "        vertical-align: middle;\n",
       "    }\n",
       "\n",
       "    .dataframe tbody tr th {\n",
       "        vertical-align: top;\n",
       "    }\n",
       "\n",
       "    .dataframe thead th {\n",
       "        text-align: right;\n",
       "    }\n",
       "</style>\n",
       "<table border=\"1\" class=\"dataframe\">\n",
       "  <thead>\n",
       "    <tr style=\"text-align: right;\">\n",
       "      <th></th>\n",
       "      <th>0</th>\n",
       "    </tr>\n",
       "  </thead>\n",
       "  <tbody>\n",
       "    <tr>\n",
       "      <th>0</th>\n",
       "      <td>Month    Min      Max</td>\n",
       "    </tr>\n",
       "    <tr>\n",
       "      <th>1</th>\n",
       "      <td>1        3.89     9.81</td>\n",
       "    </tr>\n",
       "    <tr>\n",
       "      <th>2</th>\n",
       "      <td>2        5.68     12.54</td>\n",
       "    </tr>\n",
       "    <tr>\n",
       "      <th>3</th>\n",
       "      <td>3        7.79     15.39</td>\n",
       "    </tr>\n",
       "    <tr>\n",
       "      <th>4</th>\n",
       "      <td>4        11.21    19.47</td>\n",
       "    </tr>\n",
       "    <tr>\n",
       "      <th>5</th>\n",
       "      <td>5        14.10    24.65</td>\n",
       "    </tr>\n",
       "    <tr>\n",
       "      <th>6</th>\n",
       "      <td>6        18.52    28.37</td>\n",
       "    </tr>\n",
       "    <tr>\n",
       "      <th>7</th>\n",
       "      <td>7        20.79    29.17</td>\n",
       "    </tr>\n",
       "    <tr>\n",
       "      <th>8</th>\n",
       "      <td>8        21.89    32.28</td>\n",
       "    </tr>\n",
       "    <tr>\n",
       "      <th>9</th>\n",
       "      <td>9        17.92    26.47</td>\n",
       "    </tr>\n",
       "    <tr>\n",
       "      <th>10</th>\n",
       "      <td>10       14.84    21.45</td>\n",
       "    </tr>\n",
       "    <tr>\n",
       "      <th>11</th>\n",
       "      <td>11       8.51     16.31</td>\n",
       "    </tr>\n",
       "    <tr>\n",
       "      <th>12</th>\n",
       "      <td>12       6.55     13.13</td>\n",
       "    </tr>\n",
       "  </tbody>\n",
       "</table>\n",
       "</div>"
      ],
      "text/plain": [
       "                          0\n",
       "0     Month    Min      Max\n",
       "1    1        3.89     9.81\n",
       "2   2        5.68     12.54\n",
       "3   3        7.79     15.39\n",
       "4   4        11.21    19.47\n",
       "5   5        14.10    24.65\n",
       "6   6        18.52    28.37\n",
       "7   7        20.79    29.17\n",
       "8   8        21.89    32.28\n",
       "9   9        17.92    26.47\n",
       "10  10       14.84    21.45\n",
       "11  11       8.51     16.31\n",
       "12  12       6.55     13.13"
      ]
     },
     "execution_count": 4,
     "metadata": {},
     "output_type": "execute_result"
    }
   ],
   "source": [
    "df = pd.read_csv('temp.txt',skiprows=2,header=None)\n",
    "df"
   ]
  },
  {
   "cell_type": "code",
   "execution_count": 5,
   "metadata": {},
   "outputs": [
    {
     "data": {
      "text/html": [
       "<div>\n",
       "<style scoped>\n",
       "    .dataframe tbody tr th:only-of-type {\n",
       "        vertical-align: middle;\n",
       "    }\n",
       "\n",
       "    .dataframe tbody tr th {\n",
       "        vertical-align: top;\n",
       "    }\n",
       "\n",
       "    .dataframe thead th {\n",
       "        text-align: right;\n",
       "    }\n",
       "</style>\n",
       "<table border=\"1\" class=\"dataframe\">\n",
       "  <thead>\n",
       "    <tr style=\"text-align: right;\">\n",
       "      <th></th>\n",
       "      <th>Month</th>\n",
       "      <th>Min</th>\n",
       "      <th>Max</th>\n",
       "    </tr>\n",
       "  </thead>\n",
       "  <tbody>\n",
       "    <tr>\n",
       "      <th>0</th>\n",
       "      <td>1</td>\n",
       "      <td>3.89</td>\n",
       "      <td>9.81</td>\n",
       "    </tr>\n",
       "    <tr>\n",
       "      <th>1</th>\n",
       "      <td>2</td>\n",
       "      <td>5.68</td>\n",
       "      <td>12.54</td>\n",
       "    </tr>\n",
       "    <tr>\n",
       "      <th>2</th>\n",
       "      <td>3</td>\n",
       "      <td>7.79</td>\n",
       "      <td>15.39</td>\n",
       "    </tr>\n",
       "    <tr>\n",
       "      <th>3</th>\n",
       "      <td>4</td>\n",
       "      <td>11.21</td>\n",
       "      <td>19.47</td>\n",
       "    </tr>\n",
       "    <tr>\n",
       "      <th>4</th>\n",
       "      <td>5</td>\n",
       "      <td>14.10</td>\n",
       "      <td>24.65</td>\n",
       "    </tr>\n",
       "    <tr>\n",
       "      <th>5</th>\n",
       "      <td>6</td>\n",
       "      <td>18.52</td>\n",
       "      <td>28.37</td>\n",
       "    </tr>\n",
       "    <tr>\n",
       "      <th>6</th>\n",
       "      <td>7</td>\n",
       "      <td>20.79</td>\n",
       "      <td>29.17</td>\n",
       "    </tr>\n",
       "    <tr>\n",
       "      <th>7</th>\n",
       "      <td>8</td>\n",
       "      <td>21.89</td>\n",
       "      <td>32.28</td>\n",
       "    </tr>\n",
       "    <tr>\n",
       "      <th>8</th>\n",
       "      <td>9</td>\n",
       "      <td>17.92</td>\n",
       "      <td>26.47</td>\n",
       "    </tr>\n",
       "    <tr>\n",
       "      <th>9</th>\n",
       "      <td>10</td>\n",
       "      <td>14.84</td>\n",
       "      <td>21.45</td>\n",
       "    </tr>\n",
       "    <tr>\n",
       "      <th>10</th>\n",
       "      <td>11</td>\n",
       "      <td>8.51</td>\n",
       "      <td>16.31</td>\n",
       "    </tr>\n",
       "    <tr>\n",
       "      <th>11</th>\n",
       "      <td>12</td>\n",
       "      <td>6.55</td>\n",
       "      <td>13.13</td>\n",
       "    </tr>\n",
       "  </tbody>\n",
       "</table>\n",
       "</div>"
      ],
      "text/plain": [
       "    Month    Min    Max\n",
       "0       1   3.89   9.81\n",
       "1       2   5.68  12.54\n",
       "2       3   7.79  15.39\n",
       "3       4  11.21  19.47\n",
       "4       5  14.10  24.65\n",
       "5       6  18.52  28.37\n",
       "6       7  20.79  29.17\n",
       "7       8  21.89  32.28\n",
       "8       9  17.92  26.47\n",
       "9      10  14.84  21.45\n",
       "10     11   8.51  16.31\n",
       "11     12   6.55  13.13"
      ]
     },
     "execution_count": 5,
     "metadata": {},
     "output_type": "execute_result"
    }
   ],
   "source": [
    "df = pd.read_csv('temp.txt',skiprows=2,delim_whitespace=True)\n",
    "df"
   ]
  },
  {
   "cell_type": "code",
   "execution_count": 6,
   "metadata": {},
   "outputs": [
    {
     "data": {
      "text/plain": [
       "0      1\n",
       "1      2\n",
       "2      3\n",
       "3      4\n",
       "4      5\n",
       "5      6\n",
       "6      7\n",
       "7      8\n",
       "8      9\n",
       "9     10\n",
       "10    11\n",
       "11    12\n",
       "Name: Month, dtype: int64"
      ]
     },
     "execution_count": 6,
     "metadata": {},
     "output_type": "execute_result"
    }
   ],
   "source": [
    "df.Month"
   ]
  },
  {
   "cell_type": "code",
   "execution_count": 7,
   "metadata": {},
   "outputs": [
    {
     "data": {
      "text/plain": [
       "0      1\n",
       "1      2\n",
       "2      3\n",
       "3      4\n",
       "4      5\n",
       "5      6\n",
       "6      7\n",
       "7      8\n",
       "8      9\n",
       "9     10\n",
       "10    11\n",
       "11    12\n",
       "Name: Month, dtype: int64"
      ]
     },
     "execution_count": 7,
     "metadata": {},
     "output_type": "execute_result"
    }
   ],
   "source": [
    "df['Month']"
   ]
  },
  {
   "cell_type": "code",
   "execution_count": 8,
   "metadata": {},
   "outputs": [
    {
     "data": {
      "text/html": [
       "<div>\n",
       "<style scoped>\n",
       "    .dataframe tbody tr th:only-of-type {\n",
       "        vertical-align: middle;\n",
       "    }\n",
       "\n",
       "    .dataframe tbody tr th {\n",
       "        vertical-align: top;\n",
       "    }\n",
       "\n",
       "    .dataframe thead th {\n",
       "        text-align: right;\n",
       "    }\n",
       "</style>\n",
       "<table border=\"1\" class=\"dataframe\">\n",
       "  <thead>\n",
       "    <tr style=\"text-align: right;\">\n",
       "      <th></th>\n",
       "      <th>Month</th>\n",
       "      <th>Min</th>\n",
       "    </tr>\n",
       "  </thead>\n",
       "  <tbody>\n",
       "    <tr>\n",
       "      <th>0</th>\n",
       "      <td>1</td>\n",
       "      <td>3.89</td>\n",
       "    </tr>\n",
       "    <tr>\n",
       "      <th>1</th>\n",
       "      <td>2</td>\n",
       "      <td>5.68</td>\n",
       "    </tr>\n",
       "    <tr>\n",
       "      <th>2</th>\n",
       "      <td>3</td>\n",
       "      <td>7.79</td>\n",
       "    </tr>\n",
       "    <tr>\n",
       "      <th>3</th>\n",
       "      <td>4</td>\n",
       "      <td>11.21</td>\n",
       "    </tr>\n",
       "    <tr>\n",
       "      <th>4</th>\n",
       "      <td>5</td>\n",
       "      <td>14.10</td>\n",
       "    </tr>\n",
       "    <tr>\n",
       "      <th>5</th>\n",
       "      <td>6</td>\n",
       "      <td>18.52</td>\n",
       "    </tr>\n",
       "    <tr>\n",
       "      <th>6</th>\n",
       "      <td>7</td>\n",
       "      <td>20.79</td>\n",
       "    </tr>\n",
       "    <tr>\n",
       "      <th>7</th>\n",
       "      <td>8</td>\n",
       "      <td>21.89</td>\n",
       "    </tr>\n",
       "    <tr>\n",
       "      <th>8</th>\n",
       "      <td>9</td>\n",
       "      <td>17.92</td>\n",
       "    </tr>\n",
       "    <tr>\n",
       "      <th>9</th>\n",
       "      <td>10</td>\n",
       "      <td>14.84</td>\n",
       "    </tr>\n",
       "    <tr>\n",
       "      <th>10</th>\n",
       "      <td>11</td>\n",
       "      <td>8.51</td>\n",
       "    </tr>\n",
       "    <tr>\n",
       "      <th>11</th>\n",
       "      <td>12</td>\n",
       "      <td>6.55</td>\n",
       "    </tr>\n",
       "  </tbody>\n",
       "</table>\n",
       "</div>"
      ],
      "text/plain": [
       "    Month    Min\n",
       "0       1   3.89\n",
       "1       2   5.68\n",
       "2       3   7.79\n",
       "3       4  11.21\n",
       "4       5  14.10\n",
       "5       6  18.52\n",
       "6       7  20.79\n",
       "7       8  21.89\n",
       "8       9  17.92\n",
       "9      10  14.84\n",
       "10     11   8.51\n",
       "11     12   6.55"
      ]
     },
     "execution_count": 8,
     "metadata": {},
     "output_type": "execute_result"
    }
   ],
   "source": [
    "df[['Month','Min']]"
   ]
  },
  {
   "cell_type": "code",
   "execution_count": 9,
   "metadata": {},
   "outputs": [
    {
     "data": {
      "text/plain": [
       "2"
      ]
     },
     "execution_count": 9,
     "metadata": {},
     "output_type": "execute_result"
    }
   ],
   "source": [
    "df['Month'][1]"
   ]
  },
  {
   "cell_type": "code",
   "execution_count": 10,
   "metadata": {},
   "outputs": [
    {
     "data": {
      "text/plain": [
       "1    2\n",
       "2    3\n",
       "3    4\n",
       "4    5\n",
       "Name: Month, dtype: int64"
      ]
     },
     "execution_count": 10,
     "metadata": {},
     "output_type": "execute_result"
    }
   ],
   "source": [
    "df['Month'][1:5]"
   ]
  },
  {
   "cell_type": "code",
   "execution_count": 11,
   "metadata": {},
   "outputs": [
    {
     "data": {
      "text/plain": [
       "Index(['Month', 'Min', 'Max'], dtype='object')"
      ]
     },
     "execution_count": 11,
     "metadata": {},
     "output_type": "execute_result"
    }
   ],
   "source": [
    "df.keys()"
   ]
  },
  {
   "cell_type": "code",
   "execution_count": 12,
   "metadata": {},
   "outputs": [
    {
     "data": {
      "text/plain": [
       "array([[ 1.  ,  3.89,  9.81],\n",
       "       [ 2.  ,  5.68, 12.54],\n",
       "       [ 3.  ,  7.79, 15.39],\n",
       "       [ 4.  , 11.21, 19.47],\n",
       "       [ 5.  , 14.1 , 24.65],\n",
       "       [ 6.  , 18.52, 28.37],\n",
       "       [ 7.  , 20.79, 29.17],\n",
       "       [ 8.  , 21.89, 32.28],\n",
       "       [ 9.  , 17.92, 26.47],\n",
       "       [10.  , 14.84, 21.45],\n",
       "       [11.  ,  8.51, 16.31],\n",
       "       [12.  ,  6.55, 13.13]])"
      ]
     },
     "execution_count": 12,
     "metadata": {},
     "output_type": "execute_result"
    }
   ],
   "source": [
    "df.values"
   ]
  },
  {
   "cell_type": "code",
   "execution_count": 13,
   "metadata": {},
   "outputs": [
    {
     "data": {
      "text/html": [
       "<div>\n",
       "<style scoped>\n",
       "    .dataframe tbody tr th:only-of-type {\n",
       "        vertical-align: middle;\n",
       "    }\n",
       "\n",
       "    .dataframe tbody tr th {\n",
       "        vertical-align: top;\n",
       "    }\n",
       "\n",
       "    .dataframe thead th {\n",
       "        text-align: right;\n",
       "    }\n",
       "</style>\n",
       "<table border=\"1\" class=\"dataframe\">\n",
       "  <thead>\n",
       "    <tr style=\"text-align: right;\">\n",
       "      <th></th>\n",
       "      <th>Month</th>\n",
       "      <th>Min</th>\n",
       "      <th>Max</th>\n",
       "    </tr>\n",
       "  </thead>\n",
       "  <tbody>\n",
       "    <tr>\n",
       "      <th>0</th>\n",
       "      <td>1</td>\n",
       "      <td>3.89</td>\n",
       "      <td>9.81</td>\n",
       "    </tr>\n",
       "    <tr>\n",
       "      <th>1</th>\n",
       "      <td>2</td>\n",
       "      <td>5.68</td>\n",
       "      <td>12.54</td>\n",
       "    </tr>\n",
       "    <tr>\n",
       "      <th>2</th>\n",
       "      <td>3</td>\n",
       "      <td>7.79</td>\n",
       "      <td>15.39</td>\n",
       "    </tr>\n",
       "    <tr>\n",
       "      <th>3</th>\n",
       "      <td>4</td>\n",
       "      <td>11.21</td>\n",
       "      <td>19.47</td>\n",
       "    </tr>\n",
       "    <tr>\n",
       "      <th>4</th>\n",
       "      <td>5</td>\n",
       "      <td>14.10</td>\n",
       "      <td>24.65</td>\n",
       "    </tr>\n",
       "  </tbody>\n",
       "</table>\n",
       "</div>"
      ],
      "text/plain": [
       "   Month    Min    Max\n",
       "0      1   3.89   9.81\n",
       "1      2   5.68  12.54\n",
       "2      3   7.79  15.39\n",
       "3      4  11.21  19.47\n",
       "4      5  14.10  24.65"
      ]
     },
     "execution_count": 13,
     "metadata": {},
     "output_type": "execute_result"
    }
   ],
   "source": [
    "df.head()"
   ]
  },
  {
   "cell_type": "code",
   "execution_count": 14,
   "metadata": {},
   "outputs": [
    {
     "data": {
      "text/html": [
       "<div>\n",
       "<style scoped>\n",
       "    .dataframe tbody tr th:only-of-type {\n",
       "        vertical-align: middle;\n",
       "    }\n",
       "\n",
       "    .dataframe tbody tr th {\n",
       "        vertical-align: top;\n",
       "    }\n",
       "\n",
       "    .dataframe thead th {\n",
       "        text-align: right;\n",
       "    }\n",
       "</style>\n",
       "<table border=\"1\" class=\"dataframe\">\n",
       "  <thead>\n",
       "    <tr style=\"text-align: right;\">\n",
       "      <th></th>\n",
       "      <th>Month</th>\n",
       "      <th>Min</th>\n",
       "      <th>Max</th>\n",
       "    </tr>\n",
       "  </thead>\n",
       "  <tbody>\n",
       "    <tr>\n",
       "      <th>7</th>\n",
       "      <td>8</td>\n",
       "      <td>21.89</td>\n",
       "      <td>32.28</td>\n",
       "    </tr>\n",
       "    <tr>\n",
       "      <th>8</th>\n",
       "      <td>9</td>\n",
       "      <td>17.92</td>\n",
       "      <td>26.47</td>\n",
       "    </tr>\n",
       "    <tr>\n",
       "      <th>9</th>\n",
       "      <td>10</td>\n",
       "      <td>14.84</td>\n",
       "      <td>21.45</td>\n",
       "    </tr>\n",
       "    <tr>\n",
       "      <th>10</th>\n",
       "      <td>11</td>\n",
       "      <td>8.51</td>\n",
       "      <td>16.31</td>\n",
       "    </tr>\n",
       "    <tr>\n",
       "      <th>11</th>\n",
       "      <td>12</td>\n",
       "      <td>6.55</td>\n",
       "      <td>13.13</td>\n",
       "    </tr>\n",
       "  </tbody>\n",
       "</table>\n",
       "</div>"
      ],
      "text/plain": [
       "    Month    Min    Max\n",
       "7       8  21.89  32.28\n",
       "8       9  17.92  26.47\n",
       "9      10  14.84  21.45\n",
       "10     11   8.51  16.31\n",
       "11     12   6.55  13.13"
      ]
     },
     "execution_count": 14,
     "metadata": {},
     "output_type": "execute_result"
    }
   ],
   "source": [
    "df.tail()"
   ]
  },
  {
   "cell_type": "code",
   "execution_count": 15,
   "metadata": {},
   "outputs": [
    {
     "data": {
      "text/html": [
       "<div>\n",
       "<style scoped>\n",
       "    .dataframe tbody tr th:only-of-type {\n",
       "        vertical-align: middle;\n",
       "    }\n",
       "\n",
       "    .dataframe tbody tr th {\n",
       "        vertical-align: top;\n",
       "    }\n",
       "\n",
       "    .dataframe thead th {\n",
       "        text-align: right;\n",
       "    }\n",
       "</style>\n",
       "<table border=\"1\" class=\"dataframe\">\n",
       "  <thead>\n",
       "    <tr style=\"text-align: right;\">\n",
       "      <th></th>\n",
       "      <th>Month</th>\n",
       "      <th>Minimum Temperature</th>\n",
       "      <th>Maximum temperature</th>\n",
       "    </tr>\n",
       "  </thead>\n",
       "  <tbody>\n",
       "    <tr>\n",
       "      <th>0</th>\n",
       "      <td>1</td>\n",
       "      <td>3.89</td>\n",
       "      <td>9.81</td>\n",
       "    </tr>\n",
       "    <tr>\n",
       "      <th>1</th>\n",
       "      <td>2</td>\n",
       "      <td>5.68</td>\n",
       "      <td>12.54</td>\n",
       "    </tr>\n",
       "    <tr>\n",
       "      <th>2</th>\n",
       "      <td>3</td>\n",
       "      <td>7.79</td>\n",
       "      <td>15.39</td>\n",
       "    </tr>\n",
       "    <tr>\n",
       "      <th>3</th>\n",
       "      <td>4</td>\n",
       "      <td>11.21</td>\n",
       "      <td>19.47</td>\n",
       "    </tr>\n",
       "    <tr>\n",
       "      <th>4</th>\n",
       "      <td>5</td>\n",
       "      <td>14.10</td>\n",
       "      <td>24.65</td>\n",
       "    </tr>\n",
       "    <tr>\n",
       "      <th>5</th>\n",
       "      <td>6</td>\n",
       "      <td>18.52</td>\n",
       "      <td>28.37</td>\n",
       "    </tr>\n",
       "    <tr>\n",
       "      <th>6</th>\n",
       "      <td>7</td>\n",
       "      <td>20.79</td>\n",
       "      <td>29.17</td>\n",
       "    </tr>\n",
       "    <tr>\n",
       "      <th>7</th>\n",
       "      <td>8</td>\n",
       "      <td>21.89</td>\n",
       "      <td>32.28</td>\n",
       "    </tr>\n",
       "    <tr>\n",
       "      <th>8</th>\n",
       "      <td>9</td>\n",
       "      <td>17.92</td>\n",
       "      <td>26.47</td>\n",
       "    </tr>\n",
       "    <tr>\n",
       "      <th>9</th>\n",
       "      <td>10</td>\n",
       "      <td>14.84</td>\n",
       "      <td>21.45</td>\n",
       "    </tr>\n",
       "    <tr>\n",
       "      <th>10</th>\n",
       "      <td>11</td>\n",
       "      <td>8.51</td>\n",
       "      <td>16.31</td>\n",
       "    </tr>\n",
       "    <tr>\n",
       "      <th>11</th>\n",
       "      <td>12</td>\n",
       "      <td>6.55</td>\n",
       "      <td>13.13</td>\n",
       "    </tr>\n",
       "  </tbody>\n",
       "</table>\n",
       "</div>"
      ],
      "text/plain": [
       "    Month  Minimum Temperature  Maximum temperature\n",
       "0       1                 3.89                 9.81\n",
       "1       2                 5.68                12.54\n",
       "2       3                 7.79                15.39\n",
       "3       4                11.21                19.47\n",
       "4       5                14.10                24.65\n",
       "5       6                18.52                28.37\n",
       "6       7                20.79                29.17\n",
       "7       8                21.89                32.28\n",
       "8       9                17.92                26.47\n",
       "9      10                14.84                21.45\n",
       "10     11                 8.51                16.31\n",
       "11     12                 6.55                13.13"
      ]
     },
     "execution_count": 15,
     "metadata": {},
     "output_type": "execute_result"
    }
   ],
   "source": [
    "df = pd.read_csv('temp.txt',skiprows=3,delim_whitespace=True,names =['Month','Minimum Temperature','Maximum temperature'])\n",
    "df"
   ]
  },
  {
   "cell_type": "code",
   "execution_count": 16,
   "metadata": {},
   "outputs": [
    {
     "data": {
      "image/png": "[encoded data removed]",
      "text/plain": [
       "<Figure size 432x288 with 1 Axes>"
      ]
     },
     "metadata": {
      "needs_background": "light"
     },
     "output_type": "display_data"
    }
   ],
   "source": [
    "fig, ax = plt.subplots(figsize=(6, 4))\n",
    "ax.plot(df.Month,df['Minimum Temperature'])\n",
    "ax.plot(df.Month,df['Maximum temperature'])\n",
    "plt.show()"
   ]
  },
  {
   "cell_type": "code",
   "execution_count": 17,
   "metadata": {},
   "outputs": [
    {
     "name": "stdout",
     "output_type": "stream",
     "text": [
      "Requirement already satisfied: xlrd in c:\\users\\lrbk\\miniconda3\\lib\\site-packages (1.2.0)\n"
     ]
    }
   ],
   "source": [
    "!pip install xlrd"
   ]
  },
  {
   "cell_type": "code",
   "execution_count": 18,
   "metadata": {},
   "outputs": [
    {
     "data": {
      "text/html": [
       "<div>\n",
       "<style scoped>\n",
       "    .dataframe tbody tr th:only-of-type {\n",
       "        vertical-align: middle;\n",
       "    }\n",
       "\n",
       "    .dataframe tbody tr th {\n",
       "        vertical-align: top;\n",
       "    }\n",
       "\n",
       "    .dataframe thead th {\n",
       "        text-align: right;\n",
       "    }\n",
       "</style>\n",
       "<table border=\"1\" class=\"dataframe\">\n",
       "  <thead>\n",
       "    <tr style=\"text-align: right;\">\n",
       "      <th></th>\n",
       "      <th>Month</th>\n",
       "      <th>Min</th>\n",
       "      <th>Max</th>\n",
       "    </tr>\n",
       "  </thead>\n",
       "  <tbody>\n",
       "    <tr>\n",
       "      <th>0</th>\n",
       "      <td>1</td>\n",
       "      <td>3.89</td>\n",
       "      <td>9.81</td>\n",
       "    </tr>\n",
       "    <tr>\n",
       "      <th>1</th>\n",
       "      <td>2</td>\n",
       "      <td>5.68</td>\n",
       "      <td>12.54</td>\n",
       "    </tr>\n",
       "    <tr>\n",
       "      <th>2</th>\n",
       "      <td>3</td>\n",
       "      <td>7.79</td>\n",
       "      <td>15.39</td>\n",
       "    </tr>\n",
       "    <tr>\n",
       "      <th>3</th>\n",
       "      <td>4</td>\n",
       "      <td>11.21</td>\n",
       "      <td>19.47</td>\n",
       "    </tr>\n",
       "    <tr>\n",
       "      <th>4</th>\n",
       "      <td>5</td>\n",
       "      <td>14.10</td>\n",
       "      <td>24.65</td>\n",
       "    </tr>\n",
       "    <tr>\n",
       "      <th>5</th>\n",
       "      <td>6</td>\n",
       "      <td>18.52</td>\n",
       "      <td>28.37</td>\n",
       "    </tr>\n",
       "    <tr>\n",
       "      <th>6</th>\n",
       "      <td>7</td>\n",
       "      <td>20.79</td>\n",
       "      <td>29.17</td>\n",
       "    </tr>\n",
       "    <tr>\n",
       "      <th>7</th>\n",
       "      <td>8</td>\n",
       "      <td>21.89</td>\n",
       "      <td>32.28</td>\n",
       "    </tr>\n",
       "    <tr>\n",
       "      <th>8</th>\n",
       "      <td>9</td>\n",
       "      <td>17.92</td>\n",
       "      <td>26.47</td>\n",
       "    </tr>\n",
       "    <tr>\n",
       "      <th>9</th>\n",
       "      <td>10</td>\n",
       "      <td>14.84</td>\n",
       "      <td>21.45</td>\n",
       "    </tr>\n",
       "    <tr>\n",
       "      <th>10</th>\n",
       "      <td>11</td>\n",
       "      <td>8.51</td>\n",
       "      <td>16.31</td>\n",
       "    </tr>\n",
       "    <tr>\n",
       "      <th>11</th>\n",
       "      <td>12</td>\n",
       "      <td>6.55</td>\n",
       "      <td>13.13</td>\n",
       "    </tr>\n",
       "  </tbody>\n",
       "</table>\n",
       "</div>"
      ],
      "text/plain": [
       "    Month    Min    Max\n",
       "0       1   3.89   9.81\n",
       "1       2   5.68  12.54\n",
       "2       3   7.79  15.39\n",
       "3       4  11.21  19.47\n",
       "4       5  14.10  24.65\n",
       "5       6  18.52  28.37\n",
       "6       7  20.79  29.17\n",
       "7       8  21.89  32.28\n",
       "8       9  17.92  26.47\n",
       "9      10  14.84  21.45\n",
       "10     11   8.51  16.31\n",
       "11     12   6.55  13.13"
      ]
     },
     "execution_count": 18,
     "metadata": {},
     "output_type": "execute_result"
    }
   ],
   "source": [
    "pd.read_excel('temp.xlsx')"
   ]
  },
  {
   "cell_type": "code",
   "execution_count": 19,
   "metadata": {},
   "outputs": [],
   "source": [
    "import datetime as dt"
   ]
  },
  {
   "cell_type": "code",
   "execution_count": 20,
   "metadata": {},
   "outputs": [
    {
     "data": {
      "text/plain": [
       "datetime.datetime(2020, 10, 4, 13, 15, 7, 139162)"
      ]
     },
     "execution_count": 20,
     "metadata": {},
     "output_type": "execute_result"
    }
   ],
   "source": [
    "t0 = dt.datetime.now()\n",
    "t0 #year,month,day,hour,minute,second ..."
   ]
  },
  {
   "cell_type": "code",
   "execution_count": 21,
   "metadata": {},
   "outputs": [
    {
     "data": {
      "text/plain": [
       "'2020-10-04'"
      ]
     },
     "execution_count": 21,
     "metadata": {},
     "output_type": "execute_result"
    }
   ],
   "source": [
    "t0.strftime('%Y-%m-%d')"
   ]
  },
  {
   "cell_type": "code",
   "execution_count": 22,
   "metadata": {},
   "outputs": [
    {
     "data": {
      "text/plain": [
       "'04-10-2020'"
      ]
     },
     "execution_count": 22,
     "metadata": {},
     "output_type": "execute_result"
    }
   ],
   "source": [
    "t0.strftime('%d-%m-%Y')"
   ]
  },
  {
   "cell_type": "code",
   "execution_count": 23,
   "metadata": {},
   "outputs": [
    {
     "data": {
      "text/plain": [
       "'04-Oct-2020'"
      ]
     },
     "execution_count": 23,
     "metadata": {},
     "output_type": "execute_result"
    }
   ],
   "source": [
    "t0.strftime('%d-%b-%Y')"
   ]
  },
  {
   "cell_type": "code",
   "execution_count": 24,
   "metadata": {},
   "outputs": [
    {
     "data": {
      "text/plain": [
       "'13:15:07'"
      ]
     },
     "execution_count": 24,
     "metadata": {},
     "output_type": "execute_result"
    }
   ],
   "source": [
    "t0.strftime('%H:%M:%S')"
   ]
  },
  {
   "cell_type": "code",
   "execution_count": 25,
   "metadata": {},
   "outputs": [
    {
     "data": {
      "text/plain": [
       "'2020-October-04 13:15:07'"
      ]
     },
     "execution_count": 25,
     "metadata": {},
     "output_type": "execute_result"
    }
   ],
   "source": [
    "t0.strftime('%Y-%B-%d %H:%M:%S')"
   ]
  },
  {
   "cell_type": "code",
   "execution_count": 26,
   "metadata": {},
   "outputs": [
    {
     "data": {
      "text/plain": [
       "0    160.0\n",
       "1    155.1\n",
       "2    140.4\n",
       "3    115.9\n",
       "4     81.6\n",
       "5     37.5\n",
       "dtype: float64"
      ]
     },
     "execution_count": 26,
     "metadata": {},
     "output_type": "execute_result"
    }
   ],
   "source": [
    "#Series\n",
    "ht = pd.Series([160.0-4.9*t*t for t in range(6)])\n",
    "ht"
   ]
  },
  {
   "cell_type": "code",
   "execution_count": 27,
   "metadata": {},
   "outputs": [
    {
     "data": {
      "text/plain": [
       "160.0"
      ]
     },
     "execution_count": 27,
     "metadata": {},
     "output_type": "execute_result"
    }
   ],
   "source": [
    "ht[0]"
   ]
  },
  {
   "cell_type": "code",
   "execution_count": 28,
   "metadata": {},
   "outputs": [
    {
     "data": {
      "text/plain": [
       "array([160. , 155.1, 140.4, 115.9,  81.6,  37.5])"
      ]
     },
     "execution_count": 28,
     "metadata": {},
     "output_type": "execute_result"
    }
   ],
   "source": [
    "ht.values"
   ]
  },
  {
   "cell_type": "code",
   "execution_count": 29,
   "metadata": {},
   "outputs": [
    {
     "data": {
      "text/plain": [
       "RangeIndex(start=0, stop=6, step=1)"
      ]
     },
     "execution_count": 29,
     "metadata": {},
     "output_type": "execute_result"
    }
   ],
   "source": [
    "ht.index"
   ]
  },
  {
   "cell_type": "code",
   "execution_count": 30,
   "metadata": {},
   "outputs": [
    {
     "data": {
      "text/plain": [
       "Juan       188\n",
       "Pedro      157\n",
       "Ian        173\n",
       "Mario      169\n",
       "Gonzalo    155\n",
       "dtype: int64"
      ]
     },
     "execution_count": 30,
     "metadata": {},
     "output_type": "execute_result"
    }
   ],
   "source": [
    "heights = pd.Series([188, 157, 173, 169, 155],\n",
    "                    index=['Juan', 'Pedro', 'Ian','Mario', 'Gonzalo'])\n",
    "\n",
    "heights"
   ]
  },
  {
   "cell_type": "code",
   "execution_count": 31,
   "metadata": {},
   "outputs": [
    {
     "data": {
      "text/plain": [
       "{'Juan': 188, 'Pedro': 157, 'Ian': 173, 'Mario': 169, 'Gonzalo': 155}"
      ]
     },
     "execution_count": 31,
     "metadata": {},
     "output_type": "execute_result"
    }
   ],
   "source": [
    "heights.to_dict()"
   ]
  },
  {
   "cell_type": "code",
   "execution_count": 32,
   "metadata": {},
   "outputs": [
    {
     "data": {
      "text/plain": [
       "DatetimeIndex(['2017-07-22', '2017-07-23', '2017-07-24', '2017-07-25',\n",
       "               '2017-07-26'],\n",
       "              dtype='datetime64[ns]', freq='D')"
      ]
     },
     "execution_count": 32,
     "metadata": {},
     "output_type": "execute_result"
    }
   ],
   "source": [
    "dtr = pd.date_range('2017-07-22', periods=5)\n",
    "dtr"
   ]
  },
  {
   "cell_type": "code",
   "execution_count": 33,
   "metadata": {},
   "outputs": [
    {
     "data": {
      "text/plain": [
       "2017-07-22    188\n",
       "2017-07-23    157\n",
       "2017-07-24    173\n",
       "2017-07-25    169\n",
       "2017-07-26    155\n",
       "Freq: D, dtype: int64"
      ]
     },
     "execution_count": 33,
     "metadata": {},
     "output_type": "execute_result"
    }
   ],
   "source": [
    "heights.index = dtr\n",
    "heights"
   ]
  },
  {
   "cell_type": "code",
   "execution_count": 34,
   "metadata": {},
   "outputs": [
    {
     "data": {
      "text/plain": [
       "{'mat': ['silica', 'titania', 'PMMA', 'PS'],\n",
       " 'index': [1.46, 2.4, 1.49, 1.59],\n",
       " 'density': [2.03, 4.2, 1.19, 1.05]}"
      ]
     },
     "execution_count": 34,
     "metadata": {},
     "output_type": "execute_result"
    }
   ],
   "source": [
    "optmat = {'mat': ['silica', 'titania', 'PMMA', 'PS'],\n",
    "          'index': [1.46, 2.40, 1.49, 1.59],\n",
    "          'density': [2.03, 4.2, 1.19, 1.05]}\n",
    "optmat"
   ]
  },
  {
   "cell_type": "code",
   "execution_count": 35,
   "metadata": {},
   "outputs": [
    {
     "data": {
      "text/html": [
       "<div>\n",
       "<style scoped>\n",
       "    .dataframe tbody tr th:only-of-type {\n",
       "        vertical-align: middle;\n",
       "    }\n",
       "\n",
       "    .dataframe tbody tr th {\n",
       "        vertical-align: top;\n",
       "    }\n",
       "\n",
       "    .dataframe thead th {\n",
       "        text-align: right;\n",
       "    }\n",
       "</style>\n",
       "<table border=\"1\" class=\"dataframe\">\n",
       "  <thead>\n",
       "    <tr style=\"text-align: right;\">\n",
       "      <th></th>\n",
       "      <th>mat</th>\n",
       "      <th>index</th>\n",
       "      <th>density</th>\n",
       "    </tr>\n",
       "  </thead>\n",
       "  <tbody>\n",
       "    <tr>\n",
       "      <th>0</th>\n",
       "      <td>silica</td>\n",
       "      <td>1.46</td>\n",
       "      <td>2.03</td>\n",
       "    </tr>\n",
       "    <tr>\n",
       "      <th>1</th>\n",
       "      <td>titania</td>\n",
       "      <td>2.40</td>\n",
       "      <td>4.20</td>\n",
       "    </tr>\n",
       "    <tr>\n",
       "      <th>2</th>\n",
       "      <td>PMMA</td>\n",
       "      <td>1.49</td>\n",
       "      <td>1.19</td>\n",
       "    </tr>\n",
       "    <tr>\n",
       "      <th>3</th>\n",
       "      <td>PS</td>\n",
       "      <td>1.59</td>\n",
       "      <td>1.05</td>\n",
       "    </tr>\n",
       "  </tbody>\n",
       "</table>\n",
       "</div>"
      ],
      "text/plain": [
       "       mat  index  density\n",
       "0   silica   1.46     2.03\n",
       "1  titania   2.40     4.20\n",
       "2     PMMA   1.49     1.19\n",
       "3       PS   1.59     1.05"
      ]
     },
     "execution_count": 35,
     "metadata": {},
     "output_type": "execute_result"
    }
   ],
   "source": [
    "omdf = pd.DataFrame(optmat)\n",
    "omdf"
   ]
  },
  {
   "cell_type": "code",
   "execution_count": 36,
   "metadata": {},
   "outputs": [
    {
     "data": {
      "text/html": [
       "<div>\n",
       "<style scoped>\n",
       "    .dataframe tbody tr th:only-of-type {\n",
       "        vertical-align: middle;\n",
       "    }\n",
       "\n",
       "    .dataframe tbody tr th {\n",
       "        vertical-align: top;\n",
       "    }\n",
       "\n",
       "    .dataframe thead th {\n",
       "        text-align: right;\n",
       "    }\n",
       "</style>\n",
       "<table border=\"1\" class=\"dataframe\">\n",
       "  <thead>\n",
       "    <tr style=\"text-align: right;\">\n",
       "      <th></th>\n",
       "      <th>mat</th>\n",
       "      <th>density</th>\n",
       "      <th>index</th>\n",
       "    </tr>\n",
       "  </thead>\n",
       "  <tbody>\n",
       "    <tr>\n",
       "      <th>0</th>\n",
       "      <td>silica</td>\n",
       "      <td>2.03</td>\n",
       "      <td>1.46</td>\n",
       "    </tr>\n",
       "    <tr>\n",
       "      <th>1</th>\n",
       "      <td>titania</td>\n",
       "      <td>4.20</td>\n",
       "      <td>2.40</td>\n",
       "    </tr>\n",
       "    <tr>\n",
       "      <th>2</th>\n",
       "      <td>PMMA</td>\n",
       "      <td>1.19</td>\n",
       "      <td>1.49</td>\n",
       "    </tr>\n",
       "    <tr>\n",
       "      <th>3</th>\n",
       "      <td>PS</td>\n",
       "      <td>1.05</td>\n",
       "      <td>1.59</td>\n",
       "    </tr>\n",
       "  </tbody>\n",
       "</table>\n",
       "</div>"
      ],
      "text/plain": [
       "       mat  density  index\n",
       "0   silica     2.03   1.46\n",
       "1  titania     4.20   2.40\n",
       "2     PMMA     1.19   1.49\n",
       "3       PS     1.05   1.59"
      ]
     },
     "execution_count": 36,
     "metadata": {},
     "output_type": "execute_result"
    }
   ],
   "source": [
    "omdf = pd.DataFrame(optmat, columns=['mat', 'density','index'])\n",
    "omdf"
   ]
  },
  {
   "cell_type": "code",
   "execution_count": 37,
   "metadata": {},
   "outputs": [
    {
     "data": {
      "text/html": [
       "<div>\n",
       "<style scoped>\n",
       "    .dataframe tbody tr th:only-of-type {\n",
       "        vertical-align: middle;\n",
       "    }\n",
       "\n",
       "    .dataframe tbody tr th {\n",
       "        vertical-align: top;\n",
       "    }\n",
       "\n",
       "    .dataframe thead th {\n",
       "        text-align: right;\n",
       "    }\n",
       "</style>\n",
       "<table border=\"1\" class=\"dataframe\">\n",
       "  <thead>\n",
       "    <tr style=\"text-align: right;\">\n",
       "      <th></th>\n",
       "      <th>index</th>\n",
       "      <th>density</th>\n",
       "    </tr>\n",
       "  </thead>\n",
       "  <tbody>\n",
       "    <tr>\n",
       "      <th>silica</th>\n",
       "      <td>NaN</td>\n",
       "      <td>NaN</td>\n",
       "    </tr>\n",
       "    <tr>\n",
       "      <th>titania</th>\n",
       "      <td>NaN</td>\n",
       "      <td>NaN</td>\n",
       "    </tr>\n",
       "    <tr>\n",
       "      <th>PMMA</th>\n",
       "      <td>NaN</td>\n",
       "      <td>NaN</td>\n",
       "    </tr>\n",
       "    <tr>\n",
       "      <th>PS</th>\n",
       "      <td>NaN</td>\n",
       "      <td>NaN</td>\n",
       "    </tr>\n",
       "  </tbody>\n",
       "</table>\n",
       "</div>"
      ],
      "text/plain": [
       "        index density\n",
       "silica    NaN     NaN\n",
       "titania   NaN     NaN\n",
       "PMMA      NaN     NaN\n",
       "PS        NaN     NaN"
      ]
     },
     "execution_count": 37,
     "metadata": {},
     "output_type": "execute_result"
    }
   ],
   "source": [
    "omdf1 = pd.DataFrame(index=['silica', 'titania','PMMA', 'PS'],\n",
    "                     columns={'density', 'index'})\n",
    "omdf1"
   ]
  },
  {
   "cell_type": "code",
   "execution_count": 38,
   "metadata": {},
   "outputs": [
    {
     "data": {
      "text/html": [
       "<div>\n",
       "<style scoped>\n",
       "    .dataframe tbody tr th:only-of-type {\n",
       "        vertical-align: middle;\n",
       "    }\n",
       "\n",
       "    .dataframe tbody tr th {\n",
       "        vertical-align: top;\n",
       "    }\n",
       "\n",
       "    .dataframe thead th {\n",
       "        text-align: right;\n",
       "    }\n",
       "</style>\n",
       "<table border=\"1\" class=\"dataframe\">\n",
       "  <thead>\n",
       "    <tr style=\"text-align: right;\">\n",
       "      <th></th>\n",
       "      <th>index</th>\n",
       "      <th>density</th>\n",
       "    </tr>\n",
       "  </thead>\n",
       "  <tbody>\n",
       "    <tr>\n",
       "      <th>silica</th>\n",
       "      <td>NaN</td>\n",
       "      <td>NaN</td>\n",
       "    </tr>\n",
       "    <tr>\n",
       "      <th>titania</th>\n",
       "      <td>NaN</td>\n",
       "      <td>NaN</td>\n",
       "    </tr>\n",
       "    <tr>\n",
       "      <th>PMMA</th>\n",
       "      <td>NaN</td>\n",
       "      <td>NaN</td>\n",
       "    </tr>\n",
       "    <tr>\n",
       "      <th>PS</th>\n",
       "      <td>1.05</td>\n",
       "      <td>1.59</td>\n",
       "    </tr>\n",
       "  </tbody>\n",
       "</table>\n",
       "</div>"
      ],
      "text/plain": [
       "        index density\n",
       "silica    NaN     NaN\n",
       "titania   NaN     NaN\n",
       "PMMA      NaN     NaN\n",
       "PS       1.05    1.59"
      ]
     },
     "execution_count": 38,
     "metadata": {},
     "output_type": "execute_result"
    }
   ],
   "source": [
    "omdf1.loc['PS', ('index', 'density')] = (1.05, 1.59)\n",
    "omdf1"
   ]
  },
  {
   "cell_type": "code",
   "execution_count": 39,
   "metadata": {},
   "outputs": [
    {
     "data": {
      "text/plain": [
       "index      object\n",
       "density    object\n",
       "dtype: object"
      ]
     },
     "execution_count": 39,
     "metadata": {},
     "output_type": "execute_result"
    }
   ],
   "source": [
    "omdf1.dtypes"
   ]
  },
  {
   "cell_type": "code",
   "execution_count": 40,
   "metadata": {},
   "outputs": [
    {
     "data": {
      "text/plain": [
       "index      float64\n",
       "density    float64\n",
       "dtype: object"
      ]
     },
     "execution_count": 40,
     "metadata": {},
     "output_type": "execute_result"
    }
   ],
   "source": [
    "omdf1[['index', 'density']] = omdf1[['index', 'density']].apply(pd.to_numeric)\n",
    "omdf1.dtypes"
   ]
  },
  {
   "cell_type": "code",
   "execution_count": 63,
   "metadata": {},
   "outputs": [
    {
     "data": {
      "text/html": [
       "<div>\n",
       "<style scoped>\n",
       "    .dataframe tbody tr th:only-of-type {\n",
       "        vertical-align: middle;\n",
       "    }\n",
       "\n",
       "    .dataframe tbody tr th {\n",
       "        vertical-align: top;\n",
       "    }\n",
       "\n",
       "    .dataframe thead th {\n",
       "        text-align: right;\n",
       "    }\n",
       "</style>\n",
       "<table border=\"1\" class=\"dataframe\">\n",
       "  <thead>\n",
       "    <tr style=\"text-align: right;\">\n",
       "      <th></th>\n",
       "      <th>Nota: Información primaria - sin control de calidad</th>\n",
       "      <th>Unnamed: 1</th>\n",
       "      <th>Unnamed: 2</th>\n",
       "      <th>Unnamed: 3</th>\n",
       "      <th>Unnamed: 4</th>\n",
       "      <th>Unnamed: 5</th>\n",
       "      <th>Unnamed: 6</th>\n",
       "    </tr>\n",
       "  </thead>\n",
       "  <tbody>\n",
       "    <tr>\n",
       "      <th>0</th>\n",
       "      <td>NaN</td>\n",
       "      <td>NaN</td>\n",
       "      <td>NaN</td>\n",
       "      <td>NaN</td>\n",
       "      <td>NaN</td>\n",
       "      <td>NaN</td>\n",
       "      <td>NaN</td>\n",
       "    </tr>\n",
       "    <tr>\n",
       "      <th>1</th>\n",
       "      <td>STATION</td>\n",
       "      <td>OPERATOR</td>\n",
       "      <td>VARIABLE</td>\n",
       "      <td>DATE</td>\n",
       "      <td>HOUR</td>\n",
       "      <td>VALUE</td>\n",
       "      <td>MEASUREMENT UNIT</td>\n",
       "    </tr>\n",
       "    <tr>\n",
       "      <th>2</th>\n",
       "      <td>PUENTE DEL DIABLO</td>\n",
       "      <td>SERVICIO NACIONAL METEOROLOGÍA E HIDROLOGÍA</td>\n",
       "      <td>CAUDAL INS</td>\n",
       "      <td>2016-08-01 00:00:00</td>\n",
       "      <td>06:00:00</td>\n",
       "      <td>5.832</td>\n",
       "      <td>m³/s</td>\n",
       "    </tr>\n",
       "    <tr>\n",
       "      <th>3</th>\n",
       "      <td>PUENTE DEL DIABLO</td>\n",
       "      <td>SERVICIO NACIONAL METEOROLOGÍA E HIDROLOGÍA</td>\n",
       "      <td>CAUDAL INS</td>\n",
       "      <td>2016-10-01 00:00:00</td>\n",
       "      <td>06:00:00</td>\n",
       "      <td>6.13</td>\n",
       "      <td>m³/s</td>\n",
       "    </tr>\n",
       "    <tr>\n",
       "      <th>4</th>\n",
       "      <td>PUENTE DEL DIABLO</td>\n",
       "      <td>SERVICIO NACIONAL METEOROLOGÍA E HIDROLOGÍA</td>\n",
       "      <td>CAUDAL INS</td>\n",
       "      <td>2016-10-01 00:00:00</td>\n",
       "      <td>08:00:00</td>\n",
       "      <td>6.13</td>\n",
       "      <td>m³/s</td>\n",
       "    </tr>\n",
       "    <tr>\n",
       "      <th>...</th>\n",
       "      <td>...</td>\n",
       "      <td>...</td>\n",
       "      <td>...</td>\n",
       "      <td>...</td>\n",
       "      <td>...</td>\n",
       "      <td>...</td>\n",
       "      <td>...</td>\n",
       "    </tr>\n",
       "    <tr>\n",
       "      <th>1176</th>\n",
       "      <td>PUENTE DEL DIABLO</td>\n",
       "      <td>SERVICIO NACIONAL METEOROLOGÍA E HIDROLOGÍA</td>\n",
       "      <td>CAUDAL INS</td>\n",
       "      <td>25/09/2020</td>\n",
       "      <td>06:00:00</td>\n",
       "      <td>8</td>\n",
       "      <td>m³/s</td>\n",
       "    </tr>\n",
       "    <tr>\n",
       "      <th>1177</th>\n",
       "      <td>PUENTE DEL DIABLO</td>\n",
       "      <td>SERVICIO NACIONAL METEOROLOGÍA E HIDROLOGÍA</td>\n",
       "      <td>CAUDAL INS</td>\n",
       "      <td>28/09/2020</td>\n",
       "      <td>06:00:00</td>\n",
       "      <td>8.3</td>\n",
       "      <td>m³/s</td>\n",
       "    </tr>\n",
       "    <tr>\n",
       "      <th>1178</th>\n",
       "      <td>PUENTE DEL DIABLO</td>\n",
       "      <td>SERVICIO NACIONAL METEOROLOGÍA E HIDROLOGÍA</td>\n",
       "      <td>CAUDAL INS</td>\n",
       "      <td>30/09/2020</td>\n",
       "      <td>06:00:00</td>\n",
       "      <td>8</td>\n",
       "      <td>m³/s</td>\n",
       "    </tr>\n",
       "    <tr>\n",
       "      <th>1179</th>\n",
       "      <td>PUENTE DEL DIABLO</td>\n",
       "      <td>SERVICIO NACIONAL METEOROLOGÍA E HIDROLOGÍA</td>\n",
       "      <td>CAUDAL INS</td>\n",
       "      <td>2020-01-10 00:00:00</td>\n",
       "      <td>06:00:00</td>\n",
       "      <td>8</td>\n",
       "      <td>m³/s</td>\n",
       "    </tr>\n",
       "    <tr>\n",
       "      <th>1180</th>\n",
       "      <td>PUENTE DEL DIABLO</td>\n",
       "      <td>SERVICIO NACIONAL METEOROLOGÍA E HIDROLOGÍA</td>\n",
       "      <td>CAUDAL INS</td>\n",
       "      <td>2020-02-10 00:00:00</td>\n",
       "      <td>06:00:00</td>\n",
       "      <td>8</td>\n",
       "      <td>m³/s</td>\n",
       "    </tr>\n",
       "  </tbody>\n",
       "</table>\n",
       "<p>1181 rows × 7 columns</p>\n",
       "</div>"
      ],
      "text/plain": [
       "     Nota: Información primaria - sin control de calidad  \\\n",
       "0                                                   NaN    \n",
       "1                                               STATION    \n",
       "2                                     PUENTE DEL DIABLO    \n",
       "3                                     PUENTE DEL DIABLO    \n",
       "4                                     PUENTE DEL DIABLO    \n",
       "...                                                 ...    \n",
       "1176                                  PUENTE DEL DIABLO    \n",
       "1177                                  PUENTE DEL DIABLO    \n",
       "1178                                  PUENTE DEL DIABLO    \n",
       "1179                                  PUENTE DEL DIABLO    \n",
       "1180                                  PUENTE DEL DIABLO    \n",
       "\n",
       "                                       Unnamed: 1  Unnamed: 2  \\\n",
       "0                                             NaN         NaN   \n",
       "1                                        OPERATOR    VARIABLE   \n",
       "2     SERVICIO NACIONAL METEOROLOGÍA E HIDROLOGÍA  CAUDAL INS   \n",
       "3     SERVICIO NACIONAL METEOROLOGÍA E HIDROLOGÍA  CAUDAL INS   \n",
       "4     SERVICIO NACIONAL METEOROLOGÍA E HIDROLOGÍA  CAUDAL INS   \n",
       "...                                           ...         ...   \n",
       "1176  SERVICIO NACIONAL METEOROLOGÍA E HIDROLOGÍA  CAUDAL INS   \n",
       "1177  SERVICIO NACIONAL METEOROLOGÍA E HIDROLOGÍA  CAUDAL INS   \n",
       "1178  SERVICIO NACIONAL METEOROLOGÍA E HIDROLOGÍA  CAUDAL INS   \n",
       "1179  SERVICIO NACIONAL METEOROLOGÍA E HIDROLOGÍA  CAUDAL INS   \n",
       "1180  SERVICIO NACIONAL METEOROLOGÍA E HIDROLOGÍA  CAUDAL INS   \n",
       "\n",
       "               Unnamed: 3 Unnamed: 4 Unnamed: 5        Unnamed: 6  \n",
       "0                     NaN        NaN        NaN               NaN  \n",
       "1                    DATE       HOUR      VALUE  MEASUREMENT UNIT  \n",
       "2     2016-08-01 00:00:00   06:00:00      5.832              m³/s  \n",
       "3     2016-10-01 00:00:00   06:00:00       6.13              m³/s  \n",
       "4     2016-10-01 00:00:00   08:00:00       6.13              m³/s  \n",
       "...                   ...        ...        ...               ...  \n",
       "1176           25/09/2020   06:00:00          8              m³/s  \n",
       "1177           28/09/2020   06:00:00        8.3              m³/s  \n",
       "1178           30/09/2020   06:00:00          8              m³/s  \n",
       "1179  2020-01-10 00:00:00   06:00:00          8              m³/s  \n",
       "1180  2020-02-10 00:00:00   06:00:00          8              m³/s  \n",
       "\n",
       "[1181 rows x 7 columns]"
      ]
     },
     "execution_count": 63,
     "metadata": {},
     "output_type": "execute_result"
    }
   ],
   "source": [
    "pd.read_excel('PuenteDiablo.xlsx')"
   ]
  },
  {
   "cell_type": "code",
   "execution_count": 81,
   "metadata": {},
   "outputs": [
    {
     "data": {
      "text/html": [
       "<div>\n",
       "<style scoped>\n",
       "    .dataframe tbody tr th:only-of-type {\n",
       "        vertical-align: middle;\n",
       "    }\n",
       "\n",
       "    .dataframe tbody tr th {\n",
       "        vertical-align: top;\n",
       "    }\n",
       "\n",
       "    .dataframe thead th {\n",
       "        text-align: right;\n",
       "    }\n",
       "</style>\n",
       "<table border=\"1\" class=\"dataframe\">\n",
       "  <thead>\n",
       "    <tr style=\"text-align: right;\">\n",
       "      <th></th>\n",
       "      <th>STATION</th>\n",
       "      <th>OPERATOR</th>\n",
       "      <th>VARIABLE</th>\n",
       "      <th>DATE</th>\n",
       "      <th>HOUR</th>\n",
       "      <th>VALUE</th>\n",
       "      <th>MEASUREMENT UNIT</th>\n",
       "    </tr>\n",
       "  </thead>\n",
       "  <tbody>\n",
       "    <tr>\n",
       "      <th>0</th>\n",
       "      <td>PUENTE DEL DIABLO</td>\n",
       "      <td>SERVICIO NACIONAL METEOROLOGÍA E HIDROLOGÍA</td>\n",
       "      <td>CAUDAL INS</td>\n",
       "      <td>2016-08-01 00:00:00</td>\n",
       "      <td>06:00:00</td>\n",
       "      <td>5.832</td>\n",
       "      <td>m³/s</td>\n",
       "    </tr>\n",
       "    <tr>\n",
       "      <th>1</th>\n",
       "      <td>PUENTE DEL DIABLO</td>\n",
       "      <td>SERVICIO NACIONAL METEOROLOGÍA E HIDROLOGÍA</td>\n",
       "      <td>CAUDAL INS</td>\n",
       "      <td>2016-10-01 00:00:00</td>\n",
       "      <td>06:00:00</td>\n",
       "      <td>6.130</td>\n",
       "      <td>m³/s</td>\n",
       "    </tr>\n",
       "    <tr>\n",
       "      <th>2</th>\n",
       "      <td>PUENTE DEL DIABLO</td>\n",
       "      <td>SERVICIO NACIONAL METEOROLOGÍA E HIDROLOGÍA</td>\n",
       "      <td>CAUDAL INS</td>\n",
       "      <td>2016-10-01 00:00:00</td>\n",
       "      <td>08:00:00</td>\n",
       "      <td>6.130</td>\n",
       "      <td>m³/s</td>\n",
       "    </tr>\n",
       "    <tr>\n",
       "      <th>3</th>\n",
       "      <td>PUENTE DEL DIABLO</td>\n",
       "      <td>SERVICIO NACIONAL METEOROLOGÍA E HIDROLOGÍA</td>\n",
       "      <td>CAUDAL INS</td>\n",
       "      <td>2016-12-01 00:00:00</td>\n",
       "      <td>08:00:00</td>\n",
       "      <td>6.011</td>\n",
       "      <td>m³/s</td>\n",
       "    </tr>\n",
       "    <tr>\n",
       "      <th>4</th>\n",
       "      <td>PUENTE DEL DIABLO</td>\n",
       "      <td>SERVICIO NACIONAL METEOROLOGÍA E HIDROLOGÍA</td>\n",
       "      <td>CAUDAL INS</td>\n",
       "      <td>13/01/2016</td>\n",
       "      <td>08:00:00</td>\n",
       "      <td>5.801</td>\n",
       "      <td>m³/s</td>\n",
       "    </tr>\n",
       "    <tr>\n",
       "      <th>...</th>\n",
       "      <td>...</td>\n",
       "      <td>...</td>\n",
       "      <td>...</td>\n",
       "      <td>...</td>\n",
       "      <td>...</td>\n",
       "      <td>...</td>\n",
       "      <td>...</td>\n",
       "    </tr>\n",
       "    <tr>\n",
       "      <th>1174</th>\n",
       "      <td>PUENTE DEL DIABLO</td>\n",
       "      <td>SERVICIO NACIONAL METEOROLOGÍA E HIDROLOGÍA</td>\n",
       "      <td>CAUDAL INS</td>\n",
       "      <td>25/09/2020</td>\n",
       "      <td>06:00:00</td>\n",
       "      <td>8.000</td>\n",
       "      <td>m³/s</td>\n",
       "    </tr>\n",
       "    <tr>\n",
       "      <th>1175</th>\n",
       "      <td>PUENTE DEL DIABLO</td>\n",
       "      <td>SERVICIO NACIONAL METEOROLOGÍA E HIDROLOGÍA</td>\n",
       "      <td>CAUDAL INS</td>\n",
       "      <td>28/09/2020</td>\n",
       "      <td>06:00:00</td>\n",
       "      <td>8.300</td>\n",
       "      <td>m³/s</td>\n",
       "    </tr>\n",
       "    <tr>\n",
       "      <th>1176</th>\n",
       "      <td>PUENTE DEL DIABLO</td>\n",
       "      <td>SERVICIO NACIONAL METEOROLOGÍA E HIDROLOGÍA</td>\n",
       "      <td>CAUDAL INS</td>\n",
       "      <td>30/09/2020</td>\n",
       "      <td>06:00:00</td>\n",
       "      <td>8.000</td>\n",
       "      <td>m³/s</td>\n",
       "    </tr>\n",
       "    <tr>\n",
       "      <th>1177</th>\n",
       "      <td>PUENTE DEL DIABLO</td>\n",
       "      <td>SERVICIO NACIONAL METEOROLOGÍA E HIDROLOGÍA</td>\n",
       "      <td>CAUDAL INS</td>\n",
       "      <td>2020-01-10 00:00:00</td>\n",
       "      <td>06:00:00</td>\n",
       "      <td>8.000</td>\n",
       "      <td>m³/s</td>\n",
       "    </tr>\n",
       "    <tr>\n",
       "      <th>1178</th>\n",
       "      <td>PUENTE DEL DIABLO</td>\n",
       "      <td>SERVICIO NACIONAL METEOROLOGÍA E HIDROLOGÍA</td>\n",
       "      <td>CAUDAL INS</td>\n",
       "      <td>2020-02-10 00:00:00</td>\n",
       "      <td>06:00:00</td>\n",
       "      <td>8.000</td>\n",
       "      <td>m³/s</td>\n",
       "    </tr>\n",
       "  </tbody>\n",
       "</table>\n",
       "<p>1179 rows × 7 columns</p>\n",
       "</div>"
      ],
      "text/plain": [
       "                STATION                                     OPERATOR  \\\n",
       "0     PUENTE DEL DIABLO  SERVICIO NACIONAL METEOROLOGÍA E HIDROLOGÍA   \n",
       "1     PUENTE DEL DIABLO  SERVICIO NACIONAL METEOROLOGÍA E HIDROLOGÍA   \n",
       "2     PUENTE DEL DIABLO  SERVICIO NACIONAL METEOROLOGÍA E HIDROLOGÍA   \n",
       "3     PUENTE DEL DIABLO  SERVICIO NACIONAL METEOROLOGÍA E HIDROLOGÍA   \n",
       "4     PUENTE DEL DIABLO  SERVICIO NACIONAL METEOROLOGÍA E HIDROLOGÍA   \n",
       "...                 ...                                          ...   \n",
       "1174  PUENTE DEL DIABLO  SERVICIO NACIONAL METEOROLOGÍA E HIDROLOGÍA   \n",
       "1175  PUENTE DEL DIABLO  SERVICIO NACIONAL METEOROLOGÍA E HIDROLOGÍA   \n",
       "1176  PUENTE DEL DIABLO  SERVICIO NACIONAL METEOROLOGÍA E HIDROLOGÍA   \n",
       "1177  PUENTE DEL DIABLO  SERVICIO NACIONAL METEOROLOGÍA E HIDROLOGÍA   \n",
       "1178  PUENTE DEL DIABLO  SERVICIO NACIONAL METEOROLOGÍA E HIDROLOGÍA   \n",
       "\n",
       "        VARIABLE                 DATE      HOUR  VALUE MEASUREMENT UNIT  \n",
       "0     CAUDAL INS  2016-08-01 00:00:00  06:00:00  5.832             m³/s  \n",
       "1     CAUDAL INS  2016-10-01 00:00:00  06:00:00  6.130             m³/s  \n",
       "2     CAUDAL INS  2016-10-01 00:00:00  08:00:00  6.130             m³/s  \n",
       "3     CAUDAL INS  2016-12-01 00:00:00  08:00:00  6.011             m³/s  \n",
       "4     CAUDAL INS           13/01/2016  08:00:00  5.801             m³/s  \n",
       "...          ...                  ...       ...    ...              ...  \n",
       "1174  CAUDAL INS           25/09/2020  06:00:00  8.000             m³/s  \n",
       "1175  CAUDAL INS           28/09/2020  06:00:00  8.300             m³/s  \n",
       "1176  CAUDAL INS           30/09/2020  06:00:00  8.000             m³/s  \n",
       "1177  CAUDAL INS  2020-01-10 00:00:00  06:00:00  8.000             m³/s  \n",
       "1178  CAUDAL INS  2020-02-10 00:00:00  06:00:00  8.000             m³/s  \n",
       "\n",
       "[1179 rows x 7 columns]"
      ]
     },
     "execution_count": 81,
     "metadata": {},
     "output_type": "execute_result"
    }
   ],
   "source": [
    "ws =pd.read_excel('PuenteDiablo.xlsx',skiprows=2)\n",
    "ws"
   ]
  },
  {
   "cell_type": "code",
   "execution_count": 82,
   "metadata": {},
   "outputs": [
    {
     "data": {
      "text/html": [
       "<div>\n",
       "<style scoped>\n",
       "    .dataframe tbody tr th:only-of-type {\n",
       "        vertical-align: middle;\n",
       "    }\n",
       "\n",
       "    .dataframe tbody tr th {\n",
       "        vertical-align: top;\n",
       "    }\n",
       "\n",
       "    .dataframe thead th {\n",
       "        text-align: right;\n",
       "    }\n",
       "</style>\n",
       "<table border=\"1\" class=\"dataframe\">\n",
       "  <thead>\n",
       "    <tr style=\"text-align: right;\">\n",
       "      <th></th>\n",
       "      <th>STATION</th>\n",
       "      <th>DATE</th>\n",
       "      <th>VALUE</th>\n",
       "    </tr>\n",
       "  </thead>\n",
       "  <tbody>\n",
       "    <tr>\n",
       "      <th>0</th>\n",
       "      <td>PUENTE DEL DIABLO</td>\n",
       "      <td>2016-08-01 00:00:00</td>\n",
       "      <td>5.832</td>\n",
       "    </tr>\n",
       "    <tr>\n",
       "      <th>1</th>\n",
       "      <td>PUENTE DEL DIABLO</td>\n",
       "      <td>2016-10-01 00:00:00</td>\n",
       "      <td>6.130</td>\n",
       "    </tr>\n",
       "    <tr>\n",
       "      <th>2</th>\n",
       "      <td>PUENTE DEL DIABLO</td>\n",
       "      <td>2016-10-01 00:00:00</td>\n",
       "      <td>6.130</td>\n",
       "    </tr>\n",
       "    <tr>\n",
       "      <th>3</th>\n",
       "      <td>PUENTE DEL DIABLO</td>\n",
       "      <td>2016-12-01 00:00:00</td>\n",
       "      <td>6.011</td>\n",
       "    </tr>\n",
       "    <tr>\n",
       "      <th>4</th>\n",
       "      <td>PUENTE DEL DIABLO</td>\n",
       "      <td>13/01/2016</td>\n",
       "      <td>5.801</td>\n",
       "    </tr>\n",
       "    <tr>\n",
       "      <th>...</th>\n",
       "      <td>...</td>\n",
       "      <td>...</td>\n",
       "      <td>...</td>\n",
       "    </tr>\n",
       "    <tr>\n",
       "      <th>1174</th>\n",
       "      <td>PUENTE DEL DIABLO</td>\n",
       "      <td>25/09/2020</td>\n",
       "      <td>8.000</td>\n",
       "    </tr>\n",
       "    <tr>\n",
       "      <th>1175</th>\n",
       "      <td>PUENTE DEL DIABLO</td>\n",
       "      <td>28/09/2020</td>\n",
       "      <td>8.300</td>\n",
       "    </tr>\n",
       "    <tr>\n",
       "      <th>1176</th>\n",
       "      <td>PUENTE DEL DIABLO</td>\n",
       "      <td>30/09/2020</td>\n",
       "      <td>8.000</td>\n",
       "    </tr>\n",
       "    <tr>\n",
       "      <th>1177</th>\n",
       "      <td>PUENTE DEL DIABLO</td>\n",
       "      <td>2020-01-10 00:00:00</td>\n",
       "      <td>8.000</td>\n",
       "    </tr>\n",
       "    <tr>\n",
       "      <th>1178</th>\n",
       "      <td>PUENTE DEL DIABLO</td>\n",
       "      <td>2020-02-10 00:00:00</td>\n",
       "      <td>8.000</td>\n",
       "    </tr>\n",
       "  </tbody>\n",
       "</table>\n",
       "<p>1179 rows × 3 columns</p>\n",
       "</div>"
      ],
      "text/plain": [
       "                STATION                 DATE  VALUE\n",
       "0     PUENTE DEL DIABLO  2016-08-01 00:00:00  5.832\n",
       "1     PUENTE DEL DIABLO  2016-10-01 00:00:00  6.130\n",
       "2     PUENTE DEL DIABLO  2016-10-01 00:00:00  6.130\n",
       "3     PUENTE DEL DIABLO  2016-12-01 00:00:00  6.011\n",
       "4     PUENTE DEL DIABLO           13/01/2016  5.801\n",
       "...                 ...                  ...    ...\n",
       "1174  PUENTE DEL DIABLO           25/09/2020  8.000\n",
       "1175  PUENTE DEL DIABLO           28/09/2020  8.300\n",
       "1176  PUENTE DEL DIABLO           30/09/2020  8.000\n",
       "1177  PUENTE DEL DIABLO  2020-01-10 00:00:00  8.000\n",
       "1178  PUENTE DEL DIABLO  2020-02-10 00:00:00  8.000\n",
       "\n",
       "[1179 rows x 3 columns]"
      ]
     },
     "execution_count": 82,
     "metadata": {},
     "output_type": "execute_result"
    }
   ],
   "source": [
    "ws =pd.read_excel('PuenteDiablo.xlsx',skiprows=2,usecols='A,D,F')\n",
    "ws"
   ]
  },
  {
   "cell_type": "code",
   "execution_count": 83,
   "metadata": {},
   "outputs": [
    {
     "data": {
      "text/html": [
       "<div>\n",
       "<style scoped>\n",
       "    .dataframe tbody tr th:only-of-type {\n",
       "        vertical-align: middle;\n",
       "    }\n",
       "\n",
       "    .dataframe tbody tr th {\n",
       "        vertical-align: top;\n",
       "    }\n",
       "\n",
       "    .dataframe thead th {\n",
       "        text-align: right;\n",
       "    }\n",
       "</style>\n",
       "<table border=\"1\" class=\"dataframe\">\n",
       "  <thead>\n",
       "    <tr style=\"text-align: right;\">\n",
       "      <th></th>\n",
       "      <th>DATE_HOUR</th>\n",
       "      <th>STATION</th>\n",
       "      <th>VALUE</th>\n",
       "    </tr>\n",
       "  </thead>\n",
       "  <tbody>\n",
       "    <tr>\n",
       "      <th>0</th>\n",
       "      <td>2016-08-01 06:00:00</td>\n",
       "      <td>PUENTE DEL DIABLO</td>\n",
       "      <td>5.832</td>\n",
       "    </tr>\n",
       "    <tr>\n",
       "      <th>1</th>\n",
       "      <td>2016-10-01 06:00:00</td>\n",
       "      <td>PUENTE DEL DIABLO</td>\n",
       "      <td>6.130</td>\n",
       "    </tr>\n",
       "    <tr>\n",
       "      <th>2</th>\n",
       "      <td>2016-10-01 08:00:00</td>\n",
       "      <td>PUENTE DEL DIABLO</td>\n",
       "      <td>6.130</td>\n",
       "    </tr>\n",
       "    <tr>\n",
       "      <th>3</th>\n",
       "      <td>2016-12-01 08:00:00</td>\n",
       "      <td>PUENTE DEL DIABLO</td>\n",
       "      <td>6.011</td>\n",
       "    </tr>\n",
       "    <tr>\n",
       "      <th>4</th>\n",
       "      <td>2016-01-13 08:00:00</td>\n",
       "      <td>PUENTE DEL DIABLO</td>\n",
       "      <td>5.801</td>\n",
       "    </tr>\n",
       "    <tr>\n",
       "      <th>...</th>\n",
       "      <td>...</td>\n",
       "      <td>...</td>\n",
       "      <td>...</td>\n",
       "    </tr>\n",
       "    <tr>\n",
       "      <th>1174</th>\n",
       "      <td>2020-09-25 06:00:00</td>\n",
       "      <td>PUENTE DEL DIABLO</td>\n",
       "      <td>8.000</td>\n",
       "    </tr>\n",
       "    <tr>\n",
       "      <th>1175</th>\n",
       "      <td>2020-09-28 06:00:00</td>\n",
       "      <td>PUENTE DEL DIABLO</td>\n",
       "      <td>8.300</td>\n",
       "    </tr>\n",
       "    <tr>\n",
       "      <th>1176</th>\n",
       "      <td>2020-09-30 06:00:00</td>\n",
       "      <td>PUENTE DEL DIABLO</td>\n",
       "      <td>8.000</td>\n",
       "    </tr>\n",
       "    <tr>\n",
       "      <th>1177</th>\n",
       "      <td>2020-01-10 06:00:00</td>\n",
       "      <td>PUENTE DEL DIABLO</td>\n",
       "      <td>8.000</td>\n",
       "    </tr>\n",
       "    <tr>\n",
       "      <th>1178</th>\n",
       "      <td>2020-02-10 06:00:00</td>\n",
       "      <td>PUENTE DEL DIABLO</td>\n",
       "      <td>8.000</td>\n",
       "    </tr>\n",
       "  </tbody>\n",
       "</table>\n",
       "<p>1179 rows × 3 columns</p>\n",
       "</div>"
      ],
      "text/plain": [
       "               DATE_HOUR            STATION  VALUE\n",
       "0    2016-08-01 06:00:00  PUENTE DEL DIABLO  5.832\n",
       "1    2016-10-01 06:00:00  PUENTE DEL DIABLO  6.130\n",
       "2    2016-10-01 08:00:00  PUENTE DEL DIABLO  6.130\n",
       "3    2016-12-01 08:00:00  PUENTE DEL DIABLO  6.011\n",
       "4    2016-01-13 08:00:00  PUENTE DEL DIABLO  5.801\n",
       "...                  ...                ...    ...\n",
       "1174 2020-09-25 06:00:00  PUENTE DEL DIABLO  8.000\n",
       "1175 2020-09-28 06:00:00  PUENTE DEL DIABLO  8.300\n",
       "1176 2020-09-30 06:00:00  PUENTE DEL DIABLO  8.000\n",
       "1177 2020-01-10 06:00:00  PUENTE DEL DIABLO  8.000\n",
       "1178 2020-02-10 06:00:00  PUENTE DEL DIABLO  8.000\n",
       "\n",
       "[1179 rows x 3 columns]"
      ]
     },
     "execution_count": 83,
     "metadata": {},
     "output_type": "execute_result"
    }
   ],
   "source": [
    "ws = pd.read_excel('PuenteDiablo.xlsx',skiprows=2,usecols='A,D,E,F',parse_dates=[['DATE','HOUR']])\n",
    "ws"
   ]
  },
  {
   "cell_type": "code",
   "execution_count": 84,
   "metadata": {},
   "outputs": [
    {
     "data": {
      "text/html": [
       "<div>\n",
       "<style scoped>\n",
       "    .dataframe tbody tr th:only-of-type {\n",
       "        vertical-align: middle;\n",
       "    }\n",
       "\n",
       "    .dataframe tbody tr th {\n",
       "        vertical-align: top;\n",
       "    }\n",
       "\n",
       "    .dataframe thead th {\n",
       "        text-align: right;\n",
       "    }\n",
       "</style>\n",
       "<table border=\"1\" class=\"dataframe\">\n",
       "  <thead>\n",
       "    <tr style=\"text-align: right;\">\n",
       "      <th></th>\n",
       "      <th>DATE_HOUR</th>\n",
       "      <th>STATION</th>\n",
       "      <th>VALUE</th>\n",
       "    </tr>\n",
       "  </thead>\n",
       "  <tbody>\n",
       "    <tr>\n",
       "      <th>0</th>\n",
       "      <td>2016-08-01 06:00:00</td>\n",
       "      <td>PUENTE DEL DIABLO</td>\n",
       "      <td>5.832</td>\n",
       "    </tr>\n",
       "    <tr>\n",
       "      <th>1</th>\n",
       "      <td>2016-10-01 06:00:00</td>\n",
       "      <td>PUENTE DEL DIABLO</td>\n",
       "      <td>6.130</td>\n",
       "    </tr>\n",
       "    <tr>\n",
       "      <th>2</th>\n",
       "      <td>2016-10-01 08:00:00</td>\n",
       "      <td>PUENTE DEL DIABLO</td>\n",
       "      <td>6.130</td>\n",
       "    </tr>\n",
       "    <tr>\n",
       "      <th>3</th>\n",
       "      <td>2016-12-01 08:00:00</td>\n",
       "      <td>PUENTE DEL DIABLO</td>\n",
       "      <td>6.011</td>\n",
       "    </tr>\n",
       "    <tr>\n",
       "      <th>4</th>\n",
       "      <td>2016-01-13 08:00:00</td>\n",
       "      <td>PUENTE DEL DIABLO</td>\n",
       "      <td>5.801</td>\n",
       "    </tr>\n",
       "    <tr>\n",
       "      <th>...</th>\n",
       "      <td>...</td>\n",
       "      <td>...</td>\n",
       "      <td>...</td>\n",
       "    </tr>\n",
       "    <tr>\n",
       "      <th>495</th>\n",
       "      <td>2017-05-19 08:00:00</td>\n",
       "      <td>PUENTE DEL DIABLO</td>\n",
       "      <td>7.450</td>\n",
       "    </tr>\n",
       "    <tr>\n",
       "      <th>496</th>\n",
       "      <td>2017-05-20 08:00:00</td>\n",
       "      <td>PUENTE DEL DIABLO</td>\n",
       "      <td>7.690</td>\n",
       "    </tr>\n",
       "    <tr>\n",
       "      <th>497</th>\n",
       "      <td>2017-05-21 08:00:00</td>\n",
       "      <td>PUENTE DEL DIABLO</td>\n",
       "      <td>7.450</td>\n",
       "    </tr>\n",
       "    <tr>\n",
       "      <th>498</th>\n",
       "      <td>2017-05-22 08:00:00</td>\n",
       "      <td>PUENTE DEL DIABLO</td>\n",
       "      <td>8.311</td>\n",
       "    </tr>\n",
       "    <tr>\n",
       "      <th>499</th>\n",
       "      <td>2017-05-23 08:00:00</td>\n",
       "      <td>PUENTE DEL DIABLO</td>\n",
       "      <td>7.700</td>\n",
       "    </tr>\n",
       "  </tbody>\n",
       "</table>\n",
       "<p>500 rows × 3 columns</p>\n",
       "</div>"
      ],
      "text/plain": [
       "              DATE_HOUR            STATION  VALUE\n",
       "0   2016-08-01 06:00:00  PUENTE DEL DIABLO  5.832\n",
       "1   2016-10-01 06:00:00  PUENTE DEL DIABLO  6.130\n",
       "2   2016-10-01 08:00:00  PUENTE DEL DIABLO  6.130\n",
       "3   2016-12-01 08:00:00  PUENTE DEL DIABLO  6.011\n",
       "4   2016-01-13 08:00:00  PUENTE DEL DIABLO  5.801\n",
       "..                  ...                ...    ...\n",
       "495 2017-05-19 08:00:00  PUENTE DEL DIABLO  7.450\n",
       "496 2017-05-20 08:00:00  PUENTE DEL DIABLO  7.690\n",
       "497 2017-05-21 08:00:00  PUENTE DEL DIABLO  7.450\n",
       "498 2017-05-22 08:00:00  PUENTE DEL DIABLO  8.311\n",
       "499 2017-05-23 08:00:00  PUENTE DEL DIABLO  7.700\n",
       "\n",
       "[500 rows x 3 columns]"
      ]
     },
     "execution_count": 84,
     "metadata": {},
     "output_type": "execute_result"
    }
   ],
   "source": [
    "ws.iloc[0:500]"
   ]
  },
  {
   "cell_type": "code",
   "execution_count": 85,
   "metadata": {},
   "outputs": [
    {
     "data": {
      "text/plain": [
       "21.381"
      ]
     },
     "execution_count": 85,
     "metadata": {},
     "output_type": "execute_result"
    }
   ],
   "source": [
    "ws.iloc[45, 2]"
   ]
  },
  {
   "cell_type": "code",
   "execution_count": 86,
   "metadata": {},
   "outputs": [
    {
     "data": {
      "text/html": [
       "<div>\n",
       "<style scoped>\n",
       "    .dataframe tbody tr th:only-of-type {\n",
       "        vertical-align: middle;\n",
       "    }\n",
       "\n",
       "    .dataframe tbody tr th {\n",
       "        vertical-align: top;\n",
       "    }\n",
       "\n",
       "    .dataframe thead th {\n",
       "        text-align: right;\n",
       "    }\n",
       "</style>\n",
       "<table border=\"1\" class=\"dataframe\">\n",
       "  <thead>\n",
       "    <tr style=\"text-align: right;\">\n",
       "      <th></th>\n",
       "      <th>STATION</th>\n",
       "      <th>VALUE</th>\n",
       "    </tr>\n",
       "    <tr>\n",
       "      <th>DATE_HOUR</th>\n",
       "      <th></th>\n",
       "      <th></th>\n",
       "    </tr>\n",
       "  </thead>\n",
       "  <tbody>\n",
       "    <tr>\n",
       "      <th>2016-08-01 06:00:00</th>\n",
       "      <td>PUENTE DEL DIABLO</td>\n",
       "      <td>5.832</td>\n",
       "    </tr>\n",
       "    <tr>\n",
       "      <th>2016-10-01 06:00:00</th>\n",
       "      <td>PUENTE DEL DIABLO</td>\n",
       "      <td>6.130</td>\n",
       "    </tr>\n",
       "    <tr>\n",
       "      <th>2016-10-01 08:00:00</th>\n",
       "      <td>PUENTE DEL DIABLO</td>\n",
       "      <td>6.130</td>\n",
       "    </tr>\n",
       "    <tr>\n",
       "      <th>2016-12-01 08:00:00</th>\n",
       "      <td>PUENTE DEL DIABLO</td>\n",
       "      <td>6.011</td>\n",
       "    </tr>\n",
       "    <tr>\n",
       "      <th>2016-01-13 08:00:00</th>\n",
       "      <td>PUENTE DEL DIABLO</td>\n",
       "      <td>5.801</td>\n",
       "    </tr>\n",
       "    <tr>\n",
       "      <th>...</th>\n",
       "      <td>...</td>\n",
       "      <td>...</td>\n",
       "    </tr>\n",
       "    <tr>\n",
       "      <th>2020-09-25 06:00:00</th>\n",
       "      <td>PUENTE DEL DIABLO</td>\n",
       "      <td>8.000</td>\n",
       "    </tr>\n",
       "    <tr>\n",
       "      <th>2020-09-28 06:00:00</th>\n",
       "      <td>PUENTE DEL DIABLO</td>\n",
       "      <td>8.300</td>\n",
       "    </tr>\n",
       "    <tr>\n",
       "      <th>2020-09-30 06:00:00</th>\n",
       "      <td>PUENTE DEL DIABLO</td>\n",
       "      <td>8.000</td>\n",
       "    </tr>\n",
       "    <tr>\n",
       "      <th>2020-01-10 06:00:00</th>\n",
       "      <td>PUENTE DEL DIABLO</td>\n",
       "      <td>8.000</td>\n",
       "    </tr>\n",
       "    <tr>\n",
       "      <th>2020-02-10 06:00:00</th>\n",
       "      <td>PUENTE DEL DIABLO</td>\n",
       "      <td>8.000</td>\n",
       "    </tr>\n",
       "  </tbody>\n",
       "</table>\n",
       "<p>1179 rows × 2 columns</p>\n",
       "</div>"
      ],
      "text/plain": [
       "                               STATION  VALUE\n",
       "DATE_HOUR                                    \n",
       "2016-08-01 06:00:00  PUENTE DEL DIABLO  5.832\n",
       "2016-10-01 06:00:00  PUENTE DEL DIABLO  6.130\n",
       "2016-10-01 08:00:00  PUENTE DEL DIABLO  6.130\n",
       "2016-12-01 08:00:00  PUENTE DEL DIABLO  6.011\n",
       "2016-01-13 08:00:00  PUENTE DEL DIABLO  5.801\n",
       "...                                ...    ...\n",
       "2020-09-25 06:00:00  PUENTE DEL DIABLO  8.000\n",
       "2020-09-28 06:00:00  PUENTE DEL DIABLO  8.300\n",
       "2020-09-30 06:00:00  PUENTE DEL DIABLO  8.000\n",
       "2020-01-10 06:00:00  PUENTE DEL DIABLO  8.000\n",
       "2020-02-10 06:00:00  PUENTE DEL DIABLO  8.000\n",
       "\n",
       "[1179 rows x 2 columns]"
      ]
     },
     "execution_count": 86,
     "metadata": {},
     "output_type": "execute_result"
    }
   ],
   "source": [
    "ws = ws.set_index('DATE_HOUR')\n",
    "ws"
   ]
  },
  {
   "cell_type": "code",
   "execution_count": 87,
   "metadata": {},
   "outputs": [
    {
     "data": {
      "text/html": [
       "<div>\n",
       "<style scoped>\n",
       "    .dataframe tbody tr th:only-of-type {\n",
       "        vertical-align: middle;\n",
       "    }\n",
       "\n",
       "    .dataframe tbody tr th {\n",
       "        vertical-align: top;\n",
       "    }\n",
       "\n",
       "    .dataframe thead th {\n",
       "        text-align: right;\n",
       "    }\n",
       "</style>\n",
       "<table border=\"1\" class=\"dataframe\">\n",
       "  <thead>\n",
       "    <tr style=\"text-align: right;\">\n",
       "      <th></th>\n",
       "      <th>STATION</th>\n",
       "      <th>VALUE</th>\n",
       "    </tr>\n",
       "    <tr>\n",
       "      <th>DATE_HOUR</th>\n",
       "      <th></th>\n",
       "      <th></th>\n",
       "    </tr>\n",
       "  </thead>\n",
       "  <tbody>\n",
       "    <tr>\n",
       "      <th>2016-03-31 08:00:00</th>\n",
       "      <td>PUENTE DEL DIABLO</td>\n",
       "      <td>6.009</td>\n",
       "    </tr>\n",
       "  </tbody>\n",
       "</table>\n",
       "</div>"
      ],
      "text/plain": [
       "                               STATION  VALUE\n",
       "DATE_HOUR                                    \n",
       "2016-03-31 08:00:00  PUENTE DEL DIABLO  6.009"
      ]
     },
     "execution_count": 87,
     "metadata": {},
     "output_type": "execute_result"
    }
   ],
   "source": [
    "ws.loc['2016-03-31']"
   ]
  },
  {
   "cell_type": "code",
   "execution_count": 88,
   "metadata": {},
   "outputs": [
    {
     "data": {
      "text/plain": [
       "DATE_HOUR\n",
       "2016-03-31 08:00:00    6.009\n",
       "Name: VALUE, dtype: float64"
      ]
     },
     "execution_count": 88,
     "metadata": {},
     "output_type": "execute_result"
    }
   ],
   "source": [
    "ws.loc['2016-03-31','VALUE']"
   ]
  },
  {
   "cell_type": "code",
   "execution_count": 89,
   "metadata": {},
   "outputs": [
    {
     "data": {
      "text/html": [
       "<div>\n",
       "<style scoped>\n",
       "    .dataframe tbody tr th:only-of-type {\n",
       "        vertical-align: middle;\n",
       "    }\n",
       "\n",
       "    .dataframe tbody tr th {\n",
       "        vertical-align: top;\n",
       "    }\n",
       "\n",
       "    .dataframe thead th {\n",
       "        text-align: right;\n",
       "    }\n",
       "</style>\n",
       "<table border=\"1\" class=\"dataframe\">\n",
       "  <thead>\n",
       "    <tr style=\"text-align: right;\">\n",
       "      <th></th>\n",
       "      <th>STATION</th>\n",
       "      <th>VALUE</th>\n",
       "    </tr>\n",
       "    <tr>\n",
       "      <th>DATE_HOUR</th>\n",
       "      <th></th>\n",
       "      <th></th>\n",
       "    </tr>\n",
       "  </thead>\n",
       "  <tbody>\n",
       "    <tr>\n",
       "      <th>2017-01-01 08:00:00</th>\n",
       "      <td>PUENTE DEL DIABLO</td>\n",
       "      <td>6.390</td>\n",
       "    </tr>\n",
       "    <tr>\n",
       "      <th>2017-02-01 08:00:00</th>\n",
       "      <td>PUENTE DEL DIABLO</td>\n",
       "      <td>6.416</td>\n",
       "    </tr>\n",
       "    <tr>\n",
       "      <th>2017-03-01 08:00:00</th>\n",
       "      <td>PUENTE DEL DIABLO</td>\n",
       "      <td>6.390</td>\n",
       "    </tr>\n",
       "    <tr>\n",
       "      <th>2017-04-01 08:00:00</th>\n",
       "      <td>PUENTE DEL DIABLO</td>\n",
       "      <td>10.000</td>\n",
       "    </tr>\n",
       "    <tr>\n",
       "      <th>2017-05-01 08:00:00</th>\n",
       "      <td>PUENTE DEL DIABLO</td>\n",
       "      <td>26.000</td>\n",
       "    </tr>\n",
       "    <tr>\n",
       "      <th>...</th>\n",
       "      <td>...</td>\n",
       "      <td>...</td>\n",
       "    </tr>\n",
       "    <tr>\n",
       "      <th>2020-09-25 06:00:00</th>\n",
       "      <td>PUENTE DEL DIABLO</td>\n",
       "      <td>8.000</td>\n",
       "    </tr>\n",
       "    <tr>\n",
       "      <th>2020-09-28 06:00:00</th>\n",
       "      <td>PUENTE DEL DIABLO</td>\n",
       "      <td>8.300</td>\n",
       "    </tr>\n",
       "    <tr>\n",
       "      <th>2020-09-30 06:00:00</th>\n",
       "      <td>PUENTE DEL DIABLO</td>\n",
       "      <td>8.000</td>\n",
       "    </tr>\n",
       "    <tr>\n",
       "      <th>2020-01-10 06:00:00</th>\n",
       "      <td>PUENTE DEL DIABLO</td>\n",
       "      <td>8.000</td>\n",
       "    </tr>\n",
       "    <tr>\n",
       "      <th>2020-02-10 06:00:00</th>\n",
       "      <td>PUENTE DEL DIABLO</td>\n",
       "      <td>8.000</td>\n",
       "    </tr>\n",
       "  </tbody>\n",
       "</table>\n",
       "<p>822 rows × 2 columns</p>\n",
       "</div>"
      ],
      "text/plain": [
       "                               STATION   VALUE\n",
       "DATE_HOUR                                     \n",
       "2017-01-01 08:00:00  PUENTE DEL DIABLO   6.390\n",
       "2017-02-01 08:00:00  PUENTE DEL DIABLO   6.416\n",
       "2017-03-01 08:00:00  PUENTE DEL DIABLO   6.390\n",
       "2017-04-01 08:00:00  PUENTE DEL DIABLO  10.000\n",
       "2017-05-01 08:00:00  PUENTE DEL DIABLO  26.000\n",
       "...                                ...     ...\n",
       "2020-09-25 06:00:00  PUENTE DEL DIABLO   8.000\n",
       "2020-09-28 06:00:00  PUENTE DEL DIABLO   8.300\n",
       "2020-09-30 06:00:00  PUENTE DEL DIABLO   8.000\n",
       "2020-01-10 06:00:00  PUENTE DEL DIABLO   8.000\n",
       "2020-02-10 06:00:00  PUENTE DEL DIABLO   8.000\n",
       "\n",
       "[822 rows x 2 columns]"
      ]
     },
     "execution_count": 89,
     "metadata": {},
     "output_type": "execute_result"
    }
   ],
   "source": [
    "ws.loc[ws.index>='2017']"
   ]
  },
  {
   "cell_type": "code",
   "execution_count": 90,
   "metadata": {},
   "outputs": [
    {
     "data": {
      "text/html": [
       "<div>\n",
       "<style scoped>\n",
       "    .dataframe tbody tr th:only-of-type {\n",
       "        vertical-align: middle;\n",
       "    }\n",
       "\n",
       "    .dataframe tbody tr th {\n",
       "        vertical-align: top;\n",
       "    }\n",
       "\n",
       "    .dataframe thead th {\n",
       "        text-align: right;\n",
       "    }\n",
       "</style>\n",
       "<table border=\"1\" class=\"dataframe\">\n",
       "  <thead>\n",
       "    <tr style=\"text-align: right;\">\n",
       "      <th></th>\n",
       "      <th>STATION</th>\n",
       "      <th>VALUE</th>\n",
       "    </tr>\n",
       "    <tr>\n",
       "      <th>DATE_HOUR</th>\n",
       "      <th></th>\n",
       "      <th></th>\n",
       "    </tr>\n",
       "  </thead>\n",
       "  <tbody>\n",
       "    <tr>\n",
       "      <th>2017-08-01 08:00:00</th>\n",
       "      <td>PUENTE DEL DIABLO</td>\n",
       "      <td>10.0</td>\n",
       "    </tr>\n",
       "    <tr>\n",
       "      <th>2017-09-01 08:00:00</th>\n",
       "      <td>PUENTE DEL DIABLO</td>\n",
       "      <td>8.0</td>\n",
       "    </tr>\n",
       "    <tr>\n",
       "      <th>2017-10-01 08:00:00</th>\n",
       "      <td>PUENTE DEL DIABLO</td>\n",
       "      <td>6.5</td>\n",
       "    </tr>\n",
       "    <tr>\n",
       "      <th>2017-11-01 08:00:00</th>\n",
       "      <td>PUENTE DEL DIABLO</td>\n",
       "      <td>7.5</td>\n",
       "    </tr>\n",
       "    <tr>\n",
       "      <th>2017-12-01 08:00:00</th>\n",
       "      <td>PUENTE DEL DIABLO</td>\n",
       "      <td>8.5</td>\n",
       "    </tr>\n",
       "    <tr>\n",
       "      <th>...</th>\n",
       "      <td>...</td>\n",
       "      <td>...</td>\n",
       "    </tr>\n",
       "    <tr>\n",
       "      <th>2020-09-25 06:00:00</th>\n",
       "      <td>PUENTE DEL DIABLO</td>\n",
       "      <td>8.0</td>\n",
       "    </tr>\n",
       "    <tr>\n",
       "      <th>2020-09-28 06:00:00</th>\n",
       "      <td>PUENTE DEL DIABLO</td>\n",
       "      <td>8.3</td>\n",
       "    </tr>\n",
       "    <tr>\n",
       "      <th>2020-09-30 06:00:00</th>\n",
       "      <td>PUENTE DEL DIABLO</td>\n",
       "      <td>8.0</td>\n",
       "    </tr>\n",
       "    <tr>\n",
       "      <th>2020-01-10 06:00:00</th>\n",
       "      <td>PUENTE DEL DIABLO</td>\n",
       "      <td>8.0</td>\n",
       "    </tr>\n",
       "    <tr>\n",
       "      <th>2020-02-10 06:00:00</th>\n",
       "      <td>PUENTE DEL DIABLO</td>\n",
       "      <td>8.0</td>\n",
       "    </tr>\n",
       "  </tbody>\n",
       "</table>\n",
       "<p>609 rows × 2 columns</p>\n",
       "</div>"
      ],
      "text/plain": [
       "                               STATION  VALUE\n",
       "DATE_HOUR                                    \n",
       "2017-08-01 08:00:00  PUENTE DEL DIABLO   10.0\n",
       "2017-09-01 08:00:00  PUENTE DEL DIABLO    8.0\n",
       "2017-10-01 08:00:00  PUENTE DEL DIABLO    6.5\n",
       "2017-11-01 08:00:00  PUENTE DEL DIABLO    7.5\n",
       "2017-12-01 08:00:00  PUENTE DEL DIABLO    8.5\n",
       "...                                ...    ...\n",
       "2020-09-25 06:00:00  PUENTE DEL DIABLO    8.0\n",
       "2020-09-28 06:00:00  PUENTE DEL DIABLO    8.3\n",
       "2020-09-30 06:00:00  PUENTE DEL DIABLO    8.0\n",
       "2020-01-10 06:00:00  PUENTE DEL DIABLO    8.0\n",
       "2020-02-10 06:00:00  PUENTE DEL DIABLO    8.0\n",
       "\n",
       "[609 rows x 2 columns]"
      ]
     },
     "execution_count": 90,
     "metadata": {},
     "output_type": "execute_result"
    }
   ],
   "source": [
    "ws.loc[ws.index>='2017-08']"
   ]
  },
  {
   "cell_type": "code",
   "execution_count": 91,
   "metadata": {},
   "outputs": [],
   "source": [
    "ws.sort_index(inplace=True)"
   ]
  },
  {
   "cell_type": "code",
   "execution_count": 92,
   "metadata": {},
   "outputs": [
    {
     "data": {
      "text/plain": [
       "DATE_HOUR\n",
       "2016-02-20 08:00:00    12.574\n",
       "2017-01-14 08:00:00    13.500\n",
       "2017-02-18 08:00:00    10.426\n",
       "2017-02-24 08:00:00    10.370\n",
       "2017-02-27 08:00:00    12.400\n",
       "                        ...  \n",
       "2020-04-26 06:00:00    10.460\n",
       "2020-04-27 06:00:00    10.860\n",
       "2020-04-28 06:00:00    10.860\n",
       "2020-04-29 06:00:00    10.060\n",
       "2020-05-02 06:00:00    10.284\n",
       "Name: VALUE, Length: 222, dtype: float64"
      ]
     },
     "execution_count": 92,
     "metadata": {},
     "output_type": "execute_result"
    }
   ],
   "source": [
    "ws.loc[(ws.VALUE > 10) & (ws.VALUE < 15),'VALUE']"
   ]
  },
  {
   "cell_type": "code",
   "execution_count": 93,
   "metadata": {},
   "outputs": [
    {
     "data": {
      "text/html": [
       "<div>\n",
       "<style scoped>\n",
       "    .dataframe tbody tr th:only-of-type {\n",
       "        vertical-align: middle;\n",
       "    }\n",
       "\n",
       "    .dataframe tbody tr th {\n",
       "        vertical-align: top;\n",
       "    }\n",
       "\n",
       "    .dataframe thead th {\n",
       "        text-align: right;\n",
       "    }\n",
       "</style>\n",
       "<table border=\"1\" class=\"dataframe\">\n",
       "  <thead>\n",
       "    <tr style=\"text-align: right;\">\n",
       "      <th></th>\n",
       "      <th>STATION</th>\n",
       "      <th>VALUE</th>\n",
       "    </tr>\n",
       "    <tr>\n",
       "      <th>DATE_HOUR</th>\n",
       "      <th></th>\n",
       "      <th></th>\n",
       "    </tr>\n",
       "  </thead>\n",
       "  <tbody>\n",
       "    <tr>\n",
       "      <th>2018-10-23 08:00:00</th>\n",
       "      <td>PUENTE DEL DIABLO</td>\n",
       "      <td>0.090</td>\n",
       "    </tr>\n",
       "    <tr>\n",
       "      <th>2018-12-09 08:00:00</th>\n",
       "      <td>PUENTE DEL DIABLO</td>\n",
       "      <td>0.101</td>\n",
       "    </tr>\n",
       "    <tr>\n",
       "      <th>2018-08-09 08:00:00</th>\n",
       "      <td>PUENTE DEL DIABLO</td>\n",
       "      <td>0.102</td>\n",
       "    </tr>\n",
       "    <tr>\n",
       "      <th>2018-10-22 08:00:00</th>\n",
       "      <td>PUENTE DEL DIABLO</td>\n",
       "      <td>0.108</td>\n",
       "    </tr>\n",
       "    <tr>\n",
       "      <th>2018-07-09 08:00:00</th>\n",
       "      <td>PUENTE DEL DIABLO</td>\n",
       "      <td>0.117</td>\n",
       "    </tr>\n",
       "    <tr>\n",
       "      <th>...</th>\n",
       "      <td>...</td>\n",
       "      <td>...</td>\n",
       "    </tr>\n",
       "    <tr>\n",
       "      <th>2019-11-02 06:00:00</th>\n",
       "      <td>PUENTE DEL DIABLO</td>\n",
       "      <td>125.000</td>\n",
       "    </tr>\n",
       "    <tr>\n",
       "      <th>2019-02-22 08:00:00</th>\n",
       "      <td>PUENTE DEL DIABLO</td>\n",
       "      <td>134.637</td>\n",
       "    </tr>\n",
       "    <tr>\n",
       "      <th>2020-02-13 06:00:00</th>\n",
       "      <td>PUENTE DEL DIABLO</td>\n",
       "      <td>155.500</td>\n",
       "    </tr>\n",
       "    <tr>\n",
       "      <th>2019-09-02 17:43:00</th>\n",
       "      <td>PUENTE DEL DIABLO</td>\n",
       "      <td>175.000</td>\n",
       "    </tr>\n",
       "    <tr>\n",
       "      <th>2016-02-25 06:00:00</th>\n",
       "      <td>PUENTE DEL DIABLO</td>\n",
       "      <td>200.000</td>\n",
       "    </tr>\n",
       "  </tbody>\n",
       "</table>\n",
       "<p>1179 rows × 2 columns</p>\n",
       "</div>"
      ],
      "text/plain": [
       "                               STATION    VALUE\n",
       "DATE_HOUR                                      \n",
       "2018-10-23 08:00:00  PUENTE DEL DIABLO    0.090\n",
       "2018-12-09 08:00:00  PUENTE DEL DIABLO    0.101\n",
       "2018-08-09 08:00:00  PUENTE DEL DIABLO    0.102\n",
       "2018-10-22 08:00:00  PUENTE DEL DIABLO    0.108\n",
       "2018-07-09 08:00:00  PUENTE DEL DIABLO    0.117\n",
       "...                                ...      ...\n",
       "2019-11-02 06:00:00  PUENTE DEL DIABLO  125.000\n",
       "2019-02-22 08:00:00  PUENTE DEL DIABLO  134.637\n",
       "2020-02-13 06:00:00  PUENTE DEL DIABLO  155.500\n",
       "2019-09-02 17:43:00  PUENTE DEL DIABLO  175.000\n",
       "2016-02-25 06:00:00  PUENTE DEL DIABLO  200.000\n",
       "\n",
       "[1179 rows x 2 columns]"
      ]
     },
     "execution_count": 93,
     "metadata": {},
     "output_type": "execute_result"
    }
   ],
   "source": [
    "ws.sort_values(by='VALUE')"
   ]
  },
  {
   "cell_type": "code",
   "execution_count": 94,
   "metadata": {},
   "outputs": [
    {
     "data": {
      "text/plain": [
       "DATE_HOUR\n",
       "2016-01-02 08:00:00    False\n",
       "2016-01-03 08:00:00    False\n",
       "2016-01-04 08:00:00    False\n",
       "2016-01-05 08:00:00    False\n",
       "2016-01-06 08:00:00    False\n",
       "                       ...  \n",
       "2020-12-02 06:00:00    False\n",
       "2020-12-04 06:00:00    False\n",
       "2020-12-05 06:00:00    False\n",
       "2020-12-06 06:00:00    False\n",
       "2020-12-08 06:00:00    False\n",
       "Name: VALUE, Length: 1179, dtype: bool"
      ]
     },
     "execution_count": 94,
     "metadata": {},
     "output_type": "execute_result"
    }
   ],
   "source": [
    "ws['VALUE']>50"
   ]
  },
  {
   "cell_type": "code",
   "execution_count": 95,
   "metadata": {},
   "outputs": [
    {
     "data": {
      "text/html": [
       "<div>\n",
       "<style scoped>\n",
       "    .dataframe tbody tr th:only-of-type {\n",
       "        vertical-align: middle;\n",
       "    }\n",
       "\n",
       "    .dataframe tbody tr th {\n",
       "        vertical-align: top;\n",
       "    }\n",
       "\n",
       "    .dataframe thead th {\n",
       "        text-align: right;\n",
       "    }\n",
       "</style>\n",
       "<table border=\"1\" class=\"dataframe\">\n",
       "  <thead>\n",
       "    <tr style=\"text-align: right;\">\n",
       "      <th></th>\n",
       "      <th>STATION</th>\n",
       "      <th>VALUE</th>\n",
       "    </tr>\n",
       "    <tr>\n",
       "      <th>DATE_HOUR</th>\n",
       "      <th></th>\n",
       "      <th></th>\n",
       "    </tr>\n",
       "  </thead>\n",
       "  <tbody>\n",
       "    <tr>\n",
       "      <th>2016-02-25 06:00:00</th>\n",
       "      <td>PUENTE DEL DIABLO</td>\n",
       "      <td>200.000</td>\n",
       "    </tr>\n",
       "    <tr>\n",
       "      <th>2016-02-26 08:00:00</th>\n",
       "      <td>PUENTE DEL DIABLO</td>\n",
       "      <td>65.000</td>\n",
       "    </tr>\n",
       "    <tr>\n",
       "      <th>2016-02-27 08:00:00</th>\n",
       "      <td>PUENTE DEL DIABLO</td>\n",
       "      <td>74.180</td>\n",
       "    </tr>\n",
       "    <tr>\n",
       "      <th>2017-02-04 08:00:00</th>\n",
       "      <td>PUENTE DEL DIABLO</td>\n",
       "      <td>58.000</td>\n",
       "    </tr>\n",
       "    <tr>\n",
       "      <th>2017-03-04 08:00:00</th>\n",
       "      <td>PUENTE DEL DIABLO</td>\n",
       "      <td>80.000</td>\n",
       "    </tr>\n",
       "    <tr>\n",
       "      <th>2017-03-15 08:00:00</th>\n",
       "      <td>PUENTE DEL DIABLO</td>\n",
       "      <td>60.000</td>\n",
       "    </tr>\n",
       "    <tr>\n",
       "      <th>2017-03-16 08:00:00</th>\n",
       "      <td>PUENTE DEL DIABLO</td>\n",
       "      <td>80.000</td>\n",
       "    </tr>\n",
       "    <tr>\n",
       "      <th>2017-03-17 08:00:00</th>\n",
       "      <td>PUENTE DEL DIABLO</td>\n",
       "      <td>65.000</td>\n",
       "    </tr>\n",
       "    <tr>\n",
       "      <th>2017-04-04 08:00:00</th>\n",
       "      <td>PUENTE DEL DIABLO</td>\n",
       "      <td>55.000</td>\n",
       "    </tr>\n",
       "    <tr>\n",
       "      <th>2018-03-22 08:00:00</th>\n",
       "      <td>PUENTE DEL DIABLO</td>\n",
       "      <td>52.800</td>\n",
       "    </tr>\n",
       "    <tr>\n",
       "      <th>2018-03-23 08:00:00</th>\n",
       "      <td>PUENTE DEL DIABLO</td>\n",
       "      <td>80.000</td>\n",
       "    </tr>\n",
       "    <tr>\n",
       "      <th>2018-03-24 08:00:00</th>\n",
       "      <td>PUENTE DEL DIABLO</td>\n",
       "      <td>54.319</td>\n",
       "    </tr>\n",
       "    <tr>\n",
       "      <th>2018-03-25 08:00:00</th>\n",
       "      <td>PUENTE DEL DIABLO</td>\n",
       "      <td>66.449</td>\n",
       "    </tr>\n",
       "    <tr>\n",
       "      <th>2019-02-22 08:00:00</th>\n",
       "      <td>PUENTE DEL DIABLO</td>\n",
       "      <td>134.637</td>\n",
       "    </tr>\n",
       "    <tr>\n",
       "      <th>2019-02-23 08:00:00</th>\n",
       "      <td>PUENTE DEL DIABLO</td>\n",
       "      <td>105.228</td>\n",
       "    </tr>\n",
       "    <tr>\n",
       "      <th>2019-02-24 08:00:00</th>\n",
       "      <td>PUENTE DEL DIABLO</td>\n",
       "      <td>77.214</td>\n",
       "    </tr>\n",
       "    <tr>\n",
       "      <th>2019-02-25 08:00:00</th>\n",
       "      <td>PUENTE DEL DIABLO</td>\n",
       "      <td>73.860</td>\n",
       "    </tr>\n",
       "    <tr>\n",
       "      <th>2019-02-26 08:00:00</th>\n",
       "      <td>PUENTE DEL DIABLO</td>\n",
       "      <td>64.531</td>\n",
       "    </tr>\n",
       "    <tr>\n",
       "      <th>2019-09-02 06:00:00</th>\n",
       "      <td>PUENTE DEL DIABLO</td>\n",
       "      <td>110.000</td>\n",
       "    </tr>\n",
       "    <tr>\n",
       "      <th>2019-09-02 17:43:00</th>\n",
       "      <td>PUENTE DEL DIABLO</td>\n",
       "      <td>175.000</td>\n",
       "    </tr>\n",
       "    <tr>\n",
       "      <th>2019-10-02 08:00:00</th>\n",
       "      <td>PUENTE DEL DIABLO</td>\n",
       "      <td>109.000</td>\n",
       "    </tr>\n",
       "    <tr>\n",
       "      <th>2019-11-02 06:00:00</th>\n",
       "      <td>PUENTE DEL DIABLO</td>\n",
       "      <td>125.000</td>\n",
       "    </tr>\n",
       "    <tr>\n",
       "      <th>2019-12-02 08:00:00</th>\n",
       "      <td>PUENTE DEL DIABLO</td>\n",
       "      <td>64.387</td>\n",
       "    </tr>\n",
       "    <tr>\n",
       "      <th>2020-01-03 08:00:00</th>\n",
       "      <td>PUENTE DEL DIABLO</td>\n",
       "      <td>58.795</td>\n",
       "    </tr>\n",
       "    <tr>\n",
       "      <th>2020-02-03 08:00:00</th>\n",
       "      <td>PUENTE DEL DIABLO</td>\n",
       "      <td>63.214</td>\n",
       "    </tr>\n",
       "    <tr>\n",
       "      <th>2020-02-13 06:00:00</th>\n",
       "      <td>PUENTE DEL DIABLO</td>\n",
       "      <td>155.500</td>\n",
       "    </tr>\n",
       "    <tr>\n",
       "      <th>2020-02-14 06:00:00</th>\n",
       "      <td>PUENTE DEL DIABLO</td>\n",
       "      <td>94.492</td>\n",
       "    </tr>\n",
       "    <tr>\n",
       "      <th>2020-02-17 06:00:00</th>\n",
       "      <td>PUENTE DEL DIABLO</td>\n",
       "      <td>83.943</td>\n",
       "    </tr>\n",
       "    <tr>\n",
       "      <th>2020-02-18 06:00:00</th>\n",
       "      <td>PUENTE DEL DIABLO</td>\n",
       "      <td>83.894</td>\n",
       "    </tr>\n",
       "    <tr>\n",
       "      <th>2020-02-19 06:00:00</th>\n",
       "      <td>PUENTE DEL DIABLO</td>\n",
       "      <td>79.639</td>\n",
       "    </tr>\n",
       "    <tr>\n",
       "      <th>2020-02-20 08:00:00</th>\n",
       "      <td>PUENTE DEL DIABLO</td>\n",
       "      <td>91.585</td>\n",
       "    </tr>\n",
       "    <tr>\n",
       "      <th>2020-02-23 08:00:00</th>\n",
       "      <td>PUENTE DEL DIABLO</td>\n",
       "      <td>86.275</td>\n",
       "    </tr>\n",
       "    <tr>\n",
       "      <th>2020-02-24 08:00:00</th>\n",
       "      <td>PUENTE DEL DIABLO</td>\n",
       "      <td>84.272</td>\n",
       "    </tr>\n",
       "    <tr>\n",
       "      <th>2020-02-25 08:00:00</th>\n",
       "      <td>PUENTE DEL DIABLO</td>\n",
       "      <td>94.444</td>\n",
       "    </tr>\n",
       "    <tr>\n",
       "      <th>2020-02-26 08:00:00</th>\n",
       "      <td>PUENTE DEL DIABLO</td>\n",
       "      <td>83.379</td>\n",
       "    </tr>\n",
       "    <tr>\n",
       "      <th>2020-02-28 08:00:00</th>\n",
       "      <td>PUENTE DEL DIABLO</td>\n",
       "      <td>78.129</td>\n",
       "    </tr>\n",
       "    <tr>\n",
       "      <th>2020-03-03 08:00:00</th>\n",
       "      <td>PUENTE DEL DIABLO</td>\n",
       "      <td>58.369</td>\n",
       "    </tr>\n",
       "    <tr>\n",
       "      <th>2020-03-15 06:00:00</th>\n",
       "      <td>PUENTE DEL DIABLO</td>\n",
       "      <td>60.150</td>\n",
       "    </tr>\n",
       "    <tr>\n",
       "      <th>2020-03-16 06:00:00</th>\n",
       "      <td>PUENTE DEL DIABLO</td>\n",
       "      <td>73.584</td>\n",
       "    </tr>\n",
       "    <tr>\n",
       "      <th>2020-03-17 06:00:00</th>\n",
       "      <td>PUENTE DEL DIABLO</td>\n",
       "      <td>63.762</td>\n",
       "    </tr>\n",
       "    <tr>\n",
       "      <th>2020-03-19 06:00:00</th>\n",
       "      <td>PUENTE DEL DIABLO</td>\n",
       "      <td>63.671</td>\n",
       "    </tr>\n",
       "    <tr>\n",
       "      <th>2020-03-20 06:00:00</th>\n",
       "      <td>PUENTE DEL DIABLO</td>\n",
       "      <td>59.179</td>\n",
       "    </tr>\n",
       "    <tr>\n",
       "      <th>2020-03-21 06:00:00</th>\n",
       "      <td>PUENTE DEL DIABLO</td>\n",
       "      <td>57.410</td>\n",
       "    </tr>\n",
       "    <tr>\n",
       "      <th>2020-03-22 06:00:00</th>\n",
       "      <td>PUENTE DEL DIABLO</td>\n",
       "      <td>57.420</td>\n",
       "    </tr>\n",
       "    <tr>\n",
       "      <th>2020-03-23 06:00:00</th>\n",
       "      <td>PUENTE DEL DIABLO</td>\n",
       "      <td>54.720</td>\n",
       "    </tr>\n",
       "    <tr>\n",
       "      <th>2020-03-24 06:00:00</th>\n",
       "      <td>PUENTE DEL DIABLO</td>\n",
       "      <td>55.000</td>\n",
       "    </tr>\n",
       "    <tr>\n",
       "      <th>2020-03-25 06:00:00</th>\n",
       "      <td>PUENTE DEL DIABLO</td>\n",
       "      <td>59.210</td>\n",
       "    </tr>\n",
       "    <tr>\n",
       "      <th>2020-03-26 06:00:00</th>\n",
       "      <td>PUENTE DEL DIABLO</td>\n",
       "      <td>53.820</td>\n",
       "    </tr>\n",
       "    <tr>\n",
       "      <th>2020-03-28 06:00:00</th>\n",
       "      <td>PUENTE DEL DIABLO</td>\n",
       "      <td>50.790</td>\n",
       "    </tr>\n",
       "    <tr>\n",
       "      <th>2020-03-29 06:00:00</th>\n",
       "      <td>PUENTE DEL DIABLO</td>\n",
       "      <td>52.020</td>\n",
       "    </tr>\n",
       "    <tr>\n",
       "      <th>2020-03-31 06:00:00</th>\n",
       "      <td>PUENTE DEL DIABLO</td>\n",
       "      <td>54.720</td>\n",
       "    </tr>\n",
       "    <tr>\n",
       "      <th>2020-06-03 08:00:00</th>\n",
       "      <td>PUENTE DEL DIABLO</td>\n",
       "      <td>60.150</td>\n",
       "    </tr>\n",
       "  </tbody>\n",
       "</table>\n",
       "</div>"
      ],
      "text/plain": [
       "                               STATION    VALUE\n",
       "DATE_HOUR                                      \n",
       "2016-02-25 06:00:00  PUENTE DEL DIABLO  200.000\n",
       "2016-02-26 08:00:00  PUENTE DEL DIABLO   65.000\n",
       "2016-02-27 08:00:00  PUENTE DEL DIABLO   74.180\n",
       "2017-02-04 08:00:00  PUENTE DEL DIABLO   58.000\n",
       "2017-03-04 08:00:00  PUENTE DEL DIABLO   80.000\n",
       "2017-03-15 08:00:00  PUENTE DEL DIABLO   60.000\n",
       "2017-03-16 08:00:00  PUENTE DEL DIABLO   80.000\n",
       "2017-03-17 08:00:00  PUENTE DEL DIABLO   65.000\n",
       "2017-04-04 08:00:00  PUENTE DEL DIABLO   55.000\n",
       "2018-03-22 08:00:00  PUENTE DEL DIABLO   52.800\n",
       "2018-03-23 08:00:00  PUENTE DEL DIABLO   80.000\n",
       "2018-03-24 08:00:00  PUENTE DEL DIABLO   54.319\n",
       "2018-03-25 08:00:00  PUENTE DEL DIABLO   66.449\n",
       "2019-02-22 08:00:00  PUENTE DEL DIABLO  134.637\n",
       "2019-02-23 08:00:00  PUENTE DEL DIABLO  105.228\n",
       "2019-02-24 08:00:00  PUENTE DEL DIABLO   77.214\n",
       "2019-02-25 08:00:00  PUENTE DEL DIABLO   73.860\n",
       "2019-02-26 08:00:00  PUENTE DEL DIABLO   64.531\n",
       "2019-09-02 06:00:00  PUENTE DEL DIABLO  110.000\n",
       "2019-09-02 17:43:00  PUENTE DEL DIABLO  175.000\n",
       "2019-10-02 08:00:00  PUENTE DEL DIABLO  109.000\n",
       "2019-11-02 06:00:00  PUENTE DEL DIABLO  125.000\n",
       "2019-12-02 08:00:00  PUENTE DEL DIABLO   64.387\n",
       "2020-01-03 08:00:00  PUENTE DEL DIABLO   58.795\n",
       "2020-02-03 08:00:00  PUENTE DEL DIABLO   63.214\n",
       "2020-02-13 06:00:00  PUENTE DEL DIABLO  155.500\n",
       "2020-02-14 06:00:00  PUENTE DEL DIABLO   94.492\n",
       "2020-02-17 06:00:00  PUENTE DEL DIABLO   83.943\n",
       "2020-02-18 06:00:00  PUENTE DEL DIABLO   83.894\n",
       "2020-02-19 06:00:00  PUENTE DEL DIABLO   79.639\n",
       "2020-02-20 08:00:00  PUENTE DEL DIABLO   91.585\n",
       "2020-02-23 08:00:00  PUENTE DEL DIABLO   86.275\n",
       "2020-02-24 08:00:00  PUENTE DEL DIABLO   84.272\n",
       "2020-02-25 08:00:00  PUENTE DEL DIABLO   94.444\n",
       "2020-02-26 08:00:00  PUENTE DEL DIABLO   83.379\n",
       "2020-02-28 08:00:00  PUENTE DEL DIABLO   78.129\n",
       "2020-03-03 08:00:00  PUENTE DEL DIABLO   58.369\n",
       "2020-03-15 06:00:00  PUENTE DEL DIABLO   60.150\n",
       "2020-03-16 06:00:00  PUENTE DEL DIABLO   73.584\n",
       "2020-03-17 06:00:00  PUENTE DEL DIABLO   63.762\n",
       "2020-03-19 06:00:00  PUENTE DEL DIABLO   63.671\n",
       "2020-03-20 06:00:00  PUENTE DEL DIABLO   59.179\n",
       "2020-03-21 06:00:00  PUENTE DEL DIABLO   57.410\n",
       "2020-03-22 06:00:00  PUENTE DEL DIABLO   57.420\n",
       "2020-03-23 06:00:00  PUENTE DEL DIABLO   54.720\n",
       "2020-03-24 06:00:00  PUENTE DEL DIABLO   55.000\n",
       "2020-03-25 06:00:00  PUENTE DEL DIABLO   59.210\n",
       "2020-03-26 06:00:00  PUENTE DEL DIABLO   53.820\n",
       "2020-03-28 06:00:00  PUENTE DEL DIABLO   50.790\n",
       "2020-03-29 06:00:00  PUENTE DEL DIABLO   52.020\n",
       "2020-03-31 06:00:00  PUENTE DEL DIABLO   54.720\n",
       "2020-06-03 08:00:00  PUENTE DEL DIABLO   60.150"
      ]
     },
     "execution_count": 95,
     "metadata": {},
     "output_type": "execute_result"
    }
   ],
   "source": [
    "ws[ws['VALUE']>50]"
   ]
  },
  {
   "cell_type": "code",
   "execution_count": 97,
   "metadata": {},
   "outputs": [],
   "source": [
    "ws.rename(columns = {'VALUE':'VALUE (m3/d)'}, inplace = True)\n",
    "ws"
   ]
  },
  {
   "cell_type": "code",
   "execution_count": 99,
   "metadata": {},
   "outputs": [
    {
     "data": {
      "text/html": [
       "<div>\n",
       "<style scoped>\n",
       "    .dataframe tbody tr th:only-of-type {\n",
       "        vertical-align: middle;\n",
       "    }\n",
       "\n",
       "    .dataframe tbody tr th {\n",
       "        vertical-align: top;\n",
       "    }\n",
       "\n",
       "    .dataframe thead th {\n",
       "        text-align: right;\n",
       "    }\n",
       "</style>\n",
       "<table border=\"1\" class=\"dataframe\">\n",
       "  <thead>\n",
       "    <tr style=\"text-align: right;\">\n",
       "      <th></th>\n",
       "      <th>STATION</th>\n",
       "      <th>VALUE (m3/d)</th>\n",
       "      <th>VALUE (ft3/d)</th>\n",
       "    </tr>\n",
       "    <tr>\n",
       "      <th>DATE_HOUR</th>\n",
       "      <th></th>\n",
       "      <th></th>\n",
       "      <th></th>\n",
       "    </tr>\n",
       "  </thead>\n",
       "  <tbody>\n",
       "    <tr>\n",
       "      <th>2016-01-02 08:00:00</th>\n",
       "      <td>PUENTE DEL DIABLO</td>\n",
       "      <td>5.720</td>\n",
       "      <td>201.999894</td>\n",
       "    </tr>\n",
       "    <tr>\n",
       "      <th>2016-01-03 08:00:00</th>\n",
       "      <td>PUENTE DEL DIABLO</td>\n",
       "      <td>20.550</td>\n",
       "      <td>725.716401</td>\n",
       "    </tr>\n",
       "    <tr>\n",
       "      <th>2016-01-04 08:00:00</th>\n",
       "      <td>PUENTE DEL DIABLO</td>\n",
       "      <td>5.909</td>\n",
       "      <td>208.674366</td>\n",
       "    </tr>\n",
       "    <tr>\n",
       "      <th>2016-01-05 08:00:00</th>\n",
       "      <td>PUENTE DEL DIABLO</td>\n",
       "      <td>6.295</td>\n",
       "      <td>222.305827</td>\n",
       "    </tr>\n",
       "    <tr>\n",
       "      <th>2016-01-06 08:00:00</th>\n",
       "      <td>PUENTE DEL DIABLO</td>\n",
       "      <td>7.450</td>\n",
       "      <td>263.094267</td>\n",
       "    </tr>\n",
       "  </tbody>\n",
       "</table>\n",
       "</div>"
      ],
      "text/plain": [
       "                               STATION  VALUE (m3/d)  VALUE (ft3/d)\n",
       "DATE_HOUR                                                          \n",
       "2016-01-02 08:00:00  PUENTE DEL DIABLO         5.720     201.999894\n",
       "2016-01-03 08:00:00  PUENTE DEL DIABLO        20.550     725.716401\n",
       "2016-01-04 08:00:00  PUENTE DEL DIABLO         5.909     208.674366\n",
       "2016-01-05 08:00:00  PUENTE DEL DIABLO         6.295     222.305827\n",
       "2016-01-06 08:00:00  PUENTE DEL DIABLO         7.450     263.094267"
      ]
     },
     "execution_count": 99,
     "metadata": {},
     "output_type": "execute_result"
    }
   ],
   "source": [
    "ws['VALUE (ft3/d)'] = ws['VALUE (m3/d)']/(0.3048**3)\n",
    "ws.head()"
   ]
  },
  {
   "cell_type": "code",
   "execution_count": 100,
   "metadata": {},
   "outputs": [
    {
     "data": {
      "text/plain": [
       "478.78076567398375"
      ]
     },
     "execution_count": 100,
     "metadata": {},
     "output_type": "execute_result"
    }
   ],
   "source": [
    "ws['VALUE (ft3/d)'].mean()"
   ]
  },
  {
   "cell_type": "code",
   "execution_count": 101,
   "metadata": {},
   "outputs": [
    {
     "data": {
      "text/plain": [
       "7062.933344297717"
      ]
     },
     "execution_count": 101,
     "metadata": {},
     "output_type": "execute_result"
    }
   ],
   "source": [
    "ws['VALUE (ft3/d)'].max()"
   ]
  },
  {
   "cell_type": "code",
   "execution_count": 102,
   "metadata": {},
   "outputs": [
    {
     "data": {
      "text/plain": [
       "3.1783200049339726"
      ]
     },
     "execution_count": 102,
     "metadata": {},
     "output_type": "execute_result"
    }
   ],
   "source": [
    "ws['VALUE (ft3/d)'].min()"
   ]
  },
  {
   "cell_type": "code",
   "execution_count": 103,
   "metadata": {},
   "outputs": [
    {
     "data": {
      "text/plain": [
       "1179"
      ]
     },
     "execution_count": 103,
     "metadata": {},
     "output_type": "execute_result"
    }
   ],
   "source": [
    "ws['VALUE (ft3/d)'].count()"
   ]
  },
  {
   "cell_type": "code",
   "execution_count": 104,
   "metadata": {},
   "outputs": [
    {
     "data": {
      "text/plain": [
       "(1179,)"
      ]
     },
     "execution_count": 104,
     "metadata": {},
     "output_type": "execute_result"
    }
   ],
   "source": [
    "ws['VALUE (ft3/d)'].shape"
   ]
  },
  {
   "cell_type": "code",
   "execution_count": 105,
   "metadata": {},
   "outputs": [
    {
     "data": {
      "text/plain": [
       "count    1179.000000\n",
       "mean      478.780766\n",
       "std       590.961163\n",
       "min         3.178320\n",
       "25%       244.377494\n",
       "50%       307.237600\n",
       "75%       408.731953\n",
       "max      7062.933344\n",
       "Name: VALUE (ft3/d), dtype: float64"
      ]
     },
     "execution_count": 105,
     "metadata": {},
     "output_type": "execute_result"
    }
   ],
   "source": [
    "ws['VALUE (ft3/d)'].describe()"
   ]
  },
  {
   "cell_type": "code",
   "execution_count": 106,
   "metadata": {},
   "outputs": [
    {
     "data": {
      "text/plain": [
       "564482.5227296269"
      ]
     },
     "execution_count": 106,
     "metadata": {},
     "output_type": "execute_result"
    }
   ],
   "source": [
    "ws['VALUE (ft3/d)'].sum()"
   ]
  },
  {
   "cell_type": "code",
   "execution_count": 107,
   "metadata": {},
   "outputs": [
    {
     "data": {
      "text/plain": [
       "0    282.517334\n",
       "dtype: float64"
      ]
     },
     "execution_count": 107,
     "metadata": {},
     "output_type": "execute_result"
    }
   ],
   "source": [
    "ws['VALUE (ft3/d)'].mode()"
   ]
  },
  {
   "cell_type": "code",
   "execution_count": 108,
   "metadata": {},
   "outputs": [
    {
     "data": {
      "text/plain": [
       "307.23760047695066"
      ]
     },
     "execution_count": 108,
     "metadata": {},
     "output_type": "execute_result"
    }
   ],
   "source": [
    "ws['VALUE (ft3/d)'].quantile(0.5)"
   ]
  },
  {
   "cell_type": "code",
   "execution_count": 109,
   "metadata": {},
   "outputs": [
    {
     "data": {
      "text/plain": [
       "590.9611629046964"
      ]
     },
     "execution_count": 109,
     "metadata": {},
     "output_type": "execute_result"
    }
   ],
   "source": [
    "ws['VALUE (ft3/d)'].std()"
   ]
  },
  {
   "cell_type": "code",
   "execution_count": 110,
   "metadata": {},
   "outputs": [
    {
     "data": {
      "text/plain": [
       "349235.09606167115"
      ]
     },
     "execution_count": 110,
     "metadata": {},
     "output_type": "execute_result"
    }
   ],
   "source": [
    "ws['VALUE (ft3/d)'].var()"
   ]
  },
  {
   "cell_type": "code",
   "execution_count": 111,
   "metadata": {},
   "outputs": [
    {
     "data": {
      "text/plain": [
       "(Timestamp('2016-01-02 08:00:00'), Timestamp('2020-12-08 06:00:00'))"
      ]
     },
     "execution_count": 111,
     "metadata": {},
     "output_type": "execute_result"
    }
   ],
   "source": [
    "ws.index.min() , ws.index.max()"
   ]
  },
  {
   "cell_type": "code",
   "execution_count": 112,
   "metadata": {},
   "outputs": [
    {
     "data": {
      "text/plain": [
       "Timedelta('1801 days 22:00:00')"
      ]
     },
     "execution_count": 112,
     "metadata": {},
     "output_type": "execute_result"
    }
   ],
   "source": [
    "ws.index.max() - ws.index.min()"
   ]
  },
  {
   "cell_type": "code",
   "execution_count": 113,
   "metadata": {},
   "outputs": [
    {
     "data": {
      "text/plain": [
       "<AxesSubplot:xlabel='DATE_HOUR'>"
      ]
     },
     "execution_count": 113,
     "metadata": {},
     "output_type": "execute_result"
    },
    {
     "data": {
      "image/png": "[encoded data removed]",
      "text/plain": [
       "<Figure size 432x288 with 1 Axes>"
      ]
     },
     "metadata": {
      "needs_background": "light"
     },
     "output_type": "display_data"
    }
   ],
   "source": [
    "ws['VALUE (m3/d)'].plot()"
   ]
  },
  {
   "cell_type": "code",
   "execution_count": 114,
   "metadata": {},
   "outputs": [
    {
     "data": {
      "text/plain": [
       "<AxesSubplot:>"
      ]
     },
     "execution_count": 114,
     "metadata": {},
     "output_type": "execute_result"
    },
    {
     "data": {
      "image/png": "[encoded data removed]",
      "text/plain": [
       "<Figure size 432x288 with 1 Axes>"
      ]
     },
     "metadata": {
      "needs_background": "light"
     },
     "output_type": "display_data"
    }
   ],
   "source": [
    "ws['VALUE (m3/d)'].hist()"
   ]
  },
  {
   "cell_type": "code",
   "execution_count": 116,
   "metadata": {},
   "outputs": [
    {
     "data": {
      "text/plain": [
       "<AxesSubplot:>"
      ]
     },
     "execution_count": 116,
     "metadata": {},
     "output_type": "execute_result"
    },
    {
     "data": {
      "image/png": "[encoded data removed]",
      "text/plain": [
       "<Figure size 432x288 with 1 Axes>"
      ]
     },
     "metadata": {
      "needs_background": "light"
     },
     "output_type": "display_data"
    }
   ],
   "source": [
    "ws['VALUE (m3/d)'].hist(bins = 100)"
   ]
  },
  {
   "cell_type": "code",
   "execution_count": 117,
   "metadata": {},
   "outputs": [
    {
     "data": {
      "image/png": "[encoded data removed]",
      "text/plain": [
       "<Figure size 432x288 with 1 Axes>"
      ]
     },
     "metadata": {
      "needs_background": "light"
     },
     "output_type": "display_data"
    }
   ],
   "source": [
    "import matplotlib.pyplot as plt\n",
    "fig, ax = plt.subplots()\n",
    "ax.bar(ws.index, ws['VALUE (m3/d)'].values, label='Flow')\n",
    "ax.set_xlabel('Date')\n",
    "ax.set_ylabel('Flow (m3/d)')\n",
    "ax.set_title('Flow plot')\n",
    "ax.legend(loc='upper left')\n",
    "plt.show()"
   ]
  },
  {
   "cell_type": "code",
   "execution_count": 118,
   "metadata": {},
   "outputs": [
    {
     "data": {
      "text/html": [
       "<div>\n",
       "<style scoped>\n",
       "    .dataframe tbody tr th:only-of-type {\n",
       "        vertical-align: middle;\n",
       "    }\n",
       "\n",
       "    .dataframe tbody tr th {\n",
       "        vertical-align: top;\n",
       "    }\n",
       "\n",
       "    .dataframe thead th {\n",
       "        text-align: right;\n",
       "    }\n",
       "</style>\n",
       "<table border=\"1\" class=\"dataframe\">\n",
       "  <thead>\n",
       "    <tr style=\"text-align: right;\">\n",
       "      <th></th>\n",
       "      <th>STATION</th>\n",
       "      <th>VALUE (m3/d)</th>\n",
       "      <th>VALUE (ft3/d)</th>\n",
       "      <th>QUANTILE</th>\n",
       "    </tr>\n",
       "    <tr>\n",
       "      <th>DATE_HOUR</th>\n",
       "      <th></th>\n",
       "      <th></th>\n",
       "      <th></th>\n",
       "      <th></th>\n",
       "    </tr>\n",
       "  </thead>\n",
       "  <tbody>\n",
       "    <tr>\n",
       "      <th>2016-01-02 08:00:00</th>\n",
       "      <td>PUENTE DEL DIABLO</td>\n",
       "      <td>5.720</td>\n",
       "      <td>201.999894</td>\n",
       "      <td>q25</td>\n",
       "    </tr>\n",
       "    <tr>\n",
       "      <th>2016-01-03 08:00:00</th>\n",
       "      <td>PUENTE DEL DIABLO</td>\n",
       "      <td>20.550</td>\n",
       "      <td>725.716401</td>\n",
       "      <td>q70</td>\n",
       "    </tr>\n",
       "    <tr>\n",
       "      <th>2016-01-04 08:00:00</th>\n",
       "      <td>PUENTE DEL DIABLO</td>\n",
       "      <td>5.909</td>\n",
       "      <td>208.674366</td>\n",
       "      <td>q25</td>\n",
       "    </tr>\n",
       "    <tr>\n",
       "      <th>2016-01-05 08:00:00</th>\n",
       "      <td>PUENTE DEL DIABLO</td>\n",
       "      <td>6.295</td>\n",
       "      <td>222.305827</td>\n",
       "      <td>q25</td>\n",
       "    </tr>\n",
       "    <tr>\n",
       "      <th>2016-01-06 08:00:00</th>\n",
       "      <td>PUENTE DEL DIABLO</td>\n",
       "      <td>7.450</td>\n",
       "      <td>263.094267</td>\n",
       "      <td>q50</td>\n",
       "    </tr>\n",
       "    <tr>\n",
       "      <th>...</th>\n",
       "      <td>...</td>\n",
       "      <td>...</td>\n",
       "      <td>...</td>\n",
       "      <td>...</td>\n",
       "    </tr>\n",
       "    <tr>\n",
       "      <th>2020-12-02 06:00:00</th>\n",
       "      <td>PUENTE DEL DIABLO</td>\n",
       "      <td>21.061</td>\n",
       "      <td>743.762196</td>\n",
       "      <td>q70</td>\n",
       "    </tr>\n",
       "    <tr>\n",
       "      <th>2020-12-04 06:00:00</th>\n",
       "      <td>PUENTE DEL DIABLO</td>\n",
       "      <td>33.250</td>\n",
       "      <td>1174.212668</td>\n",
       "      <td>q70</td>\n",
       "    </tr>\n",
       "    <tr>\n",
       "      <th>2020-12-05 06:00:00</th>\n",
       "      <td>PUENTE DEL DIABLO</td>\n",
       "      <td>8.480</td>\n",
       "      <td>299.468374</td>\n",
       "      <td>q50</td>\n",
       "    </tr>\n",
       "    <tr>\n",
       "      <th>2020-12-06 06:00:00</th>\n",
       "      <td>PUENTE DEL DIABLO</td>\n",
       "      <td>8.480</td>\n",
       "      <td>299.468374</td>\n",
       "      <td>q50</td>\n",
       "    </tr>\n",
       "    <tr>\n",
       "      <th>2020-12-08 06:00:00</th>\n",
       "      <td>PUENTE DEL DIABLO</td>\n",
       "      <td>8.300</td>\n",
       "      <td>293.111734</td>\n",
       "      <td>q50</td>\n",
       "    </tr>\n",
       "  </tbody>\n",
       "</table>\n",
       "<p>1179 rows × 4 columns</p>\n",
       "</div>"
      ],
      "text/plain": [
       "                               STATION  VALUE (m3/d)  VALUE (ft3/d) QUANTILE\n",
       "DATE_HOUR                                                                   \n",
       "2016-01-02 08:00:00  PUENTE DEL DIABLO         5.720     201.999894      q25\n",
       "2016-01-03 08:00:00  PUENTE DEL DIABLO        20.550     725.716401      q70\n",
       "2016-01-04 08:00:00  PUENTE DEL DIABLO         5.909     208.674366      q25\n",
       "2016-01-05 08:00:00  PUENTE DEL DIABLO         6.295     222.305827      q25\n",
       "2016-01-06 08:00:00  PUENTE DEL DIABLO         7.450     263.094267      q50\n",
       "...                                ...           ...            ...      ...\n",
       "2020-12-02 06:00:00  PUENTE DEL DIABLO        21.061     743.762196      q70\n",
       "2020-12-04 06:00:00  PUENTE DEL DIABLO        33.250    1174.212668      q70\n",
       "2020-12-05 06:00:00  PUENTE DEL DIABLO         8.480     299.468374      q50\n",
       "2020-12-06 06:00:00  PUENTE DEL DIABLO         8.480     299.468374      q50\n",
       "2020-12-08 06:00:00  PUENTE DEL DIABLO         8.300     293.111734      q50\n",
       "\n",
       "[1179 rows x 4 columns]"
      ]
     },
     "execution_count": 118,
     "metadata": {},
     "output_type": "execute_result"
    }
   ],
   "source": [
    "ws['QUANTILE'] = ['q25' if x <= 6.92 else ('q50' if x<=8.7 else 'q70') for x in ws['VALUE (m3/d)']]\n",
    "ws"
   ]
  },
  {
   "cell_type": "code",
   "execution_count": 125,
   "metadata": {},
   "outputs": [
    {
     "data": {
      "text/plain": [
       "<pandas.core.groupby.generic.DataFrameGroupBy object at 0x000001C32539BB80>"
      ]
     },
     "execution_count": 125,
     "metadata": {},
     "output_type": "execute_result"
    }
   ],
   "source": [
    "ws.groupby(['QUANTILE'])"
   ]
  },
  {
   "cell_type": "code",
   "execution_count": 119,
   "metadata": {},
   "outputs": [
    {
     "data": {
      "text/html": [
       "<div>\n",
       "<style scoped>\n",
       "    .dataframe tbody tr th:only-of-type {\n",
       "        vertical-align: middle;\n",
       "    }\n",
       "\n",
       "    .dataframe tbody tr th {\n",
       "        vertical-align: top;\n",
       "    }\n",
       "\n",
       "    .dataframe thead th {\n",
       "        text-align: right;\n",
       "    }\n",
       "</style>\n",
       "<table border=\"1\" class=\"dataframe\">\n",
       "  <thead>\n",
       "    <tr style=\"text-align: right;\">\n",
       "      <th></th>\n",
       "      <th>VALUE (m3/d)</th>\n",
       "      <th>VALUE (ft3/d)</th>\n",
       "    </tr>\n",
       "    <tr>\n",
       "      <th>QUANTILE</th>\n",
       "      <th></th>\n",
       "      <th></th>\n",
       "    </tr>\n",
       "  </thead>\n",
       "  <tbody>\n",
       "    <tr>\n",
       "      <th>q25</th>\n",
       "      <td>6.244923</td>\n",
       "      <td>220.537368</td>\n",
       "    </tr>\n",
       "    <tr>\n",
       "      <th>q50</th>\n",
       "      <td>7.876918</td>\n",
       "      <td>278.170727</td>\n",
       "    </tr>\n",
       "    <tr>\n",
       "      <th>q70</th>\n",
       "      <td>20.073545</td>\n",
       "      <td>708.890551</td>\n",
       "    </tr>\n",
       "  </tbody>\n",
       "</table>\n",
       "</div>"
      ],
      "text/plain": [
       "          VALUE (m3/d)  VALUE (ft3/d)\n",
       "QUANTILE                             \n",
       "q25           6.244923     220.537368\n",
       "q50           7.876918     278.170727\n",
       "q70          20.073545     708.890551"
      ]
     },
     "execution_count": 119,
     "metadata": {},
     "output_type": "execute_result"
    }
   ],
   "source": [
    "ws.groupby(['QUANTILE']).mean()"
   ]
  },
  {
   "cell_type": "code",
   "execution_count": 120,
   "metadata": {},
   "outputs": [
    {
     "data": {
      "text/html": [
       "<div>\n",
       "<style scoped>\n",
       "    .dataframe tbody tr th:only-of-type {\n",
       "        vertical-align: middle;\n",
       "    }\n",
       "\n",
       "    .dataframe tbody tr th {\n",
       "        vertical-align: top;\n",
       "    }\n",
       "\n",
       "    .dataframe thead th {\n",
       "        text-align: right;\n",
       "    }\n",
       "</style>\n",
       "<table border=\"1\" class=\"dataframe\">\n",
       "  <thead>\n",
       "    <tr style=\"text-align: right;\">\n",
       "      <th></th>\n",
       "      <th>VALUE (m3/d)</th>\n",
       "    </tr>\n",
       "    <tr>\n",
       "      <th>VALUE (ft3/d)</th>\n",
       "      <th></th>\n",
       "    </tr>\n",
       "  </thead>\n",
       "  <tbody>\n",
       "    <tr>\n",
       "      <th>3.178320</th>\n",
       "      <td>0.090</td>\n",
       "    </tr>\n",
       "    <tr>\n",
       "      <th>3.566781</th>\n",
       "      <td>0.101</td>\n",
       "    </tr>\n",
       "    <tr>\n",
       "      <th>3.602096</th>\n",
       "      <td>0.102</td>\n",
       "    </tr>\n",
       "    <tr>\n",
       "      <th>3.813984</th>\n",
       "      <td>0.108</td>\n",
       "    </tr>\n",
       "    <tr>\n",
       "      <th>4.131816</th>\n",
       "      <td>0.117</td>\n",
       "    </tr>\n",
       "    <tr>\n",
       "      <th>...</th>\n",
       "      <td>...</td>\n",
       "    </tr>\n",
       "    <tr>\n",
       "      <th>4414.333340</th>\n",
       "      <td>125.000</td>\n",
       "    </tr>\n",
       "    <tr>\n",
       "      <th>4754.660783</th>\n",
       "      <td>134.637</td>\n",
       "    </tr>\n",
       "    <tr>\n",
       "      <th>5491.430675</th>\n",
       "      <td>155.500</td>\n",
       "    </tr>\n",
       "    <tr>\n",
       "      <th>6180.066676</th>\n",
       "      <td>175.000</td>\n",
       "    </tr>\n",
       "    <tr>\n",
       "      <th>7062.933344</th>\n",
       "      <td>200.000</td>\n",
       "    </tr>\n",
       "  </tbody>\n",
       "</table>\n",
       "<p>765 rows × 1 columns</p>\n",
       "</div>"
      ],
      "text/plain": [
       "               VALUE (m3/d)\n",
       "VALUE (ft3/d)              \n",
       "3.178320              0.090\n",
       "3.566781              0.101\n",
       "3.602096              0.102\n",
       "3.813984              0.108\n",
       "4.131816              0.117\n",
       "...                     ...\n",
       "4414.333340         125.000\n",
       "4754.660783         134.637\n",
       "5491.430675         155.500\n",
       "6180.066676         175.000\n",
       "7062.933344         200.000\n",
       "\n",
       "[765 rows x 1 columns]"
      ]
     },
     "execution_count": 120,
     "metadata": {},
     "output_type": "execute_result"
    }
   ],
   "source": [
    "ws.groupby(['VALUE (ft3/d)']).mean()"
   ]
  },
  {
   "cell_type": "code",
   "execution_count": 121,
   "metadata": {},
   "outputs": [
    {
     "data": {
      "text/html": [
       "<div>\n",
       "<style scoped>\n",
       "    .dataframe tbody tr th:only-of-type {\n",
       "        vertical-align: middle;\n",
       "    }\n",
       "\n",
       "    .dataframe tbody tr th {\n",
       "        vertical-align: top;\n",
       "    }\n",
       "\n",
       "    .dataframe thead th {\n",
       "        text-align: right;\n",
       "    }\n",
       "</style>\n",
       "<table border=\"1\" class=\"dataframe\">\n",
       "  <thead>\n",
       "    <tr style=\"text-align: right;\">\n",
       "      <th></th>\n",
       "      <th>VALUE (m3/d)</th>\n",
       "    </tr>\n",
       "    <tr>\n",
       "      <th>QUANTILE</th>\n",
       "      <th></th>\n",
       "    </tr>\n",
       "  </thead>\n",
       "  <tbody>\n",
       "    <tr>\n",
       "      <th>q25</th>\n",
       "      <td>6.244923</td>\n",
       "    </tr>\n",
       "    <tr>\n",
       "      <th>q50</th>\n",
       "      <td>7.876918</td>\n",
       "    </tr>\n",
       "    <tr>\n",
       "      <th>q70</th>\n",
       "      <td>20.073545</td>\n",
       "    </tr>\n",
       "  </tbody>\n",
       "</table>\n",
       "</div>"
      ],
      "text/plain": [
       "          VALUE (m3/d)\n",
       "QUANTILE              \n",
       "q25           6.244923\n",
       "q50           7.876918\n",
       "q70          20.073545"
      ]
     },
     "execution_count": 121,
     "metadata": {},
     "output_type": "execute_result"
    }
   ],
   "source": [
    "ws[['VALUE (m3/d)','QUANTILE']].groupby(['QUANTILE']).mean()"
   ]
  },
  {
   "cell_type": "code",
   "execution_count": 122,
   "metadata": {},
   "outputs": [
    {
     "data": {
      "text/html": [
       "<div>\n",
       "<style scoped>\n",
       "    .dataframe tbody tr th:only-of-type {\n",
       "        vertical-align: middle;\n",
       "    }\n",
       "\n",
       "    .dataframe tbody tr th {\n",
       "        vertical-align: top;\n",
       "    }\n",
       "\n",
       "    .dataframe thead th {\n",
       "        text-align: right;\n",
       "    }\n",
       "</style>\n",
       "<table border=\"1\" class=\"dataframe\">\n",
       "  <thead>\n",
       "    <tr style=\"text-align: right;\">\n",
       "      <th></th>\n",
       "      <th>VALUE (m3/d)</th>\n",
       "      <th>VALUE (ft3/d)</th>\n",
       "    </tr>\n",
       "    <tr>\n",
       "      <th>QUANTILE</th>\n",
       "      <th></th>\n",
       "      <th></th>\n",
       "    </tr>\n",
       "  </thead>\n",
       "  <tbody>\n",
       "    <tr>\n",
       "      <th>q25</th>\n",
       "      <td>1860.987</td>\n",
       "      <td>65720.135678</td>\n",
       "    </tr>\n",
       "    <tr>\n",
       "      <th>q50</th>\n",
       "      <td>2300.060</td>\n",
       "      <td>81225.852339</td>\n",
       "    </tr>\n",
       "    <tr>\n",
       "      <th>q70</th>\n",
       "      <td>11823.318</td>\n",
       "      <td>417536.534712</td>\n",
       "    </tr>\n",
       "  </tbody>\n",
       "</table>\n",
       "</div>"
      ],
      "text/plain": [
       "          VALUE (m3/d)  VALUE (ft3/d)\n",
       "QUANTILE                             \n",
       "q25           1860.987   65720.135678\n",
       "q50           2300.060   81225.852339\n",
       "q70          11823.318  417536.534712"
      ]
     },
     "execution_count": 122,
     "metadata": {},
     "output_type": "execute_result"
    }
   ],
   "source": [
    "ws.groupby(['QUANTILE']).sum()"
   ]
  },
  {
   "cell_type": "code",
   "execution_count": 123,
   "metadata": {},
   "outputs": [],
   "source": [
    "ws.to_csv('WeatherStation.csv')"
   ]
  },
  {
   "cell_type": "code",
   "execution_count": 124,
   "metadata": {},
   "outputs": [],
   "source": [
    "ws.groupby(['QUANTILE']).mean().to_csv('WeatherStation_quantiles.csv')"
   ]
  },
  {
   "cell_type": "code",
   "execution_count": null,
   "metadata": {},
   "outputs": [],
   "source": []
  }
 ],
 "metadata": {
  "kernelspec": {
   "display_name": "Python 3",
   "language": "python",
   "name": "python3"
  },
  "language_info": {
   "codemirror_mode": {
    "name": "ipython",
    "version": 3
   },
   "file_extension": ".py",
   "mimetype": "text/x-python",
   "name": "python",
   "nbconvert_exporter": "python",
   "pygments_lexer": "ipython3",
   "version": "3.8.3"
  }
 },
 "nbformat": 4,
 "nbformat_minor": 4
}
