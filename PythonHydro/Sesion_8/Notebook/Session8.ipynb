{
 "cells": [
  {
   "cell_type": "code",
   "execution_count": 227,
   "metadata": {},
   "outputs": [],
   "source": [
    "import pandas as pd\n",
    "import numpy as np"
   ]
  },
  {
   "cell_type": "code",
   "execution_count": 228,
   "metadata": {},
   "outputs": [],
   "source": [
    "st1 = pd.read_csv('st1.txt',skiprows=28,delimiter='\\t',index_col='datetime',parse_dates=True)[1:]\n",
    "st2 = pd.read_csv('st2.txt',skiprows=28,delimiter='\\t',index_col='datetime',parse_dates=True)[1:]\n",
    "st3 = pd.read_csv('st3.txt',skiprows=28,delimiter='\\t',index_col='datetime',parse_dates=True)[1:]\n",
    "st4 = pd.read_csv('st4.txt',skiprows=28,delimiter='\\t',index_col='datetime',parse_dates=True)[1:]\n",
    "st1.columns = ['agency','site','pp1','code']\n",
    "st2.columns = ['agency','site','pp2','code']\n",
    "st3.columns = ['agency','site','pp3','code']\n",
    "st4.columns = ['agency','site','pp4','code']\n",
    "st1.pp1 = pd.to_numeric(st1.pp1, errors='coerce')\n",
    "st2.pp2 = pd.to_numeric(st2.pp2, errors='coerce')\n",
    "st3.pp3 = pd.to_numeric(st3.pp3, errors='coerce')\n",
    "st4.pp4 = pd.to_numeric(st4.pp4, errors='coerce')"
   ]
  },
  {
   "cell_type": "code",
   "execution_count": 229,
   "metadata": {},
   "outputs": [
    {
     "data": {
      "text/plain": [
       "<AxesSubplot:>"
      ]
     },
     "execution_count": 229,
     "metadata": {},
     "output_type": "execute_result"
    },
    {
     "data": {
      "image/png": "[encoded data removed]",
      "text/plain": [
       "<Figure size 432x288 with 1 Axes>"
      ]
     },
     "metadata": {
      "needs_background": "light"
     },
     "output_type": "display_data"
    }
   ],
   "source": [
    "merged = pd.concat([st1.pp1, st2.pp2, st3.pp3, st4.pp4], axis=1)\n",
    "merged.index = pd.to_datetime(merged.index)\n",
    "merged.plot()"
   ]
  },
  {
   "cell_type": "code",
   "execution_count": 230,
   "metadata": {},
   "outputs": [
    {
     "data": {
      "text/html": [
       "<div>\n",
       "<style scoped>\n",
       "    .dataframe tbody tr th:only-of-type {\n",
       "        vertical-align: middle;\n",
       "    }\n",
       "\n",
       "    .dataframe tbody tr th {\n",
       "        vertical-align: top;\n",
       "    }\n",
       "\n",
       "    .dataframe thead th {\n",
       "        text-align: right;\n",
       "    }\n",
       "</style>\n",
       "<table border=\"1\" class=\"dataframe\">\n",
       "  <thead>\n",
       "    <tr style=\"text-align: right;\">\n",
       "      <th></th>\n",
       "      <th>pp1</th>\n",
       "      <th>pp2</th>\n",
       "      <th>pp3</th>\n",
       "      <th>pp4</th>\n",
       "    </tr>\n",
       "  </thead>\n",
       "  <tbody>\n",
       "    <tr>\n",
       "      <th>2009-05-05</th>\n",
       "      <td>0.00</td>\n",
       "      <td>NaN</td>\n",
       "      <td>NaN</td>\n",
       "      <td>0.00</td>\n",
       "    </tr>\n",
       "    <tr>\n",
       "      <th>2009-05-06</th>\n",
       "      <td>0.00</td>\n",
       "      <td>0.00</td>\n",
       "      <td>NaN</td>\n",
       "      <td>0.00</td>\n",
       "    </tr>\n",
       "    <tr>\n",
       "      <th>2009-05-07</th>\n",
       "      <td>0.00</td>\n",
       "      <td>0.01</td>\n",
       "      <td>NaN</td>\n",
       "      <td>0.00</td>\n",
       "    </tr>\n",
       "    <tr>\n",
       "      <th>2009-05-08</th>\n",
       "      <td>0.01</td>\n",
       "      <td>0.00</td>\n",
       "      <td>NaN</td>\n",
       "      <td>0.00</td>\n",
       "    </tr>\n",
       "    <tr>\n",
       "      <th>2009-05-09</th>\n",
       "      <td>0.08</td>\n",
       "      <td>0.04</td>\n",
       "      <td>NaN</td>\n",
       "      <td>0.06</td>\n",
       "    </tr>\n",
       "  </tbody>\n",
       "</table>\n",
       "</div>"
      ],
      "text/plain": [
       "             pp1   pp2  pp3   pp4\n",
       "2009-05-05  0.00   NaN  NaN  0.00\n",
       "2009-05-06  0.00  0.00  NaN  0.00\n",
       "2009-05-07  0.00  0.01  NaN  0.00\n",
       "2009-05-08  0.01  0.00  NaN  0.00\n",
       "2009-05-09  0.08  0.04  NaN  0.06"
      ]
     },
     "execution_count": 230,
     "metadata": {},
     "output_type": "execute_result"
    }
   ],
   "source": [
    "merged.head()"
   ]
  },
  {
   "cell_type": "code",
   "execution_count": 231,
   "metadata": {},
   "outputs": [],
   "source": [
    "#!pip install openpyxl"
   ]
  },
  {
   "cell_type": "code",
   "execution_count": 232,
   "metadata": {},
   "outputs": [],
   "source": [
    "merged.to_excel('merged.xlsx')"
   ]
  },
  {
   "cell_type": "code",
   "execution_count": 233,
   "metadata": {},
   "outputs": [
    {
     "data": {
      "text/html": [
       "<div>\n",
       "<style scoped>\n",
       "    .dataframe tbody tr th:only-of-type {\n",
       "        vertical-align: middle;\n",
       "    }\n",
       "\n",
       "    .dataframe tbody tr th {\n",
       "        vertical-align: top;\n",
       "    }\n",
       "\n",
       "    .dataframe thead th {\n",
       "        text-align: right;\n",
       "    }\n",
       "</style>\n",
       "<table border=\"1\" class=\"dataframe\">\n",
       "  <thead>\n",
       "    <tr style=\"text-align: right;\">\n",
       "      <th></th>\n",
       "      <th>pp1</th>\n",
       "      <th>pp2</th>\n",
       "      <th>pp3</th>\n",
       "      <th>pp4</th>\n",
       "    </tr>\n",
       "  </thead>\n",
       "  <tbody>\n",
       "    <tr>\n",
       "      <th>2013-04-01</th>\n",
       "      <td>0.00</td>\n",
       "      <td>0.01</td>\n",
       "      <td>0.01</td>\n",
       "      <td>0.01</td>\n",
       "    </tr>\n",
       "    <tr>\n",
       "      <th>2013-04-02</th>\n",
       "      <td>0.10</td>\n",
       "      <td>0.08</td>\n",
       "      <td>0.08</td>\n",
       "      <td>0.08</td>\n",
       "    </tr>\n",
       "    <tr>\n",
       "      <th>2013-04-03</th>\n",
       "      <td>0.02</td>\n",
       "      <td>0.02</td>\n",
       "      <td>0.01</td>\n",
       "      <td>0.02</td>\n",
       "    </tr>\n",
       "    <tr>\n",
       "      <th>2013-04-04</th>\n",
       "      <td>0.00</td>\n",
       "      <td>0.00</td>\n",
       "      <td>0.00</td>\n",
       "      <td>0.00</td>\n",
       "    </tr>\n",
       "    <tr>\n",
       "      <th>2013-04-05</th>\n",
       "      <td>0.00</td>\n",
       "      <td>0.00</td>\n",
       "      <td>0.00</td>\n",
       "      <td>0.00</td>\n",
       "    </tr>\n",
       "    <tr>\n",
       "      <th>2013-04-06</th>\n",
       "      <td>0.00</td>\n",
       "      <td>0.00</td>\n",
       "      <td>0.00</td>\n",
       "      <td>0.00</td>\n",
       "    </tr>\n",
       "    <tr>\n",
       "      <th>2013-04-07</th>\n",
       "      <td>0.00</td>\n",
       "      <td>0.00</td>\n",
       "      <td>0.00</td>\n",
       "      <td>0.00</td>\n",
       "    </tr>\n",
       "    <tr>\n",
       "      <th>2013-04-08</th>\n",
       "      <td>0.00</td>\n",
       "      <td>0.00</td>\n",
       "      <td>0.00</td>\n",
       "      <td>0.00</td>\n",
       "    </tr>\n",
       "    <tr>\n",
       "      <th>2013-04-09</th>\n",
       "      <td>0.00</td>\n",
       "      <td>0.00</td>\n",
       "      <td>0.00</td>\n",
       "      <td>0.00</td>\n",
       "    </tr>\n",
       "    <tr>\n",
       "      <th>2013-04-10</th>\n",
       "      <td>0.07</td>\n",
       "      <td>0.01</td>\n",
       "      <td>0.00</td>\n",
       "      <td>0.14</td>\n",
       "    </tr>\n",
       "    <tr>\n",
       "      <th>2013-04-11</th>\n",
       "      <td>0.00</td>\n",
       "      <td>0.00</td>\n",
       "      <td>0.02</td>\n",
       "      <td>0.01</td>\n",
       "    </tr>\n",
       "    <tr>\n",
       "      <th>2013-04-12</th>\n",
       "      <td>0.00</td>\n",
       "      <td>0.00</td>\n",
       "      <td>0.00</td>\n",
       "      <td>0.00</td>\n",
       "    </tr>\n",
       "    <tr>\n",
       "      <th>2013-04-13</th>\n",
       "      <td>0.00</td>\n",
       "      <td>0.00</td>\n",
       "      <td>0.00</td>\n",
       "      <td>0.00</td>\n",
       "    </tr>\n",
       "    <tr>\n",
       "      <th>2013-04-14</th>\n",
       "      <td>0.20</td>\n",
       "      <td>0.20</td>\n",
       "      <td>0.21</td>\n",
       "      <td>0.21</td>\n",
       "    </tr>\n",
       "    <tr>\n",
       "      <th>2013-04-15</th>\n",
       "      <td>0.00</td>\n",
       "      <td>0.00</td>\n",
       "      <td>0.00</td>\n",
       "      <td>0.00</td>\n",
       "    </tr>\n",
       "    <tr>\n",
       "      <th>2013-04-16</th>\n",
       "      <td>0.38</td>\n",
       "      <td>NaN</td>\n",
       "      <td>0.25</td>\n",
       "      <td>0.03</td>\n",
       "    </tr>\n",
       "    <tr>\n",
       "      <th>2013-04-17</th>\n",
       "      <td>0.14</td>\n",
       "      <td>NaN</td>\n",
       "      <td>0.00</td>\n",
       "      <td>0.39</td>\n",
       "    </tr>\n",
       "    <tr>\n",
       "      <th>2013-04-18</th>\n",
       "      <td>0.07</td>\n",
       "      <td>NaN</td>\n",
       "      <td>0.18</td>\n",
       "      <td>0.22</td>\n",
       "    </tr>\n",
       "    <tr>\n",
       "      <th>2013-04-19</th>\n",
       "      <td>0.00</td>\n",
       "      <td>0.00</td>\n",
       "      <td>0.01</td>\n",
       "      <td>0.09</td>\n",
       "    </tr>\n",
       "    <tr>\n",
       "      <th>2013-04-20</th>\n",
       "      <td>0.00</td>\n",
       "      <td>0.00</td>\n",
       "      <td>0.00</td>\n",
       "      <td>0.00</td>\n",
       "    </tr>\n",
       "    <tr>\n",
       "      <th>2013-04-21</th>\n",
       "      <td>0.00</td>\n",
       "      <td>0.00</td>\n",
       "      <td>0.00</td>\n",
       "      <td>0.00</td>\n",
       "    </tr>\n",
       "    <tr>\n",
       "      <th>2013-04-22</th>\n",
       "      <td>0.00</td>\n",
       "      <td>0.00</td>\n",
       "      <td>0.00</td>\n",
       "      <td>0.00</td>\n",
       "    </tr>\n",
       "    <tr>\n",
       "      <th>2013-04-23</th>\n",
       "      <td>0.30</td>\n",
       "      <td>0.31</td>\n",
       "      <td>0.03</td>\n",
       "      <td>0.10</td>\n",
       "    </tr>\n",
       "    <tr>\n",
       "      <th>2013-04-24</th>\n",
       "      <td>0.00</td>\n",
       "      <td>0.00</td>\n",
       "      <td>0.20</td>\n",
       "      <td>0.23</td>\n",
       "    </tr>\n",
       "    <tr>\n",
       "      <th>2013-04-25</th>\n",
       "      <td>0.00</td>\n",
       "      <td>0.00</td>\n",
       "      <td>0.00</td>\n",
       "      <td>0.00</td>\n",
       "    </tr>\n",
       "    <tr>\n",
       "      <th>2013-04-26</th>\n",
       "      <td>0.00</td>\n",
       "      <td>0.00</td>\n",
       "      <td>0.00</td>\n",
       "      <td>0.00</td>\n",
       "    </tr>\n",
       "    <tr>\n",
       "      <th>2013-04-27</th>\n",
       "      <td>0.00</td>\n",
       "      <td>0.00</td>\n",
       "      <td>0.00</td>\n",
       "      <td>0.00</td>\n",
       "    </tr>\n",
       "    <tr>\n",
       "      <th>2013-04-28</th>\n",
       "      <td>0.00</td>\n",
       "      <td>0.00</td>\n",
       "      <td>0.00</td>\n",
       "      <td>0.00</td>\n",
       "    </tr>\n",
       "    <tr>\n",
       "      <th>2013-04-29</th>\n",
       "      <td>0.00</td>\n",
       "      <td>0.00</td>\n",
       "      <td>0.00</td>\n",
       "      <td>0.00</td>\n",
       "    </tr>\n",
       "    <tr>\n",
       "      <th>2013-04-30</th>\n",
       "      <td>0.00</td>\n",
       "      <td>0.00</td>\n",
       "      <td>0.00</td>\n",
       "      <td>0.00</td>\n",
       "    </tr>\n",
       "  </tbody>\n",
       "</table>\n",
       "</div>"
      ],
      "text/plain": [
       "             pp1   pp2   pp3   pp4\n",
       "2013-04-01  0.00  0.01  0.01  0.01\n",
       "2013-04-02  0.10  0.08  0.08  0.08\n",
       "2013-04-03  0.02  0.02  0.01  0.02\n",
       "2013-04-04  0.00  0.00  0.00  0.00\n",
       "2013-04-05  0.00  0.00  0.00  0.00\n",
       "2013-04-06  0.00  0.00  0.00  0.00\n",
       "2013-04-07  0.00  0.00  0.00  0.00\n",
       "2013-04-08  0.00  0.00  0.00  0.00\n",
       "2013-04-09  0.00  0.00  0.00  0.00\n",
       "2013-04-10  0.07  0.01  0.00  0.14\n",
       "2013-04-11  0.00  0.00  0.02  0.01\n",
       "2013-04-12  0.00  0.00  0.00  0.00\n",
       "2013-04-13  0.00  0.00  0.00  0.00\n",
       "2013-04-14  0.20  0.20  0.21  0.21\n",
       "2013-04-15  0.00  0.00  0.00  0.00\n",
       "2013-04-16  0.38   NaN  0.25  0.03\n",
       "2013-04-17  0.14   NaN  0.00  0.39\n",
       "2013-04-18  0.07   NaN  0.18  0.22\n",
       "2013-04-19  0.00  0.00  0.01  0.09\n",
       "2013-04-20  0.00  0.00  0.00  0.00\n",
       "2013-04-21  0.00  0.00  0.00  0.00\n",
       "2013-04-22  0.00  0.00  0.00  0.00\n",
       "2013-04-23  0.30  0.31  0.03  0.10\n",
       "2013-04-24  0.00  0.00  0.20  0.23\n",
       "2013-04-25  0.00  0.00  0.00  0.00\n",
       "2013-04-26  0.00  0.00  0.00  0.00\n",
       "2013-04-27  0.00  0.00  0.00  0.00\n",
       "2013-04-28  0.00  0.00  0.00  0.00\n",
       "2013-04-29  0.00  0.00  0.00  0.00\n",
       "2013-04-30  0.00  0.00  0.00  0.00"
      ]
     },
     "execution_count": 233,
     "metadata": {},
     "output_type": "execute_result"
    }
   ],
   "source": [
    "merged['2013-04']"
   ]
  },
  {
   "cell_type": "code",
   "execution_count": 234,
   "metadata": {},
   "outputs": [
    {
     "data": {
      "text/plain": [
       "<AxesSubplot:>"
      ]
     },
     "execution_count": 234,
     "metadata": {},
     "output_type": "execute_result"
    },
    {
     "data": {
      "image/png": "[encoded data removed]",
      "text/plain": [
       "<Figure size 432x288 with 1 Axes>"
      ]
     },
     "metadata": {
      "needs_background": "light"
     },
     "output_type": "display_data"
    }
   ],
   "source": [
    "merged['2013-04'].plot(kind='line')"
   ]
  },
  {
   "cell_type": "code",
   "execution_count": 235,
   "metadata": {},
   "outputs": [],
   "source": [
    "ppf = merged['2013-04']"
   ]
  },
  {
   "cell_type": "markdown",
   "metadata": {},
   "source": [
    "## Simple AA"
   ]
  },
  {
   "cell_type": "code",
   "execution_count": 236,
   "metadata": {},
   "outputs": [
    {
     "data": {
      "text/html": [
       "<div>\n",
       "<style scoped>\n",
       "    .dataframe tbody tr th:only-of-type {\n",
       "        vertical-align: middle;\n",
       "    }\n",
       "\n",
       "    .dataframe tbody tr th {\n",
       "        vertical-align: top;\n",
       "    }\n",
       "\n",
       "    .dataframe thead th {\n",
       "        text-align: right;\n",
       "    }\n",
       "</style>\n",
       "<table border=\"1\" class=\"dataframe\">\n",
       "  <thead>\n",
       "    <tr style=\"text-align: right;\">\n",
       "      <th></th>\n",
       "      <th>pp1</th>\n",
       "      <th>pp2</th>\n",
       "      <th>pp3</th>\n",
       "      <th>pp4</th>\n",
       "    </tr>\n",
       "    <tr>\n",
       "      <th>year</th>\n",
       "      <th></th>\n",
       "      <th></th>\n",
       "      <th></th>\n",
       "      <th></th>\n",
       "    </tr>\n",
       "  </thead>\n",
       "  <tbody>\n",
       "    <tr>\n",
       "      <th>2009</th>\n",
       "      <td>9.93</td>\n",
       "      <td>13.40</td>\n",
       "      <td>8.92</td>\n",
       "      <td>9.84</td>\n",
       "    </tr>\n",
       "    <tr>\n",
       "      <th>2010</th>\n",
       "      <td>0.00</td>\n",
       "      <td>8.96</td>\n",
       "      <td>7.54</td>\n",
       "      <td>7.38</td>\n",
       "    </tr>\n",
       "    <tr>\n",
       "      <th>2011</th>\n",
       "      <td>13.16</td>\n",
       "      <td>1.04</td>\n",
       "      <td>1.02</td>\n",
       "      <td>12.76</td>\n",
       "    </tr>\n",
       "    <tr>\n",
       "      <th>2012</th>\n",
       "      <td>7.50</td>\n",
       "      <td>7.30</td>\n",
       "      <td>7.51</td>\n",
       "      <td>7.46</td>\n",
       "    </tr>\n",
       "    <tr>\n",
       "      <th>2013</th>\n",
       "      <td>12.57</td>\n",
       "      <td>12.24</td>\n",
       "      <td>12.09</td>\n",
       "      <td>12.98</td>\n",
       "    </tr>\n",
       "    <tr>\n",
       "      <th>2014</th>\n",
       "      <td>10.79</td>\n",
       "      <td>13.46</td>\n",
       "      <td>12.70</td>\n",
       "      <td>12.52</td>\n",
       "    </tr>\n",
       "    <tr>\n",
       "      <th>2015</th>\n",
       "      <td>12.22</td>\n",
       "      <td>13.78</td>\n",
       "      <td>13.06</td>\n",
       "      <td>14.25</td>\n",
       "    </tr>\n",
       "    <tr>\n",
       "      <th>2016</th>\n",
       "      <td>5.17</td>\n",
       "      <td>6.67</td>\n",
       "      <td>5.70</td>\n",
       "      <td>7.34</td>\n",
       "    </tr>\n",
       "    <tr>\n",
       "      <th>2017</th>\n",
       "      <td>3.32</td>\n",
       "      <td>5.84</td>\n",
       "      <td>5.85</td>\n",
       "      <td>5.17</td>\n",
       "    </tr>\n",
       "    <tr>\n",
       "      <th>2018</th>\n",
       "      <td>6.66</td>\n",
       "      <td>7.74</td>\n",
       "      <td>8.45</td>\n",
       "      <td>7.94</td>\n",
       "    </tr>\n",
       "    <tr>\n",
       "      <th>2019</th>\n",
       "      <td>5.15</td>\n",
       "      <td>6.47</td>\n",
       "      <td>9.24</td>\n",
       "      <td>7.50</td>\n",
       "    </tr>\n",
       "    <tr>\n",
       "      <th>2020</th>\n",
       "      <td>3.22</td>\n",
       "      <td>3.78</td>\n",
       "      <td>4.58</td>\n",
       "      <td>3.57</td>\n",
       "    </tr>\n",
       "  </tbody>\n",
       "</table>\n",
       "</div>"
      ],
      "text/plain": [
       "        pp1    pp2    pp3    pp4\n",
       "year                            \n",
       "2009   9.93  13.40   8.92   9.84\n",
       "2010   0.00   8.96   7.54   7.38\n",
       "2011  13.16   1.04   1.02  12.76\n",
       "2012   7.50   7.30   7.51   7.46\n",
       "2013  12.57  12.24  12.09  12.98\n",
       "2014  10.79  13.46  12.70  12.52\n",
       "2015  12.22  13.78  13.06  14.25\n",
       "2016   5.17   6.67   5.70   7.34\n",
       "2017   3.32   5.84   5.85   5.17\n",
       "2018   6.66   7.74   8.45   7.94\n",
       "2019   5.15   6.47   9.24   7.50\n",
       "2020   3.22   3.78   4.58   3.57"
      ]
     },
     "execution_count": 236,
     "metadata": {},
     "output_type": "execute_result"
    }
   ],
   "source": [
    "merged['year'] = merged.index.year\n",
    "grouped = merged.groupby('year').sum()\n",
    "grouped"
   ]
  },
  {
   "cell_type": "code",
   "execution_count": 237,
   "metadata": {},
   "outputs": [
    {
     "data": {
      "text/html": [
       "<div>\n",
       "<style scoped>\n",
       "    .dataframe tbody tr th:only-of-type {\n",
       "        vertical-align: middle;\n",
       "    }\n",
       "\n",
       "    .dataframe tbody tr th {\n",
       "        vertical-align: top;\n",
       "    }\n",
       "\n",
       "    .dataframe thead th {\n",
       "        text-align: right;\n",
       "    }\n",
       "</style>\n",
       "<table border=\"1\" class=\"dataframe\">\n",
       "  <thead>\n",
       "    <tr style=\"text-align: right;\">\n",
       "      <th></th>\n",
       "      <th>pp1</th>\n",
       "      <th>pp2</th>\n",
       "      <th>pp3</th>\n",
       "      <th>pp4</th>\n",
       "    </tr>\n",
       "  </thead>\n",
       "  <tbody>\n",
       "    <tr>\n",
       "      <th>pp1</th>\n",
       "      <td>1.000000</td>\n",
       "      <td>0.984123</td>\n",
       "      <td>0.621523</td>\n",
       "      <td>0.405316</td>\n",
       "    </tr>\n",
       "    <tr>\n",
       "      <th>pp2</th>\n",
       "      <td>0.984123</td>\n",
       "      <td>1.000000</td>\n",
       "      <td>0.440858</td>\n",
       "      <td>0.503965</td>\n",
       "    </tr>\n",
       "    <tr>\n",
       "      <th>pp3</th>\n",
       "      <td>0.621523</td>\n",
       "      <td>0.440858</td>\n",
       "      <td>1.000000</td>\n",
       "      <td>0.480620</td>\n",
       "    </tr>\n",
       "    <tr>\n",
       "      <th>pp4</th>\n",
       "      <td>0.405316</td>\n",
       "      <td>0.503965</td>\n",
       "      <td>0.480620</td>\n",
       "      <td>1.000000</td>\n",
       "    </tr>\n",
       "  </tbody>\n",
       "</table>\n",
       "</div>"
      ],
      "text/plain": [
       "          pp1       pp2       pp3       pp4\n",
       "pp1  1.000000  0.984123  0.621523  0.405316\n",
       "pp2  0.984123  1.000000  0.440858  0.503965\n",
       "pp3  0.621523  0.440858  1.000000  0.480620\n",
       "pp4  0.405316  0.503965  0.480620  1.000000"
      ]
     },
     "execution_count": 237,
     "metadata": {},
     "output_type": "execute_result"
    }
   ],
   "source": [
    "ppf.corr()"
   ]
  },
  {
   "cell_type": "code",
   "execution_count": 238,
   "metadata": {},
   "outputs": [
    {
     "data": {
      "text/html": [
       "<div>\n",
       "<style scoped>\n",
       "    .dataframe tbody tr th:only-of-type {\n",
       "        vertical-align: middle;\n",
       "    }\n",
       "\n",
       "    .dataframe tbody tr th {\n",
       "        vertical-align: top;\n",
       "    }\n",
       "\n",
       "    .dataframe thead th {\n",
       "        text-align: right;\n",
       "    }\n",
       "</style>\n",
       "<table border=\"1\" class=\"dataframe\">\n",
       "  <thead>\n",
       "    <tr style=\"text-align: right;\">\n",
       "      <th></th>\n",
       "      <th>pp1</th>\n",
       "      <th>pp2</th>\n",
       "      <th>pp3</th>\n",
       "      <th>pp4</th>\n",
       "    </tr>\n",
       "  </thead>\n",
       "  <tbody>\n",
       "    <tr>\n",
       "      <th>2013-04-16</th>\n",
       "      <td>0.38</td>\n",
       "      <td>NaN</td>\n",
       "      <td>0.25</td>\n",
       "      <td>0.03</td>\n",
       "    </tr>\n",
       "    <tr>\n",
       "      <th>2013-04-17</th>\n",
       "      <td>0.14</td>\n",
       "      <td>NaN</td>\n",
       "      <td>0.00</td>\n",
       "      <td>0.39</td>\n",
       "    </tr>\n",
       "    <tr>\n",
       "      <th>2013-04-18</th>\n",
       "      <td>0.07</td>\n",
       "      <td>NaN</td>\n",
       "      <td>0.18</td>\n",
       "      <td>0.22</td>\n",
       "    </tr>\n",
       "  </tbody>\n",
       "</table>\n",
       "</div>"
      ],
      "text/plain": [
       "             pp1  pp2   pp3   pp4\n",
       "2013-04-16  0.38  NaN  0.25  0.03\n",
       "2013-04-17  0.14  NaN  0.00  0.39\n",
       "2013-04-18  0.07  NaN  0.18  0.22"
      ]
     },
     "execution_count": 238,
     "metadata": {},
     "output_type": "execute_result"
    }
   ],
   "source": [
    "ppf[ppf.pp2.isnull()]"
   ]
  },
  {
   "cell_type": "code",
   "execution_count": 239,
   "metadata": {},
   "outputs": [
    {
     "data": {
      "text/html": [
       "<div>\n",
       "<style scoped>\n",
       "    .dataframe tbody tr th:only-of-type {\n",
       "        vertical-align: middle;\n",
       "    }\n",
       "\n",
       "    .dataframe tbody tr th {\n",
       "        vertical-align: top;\n",
       "    }\n",
       "\n",
       "    .dataframe thead th {\n",
       "        text-align: right;\n",
       "    }\n",
       "</style>\n",
       "<table border=\"1\" class=\"dataframe\">\n",
       "  <thead>\n",
       "    <tr style=\"text-align: right;\">\n",
       "      <th></th>\n",
       "      <th>pp1</th>\n",
       "      <th>pp2</th>\n",
       "      <th>pp3</th>\n",
       "      <th>pp4</th>\n",
       "    </tr>\n",
       "  </thead>\n",
       "  <tbody>\n",
       "    <tr>\n",
       "      <th>2013-04-16</th>\n",
       "      <td>0.38</td>\n",
       "      <td>NaN</td>\n",
       "      <td>0.25</td>\n",
       "      <td>0.03</td>\n",
       "    </tr>\n",
       "    <tr>\n",
       "      <th>2013-04-17</th>\n",
       "      <td>0.14</td>\n",
       "      <td>NaN</td>\n",
       "      <td>0.00</td>\n",
       "      <td>0.39</td>\n",
       "    </tr>\n",
       "    <tr>\n",
       "      <th>2013-04-18</th>\n",
       "      <td>0.07</td>\n",
       "      <td>NaN</td>\n",
       "      <td>0.18</td>\n",
       "      <td>0.22</td>\n",
       "    </tr>\n",
       "  </tbody>\n",
       "</table>\n",
       "</div>"
      ],
      "text/plain": [
       "             pp1  pp2   pp3   pp4\n",
       "2013-04-16  0.38  NaN  0.25  0.03\n",
       "2013-04-17  0.14  NaN  0.00  0.39\n",
       "2013-04-18  0.07  NaN  0.18  0.22"
      ]
     },
     "execution_count": 239,
     "metadata": {},
     "output_type": "execute_result"
    }
   ],
   "source": [
    "missingpp = ppf[ppf.pp2.isnull()]\n",
    "missingpp"
   ]
  },
  {
   "cell_type": "code",
   "execution_count": 240,
   "metadata": {},
   "outputs": [
    {
     "name": "stderr",
     "output_type": "stream",
     "text": [
      "C:\\Users\\lrbk\\miniconda3\\lib\\site-packages\\pandas\\core\\generic.py:5165: SettingWithCopyWarning: \n",
      "A value is trying to be set on a copy of a slice from a DataFrame.\n",
      "Try using .loc[row_indexer,col_indexer] = value instead\n",
      "\n",
      "See the caveats in the documentation: https://pandas.pydata.org/pandas-docs/stable/user_guide/indexing.html#returning-a-view-versus-a-copy\n",
      "  self[name] = value\n"
     ]
    },
    {
     "data": {
      "text/html": [
       "<div>\n",
       "<style scoped>\n",
       "    .dataframe tbody tr th:only-of-type {\n",
       "        vertical-align: middle;\n",
       "    }\n",
       "\n",
       "    .dataframe tbody tr th {\n",
       "        vertical-align: top;\n",
       "    }\n",
       "\n",
       "    .dataframe thead th {\n",
       "        text-align: right;\n",
       "    }\n",
       "</style>\n",
       "<table border=\"1\" class=\"dataframe\">\n",
       "  <thead>\n",
       "    <tr style=\"text-align: right;\">\n",
       "      <th></th>\n",
       "      <th>pp1</th>\n",
       "      <th>pp2</th>\n",
       "      <th>pp3</th>\n",
       "      <th>pp4</th>\n",
       "    </tr>\n",
       "  </thead>\n",
       "  <tbody>\n",
       "    <tr>\n",
       "      <th>2013-04-16</th>\n",
       "      <td>0.38</td>\n",
       "      <td>0.220000</td>\n",
       "      <td>0.25</td>\n",
       "      <td>0.03</td>\n",
       "    </tr>\n",
       "    <tr>\n",
       "      <th>2013-04-17</th>\n",
       "      <td>0.14</td>\n",
       "      <td>0.176667</td>\n",
       "      <td>0.00</td>\n",
       "      <td>0.39</td>\n",
       "    </tr>\n",
       "    <tr>\n",
       "      <th>2013-04-18</th>\n",
       "      <td>0.07</td>\n",
       "      <td>0.156667</td>\n",
       "      <td>0.18</td>\n",
       "      <td>0.22</td>\n",
       "    </tr>\n",
       "  </tbody>\n",
       "</table>\n",
       "</div>"
      ],
      "text/plain": [
       "             pp1       pp2   pp3   pp4\n",
       "2013-04-16  0.38  0.220000  0.25  0.03\n",
       "2013-04-17  0.14  0.176667  0.00  0.39\n",
       "2013-04-18  0.07  0.156667  0.18  0.22"
      ]
     },
     "execution_count": 240,
     "metadata": {},
     "output_type": "execute_result"
    }
   ],
   "source": [
    "filled = (missingpp.pp1 + missingpp.pp3 + missingpp.pp4) / (missingpp.shape[-1]-1)\n",
    "missingpp.pp2 = filled\n",
    "missingpp"
   ]
  },
  {
   "cell_type": "markdown",
   "metadata": {},
   "source": [
    "## Normal ratio method"
   ]
  },
  {
   "cell_type": "code",
   "execution_count": 241,
   "metadata": {},
   "outputs": [
    {
     "data": {
      "text/plain": [
       "2013-04-16    0.238248\n",
       "2013-04-17    0.172782\n",
       "2013-04-18    0.156604\n",
       "dtype: float64"
      ]
     },
     "execution_count": 241,
     "metadata": {},
     "output_type": "execute_result"
    }
   ],
   "source": [
    "a = (grouped.pp2.mean()/((missingpp.shape[-1]-1)))\n",
    "b = missingpp.pp1/grouped.pp1.mean()\n",
    "c = missingpp.pp3/grouped.pp3.mean()\n",
    "d = missingpp.pp4/grouped.pp4.mean()\n",
    "filled = a * ( b + c + d)\n",
    "filled"
   ]
  },
  {
   "cell_type": "markdown",
   "metadata": {},
   "source": [
    "## Multiple linear regression"
   ]
  },
  {
   "cell_type": "code",
   "execution_count": 242,
   "metadata": {},
   "outputs": [
    {
     "data": {
      "text/html": [
       "<div>\n",
       "<style scoped>\n",
       "    .dataframe tbody tr th:only-of-type {\n",
       "        vertical-align: middle;\n",
       "    }\n",
       "\n",
       "    .dataframe tbody tr th {\n",
       "        vertical-align: top;\n",
       "    }\n",
       "\n",
       "    .dataframe thead th {\n",
       "        text-align: right;\n",
       "    }\n",
       "</style>\n",
       "<table border=\"1\" class=\"dataframe\">\n",
       "  <thead>\n",
       "    <tr style=\"text-align: right;\">\n",
       "      <th></th>\n",
       "      <th>pp1</th>\n",
       "      <th>pp2</th>\n",
       "      <th>pp3</th>\n",
       "      <th>pp4</th>\n",
       "    </tr>\n",
       "  </thead>\n",
       "  <tbody>\n",
       "    <tr>\n",
       "      <th>2013-04-01</th>\n",
       "      <td>0.00</td>\n",
       "      <td>0.01</td>\n",
       "      <td>0.01</td>\n",
       "      <td>0.01</td>\n",
       "    </tr>\n",
       "    <tr>\n",
       "      <th>2013-04-02</th>\n",
       "      <td>0.10</td>\n",
       "      <td>0.08</td>\n",
       "      <td>0.08</td>\n",
       "      <td>0.08</td>\n",
       "    </tr>\n",
       "    <tr>\n",
       "      <th>2013-04-03</th>\n",
       "      <td>0.02</td>\n",
       "      <td>0.02</td>\n",
       "      <td>0.01</td>\n",
       "      <td>0.02</td>\n",
       "    </tr>\n",
       "    <tr>\n",
       "      <th>2013-04-04</th>\n",
       "      <td>0.00</td>\n",
       "      <td>0.00</td>\n",
       "      <td>0.00</td>\n",
       "      <td>0.00</td>\n",
       "    </tr>\n",
       "    <tr>\n",
       "      <th>2013-04-05</th>\n",
       "      <td>0.00</td>\n",
       "      <td>0.00</td>\n",
       "      <td>0.00</td>\n",
       "      <td>0.00</td>\n",
       "    </tr>\n",
       "  </tbody>\n",
       "</table>\n",
       "</div>"
      ],
      "text/plain": [
       "             pp1   pp2   pp3   pp4\n",
       "2013-04-01  0.00  0.01  0.01  0.01\n",
       "2013-04-02  0.10  0.08  0.08  0.08\n",
       "2013-04-03  0.02  0.02  0.01  0.02\n",
       "2013-04-04  0.00  0.00  0.00  0.00\n",
       "2013-04-05  0.00  0.00  0.00  0.00"
      ]
     },
     "execution_count": 242,
     "metadata": {},
     "output_type": "execute_result"
    }
   ],
   "source": [
    "ppf = merged['2013-04'][['pp1','pp2','pp3','pp4']]\n",
    "ppf.head()"
   ]
  },
  {
   "cell_type": "code",
   "execution_count": 243,
   "metadata": {},
   "outputs": [
    {
     "data": {
      "text/html": [
       "<div>\n",
       "<style scoped>\n",
       "    .dataframe tbody tr th:only-of-type {\n",
       "        vertical-align: middle;\n",
       "    }\n",
       "\n",
       "    .dataframe tbody tr th {\n",
       "        vertical-align: top;\n",
       "    }\n",
       "\n",
       "    .dataframe thead th {\n",
       "        text-align: right;\n",
       "    }\n",
       "</style>\n",
       "<table border=\"1\" class=\"dataframe\">\n",
       "  <thead>\n",
       "    <tr style=\"text-align: right;\">\n",
       "      <th></th>\n",
       "      <th>pp1</th>\n",
       "      <th>pp2</th>\n",
       "      <th>pp3</th>\n",
       "      <th>pp4</th>\n",
       "    </tr>\n",
       "  </thead>\n",
       "  <tbody>\n",
       "    <tr>\n",
       "      <th>2013-04-01</th>\n",
       "      <td>0.00</td>\n",
       "      <td>0.01</td>\n",
       "      <td>0.01</td>\n",
       "      <td>0.01</td>\n",
       "    </tr>\n",
       "    <tr>\n",
       "      <th>2013-04-02</th>\n",
       "      <td>0.10</td>\n",
       "      <td>0.08</td>\n",
       "      <td>0.08</td>\n",
       "      <td>0.08</td>\n",
       "    </tr>\n",
       "    <tr>\n",
       "      <th>2013-04-03</th>\n",
       "      <td>0.02</td>\n",
       "      <td>0.02</td>\n",
       "      <td>0.01</td>\n",
       "      <td>0.02</td>\n",
       "    </tr>\n",
       "    <tr>\n",
       "      <th>2013-04-04</th>\n",
       "      <td>0.00</td>\n",
       "      <td>0.00</td>\n",
       "      <td>0.00</td>\n",
       "      <td>0.00</td>\n",
       "    </tr>\n",
       "    <tr>\n",
       "      <th>2013-04-05</th>\n",
       "      <td>0.00</td>\n",
       "      <td>0.00</td>\n",
       "      <td>0.00</td>\n",
       "      <td>0.00</td>\n",
       "    </tr>\n",
       "  </tbody>\n",
       "</table>\n",
       "</div>"
      ],
      "text/plain": [
       "             pp1   pp2   pp3   pp4\n",
       "2013-04-01  0.00  0.01  0.01  0.01\n",
       "2013-04-02  0.10  0.08  0.08  0.08\n",
       "2013-04-03  0.02  0.02  0.01  0.02\n",
       "2013-04-04  0.00  0.00  0.00  0.00\n",
       "2013-04-05  0.00  0.00  0.00  0.00"
      ]
     },
     "execution_count": 243,
     "metadata": {},
     "output_type": "execute_result"
    }
   ],
   "source": [
    "ppf2 = ppf[ppf.pp2.notna()]\n",
    "ppf2.head()"
   ]
  },
  {
   "cell_type": "code",
   "execution_count": null,
   "metadata": {},
   "outputs": [],
   "source": [
    "#!pip install sklearn"
   ]
  },
  {
   "cell_type": "code",
   "execution_count": 249,
   "metadata": {},
   "outputs": [],
   "source": [
    "from sklearn.linear_model import LinearRegression"
   ]
  },
  {
   "cell_type": "code",
   "execution_count": 250,
   "metadata": {},
   "outputs": [],
   "source": [
    "mlr = LinearRegression()"
   ]
  },
  {
   "cell_type": "code",
   "execution_count": 251,
   "metadata": {},
   "outputs": [
    {
     "data": {
      "text/plain": [
       "LinearRegression()"
      ]
     },
     "execution_count": 251,
     "metadata": {},
     "output_type": "execute_result"
    }
   ],
   "source": [
    "mlr.fit(ppf2[['pp1','pp3','pp4']], ppf2['pp2'])"
   ]
  },
  {
   "cell_type": "code",
   "execution_count": 252,
   "metadata": {},
   "outputs": [
    {
     "name": "stdout",
     "output_type": "stream",
     "text": [
      "0.0003521033419448989\n"
     ]
    }
   ],
   "source": [
    "print(mlr.intercept_)"
   ]
  },
  {
   "cell_type": "code",
   "execution_count": 253,
   "metadata": {},
   "outputs": [
    {
     "name": "stdout",
     "output_type": "stream",
     "text": [
      "[ 1.04274331  0.26539032 -0.28120467]\n"
     ]
    }
   ],
   "source": [
    "print(mlr.coef_)"
   ]
  },
  {
   "cell_type": "code",
   "execution_count": 254,
   "metadata": {},
   "outputs": [
    {
     "data": {
      "text/plain": [
       "(0.0003521033419448989,\n",
       " 1.0427433109141946,\n",
       " 0.26539031701021926,\n",
       " -0.28120466905520397)"
      ]
     },
     "execution_count": 254,
     "metadata": {},
     "output_type": "execute_result"
    }
   ],
   "source": [
    "inter = mlr.intercept_\n",
    "a1,a3,a4 = mlr.coef_\n",
    "inter,a1,a3,a4"
   ]
  },
  {
   "cell_type": "code",
   "execution_count": 255,
   "metadata": {},
   "outputs": [
    {
     "data": {
      "text/html": [
       "<div>\n",
       "<style scoped>\n",
       "    .dataframe tbody tr th:only-of-type {\n",
       "        vertical-align: middle;\n",
       "    }\n",
       "\n",
       "    .dataframe tbody tr th {\n",
       "        vertical-align: top;\n",
       "    }\n",
       "\n",
       "    .dataframe thead th {\n",
       "        text-align: right;\n",
       "    }\n",
       "</style>\n",
       "<table border=\"1\" class=\"dataframe\">\n",
       "  <thead>\n",
       "    <tr style=\"text-align: right;\">\n",
       "      <th></th>\n",
       "      <th>pp1</th>\n",
       "      <th>pp2</th>\n",
       "      <th>pp3</th>\n",
       "      <th>pp4</th>\n",
       "    </tr>\n",
       "  </thead>\n",
       "  <tbody>\n",
       "    <tr>\n",
       "      <th>2013-04-16</th>\n",
       "      <td>0.38</td>\n",
       "      <td>NaN</td>\n",
       "      <td>0.25</td>\n",
       "      <td>0.03</td>\n",
       "    </tr>\n",
       "    <tr>\n",
       "      <th>2013-04-17</th>\n",
       "      <td>0.14</td>\n",
       "      <td>NaN</td>\n",
       "      <td>0.00</td>\n",
       "      <td>0.39</td>\n",
       "    </tr>\n",
       "    <tr>\n",
       "      <th>2013-04-18</th>\n",
       "      <td>0.07</td>\n",
       "      <td>NaN</td>\n",
       "      <td>0.18</td>\n",
       "      <td>0.22</td>\n",
       "    </tr>\n",
       "  </tbody>\n",
       "</table>\n",
       "</div>"
      ],
      "text/plain": [
       "             pp1  pp2   pp3   pp4\n",
       "2013-04-16  0.38  NaN  0.25  0.03\n",
       "2013-04-17  0.14  NaN  0.00  0.39\n",
       "2013-04-18  0.07  NaN  0.18  0.22"
      ]
     },
     "execution_count": 255,
     "metadata": {},
     "output_type": "execute_result"
    }
   ],
   "source": [
    "missingpp = ppf[ppf.pp2.isnull()]\n",
    "missingpp"
   ]
  },
  {
   "cell_type": "code",
   "execution_count": 256,
   "metadata": {},
   "outputs": [
    {
     "data": {
      "text/plain": [
       "2013-04-16    0.454506\n",
       "2013-04-17    0.036666\n",
       "2013-04-18    0.059249\n",
       "dtype: float64"
      ]
     },
     "execution_count": 256,
     "metadata": {},
     "output_type": "execute_result"
    }
   ],
   "source": [
    "inter + missingpp.pp1*a1 + missingpp.pp3*a3 + missingpp.pp4*a4"
   ]
  },
  {
   "cell_type": "markdown",
   "metadata": {},
   "source": [
    "## NEURAL NETWORKS"
   ]
  },
  {
   "cell_type": "code",
   "execution_count": 187,
   "metadata": {},
   "outputs": [],
   "source": [
    "import pandas as pd\n",
    "import numpy as np\n",
    "import matplotlib.pyplot as plt\n",
    "import seaborn as sns\n",
    "from sklearn.preprocessing import StandardScaler\n",
    "from sklearn.neural_network import MLPRegressor"
   ]
  },
  {
   "cell_type": "code",
   "execution_count": 189,
   "metadata": {},
   "outputs": [
    {
     "data": {
      "text/html": [
       "<div>\n",
       "<style scoped>\n",
       "    .dataframe tbody tr th:only-of-type {\n",
       "        vertical-align: middle;\n",
       "    }\n",
       "\n",
       "    .dataframe tbody tr th {\n",
       "        vertical-align: top;\n",
       "    }\n",
       "\n",
       "    .dataframe thead th {\n",
       "        text-align: right;\n",
       "    }\n",
       "</style>\n",
       "<table border=\"1\" class=\"dataframe\">\n",
       "  <thead>\n",
       "    <tr style=\"text-align: right;\">\n",
       "      <th></th>\n",
       "      <th>Est1</th>\n",
       "      <th>Est2</th>\n",
       "      <th>Est3</th>\n",
       "    </tr>\n",
       "    <tr>\n",
       "      <th>Fecha</th>\n",
       "      <th></th>\n",
       "      <th></th>\n",
       "      <th></th>\n",
       "    </tr>\n",
       "  </thead>\n",
       "  <tbody>\n",
       "    <tr>\n",
       "      <th>2014-07-25</th>\n",
       "      <td>0.0</td>\n",
       "      <td>NaN</td>\n",
       "      <td>0.0</td>\n",
       "    </tr>\n",
       "    <tr>\n",
       "      <th>2014-07-26</th>\n",
       "      <td>0.6</td>\n",
       "      <td>NaN</td>\n",
       "      <td>0.0</td>\n",
       "    </tr>\n",
       "    <tr>\n",
       "      <th>2014-07-27</th>\n",
       "      <td>0.0</td>\n",
       "      <td>NaN</td>\n",
       "      <td>0.0</td>\n",
       "    </tr>\n",
       "    <tr>\n",
       "      <th>2014-07-28</th>\n",
       "      <td>0.0</td>\n",
       "      <td>NaN</td>\n",
       "      <td>0.0</td>\n",
       "    </tr>\n",
       "    <tr>\n",
       "      <th>2014-07-29</th>\n",
       "      <td>0.2</td>\n",
       "      <td>NaN</td>\n",
       "      <td>0.2</td>\n",
       "    </tr>\n",
       "  </tbody>\n",
       "</table>\n",
       "</div>"
      ],
      "text/plain": [
       "            Est1  Est2  Est3\n",
       "Fecha                       \n",
       "2014-07-25   0.0   NaN   0.0\n",
       "2014-07-26   0.6   NaN   0.0\n",
       "2014-07-27   0.0   NaN   0.0\n",
       "2014-07-28   0.0   NaN   0.0\n",
       "2014-07-29   0.2   NaN   0.2"
      ]
     },
     "execution_count": 189,
     "metadata": {},
     "output_type": "execute_result"
    }
   ],
   "source": [
    "precipStations =  pd.read_csv('Est1_Est2_Est3.csv',index_col=0,parse_dates=True)\n",
    "precipStations.head()"
   ]
  },
  {
   "cell_type": "code",
   "execution_count": 190,
   "metadata": {},
   "outputs": [
    {
     "data": {
      "image/png": "[encoded data removed]",
      "text/plain": [
       "<Figure size 864x576 with 3 Axes>"
      ]
     },
     "metadata": {
      "needs_background": "light"
     },
     "output_type": "display_data"
    }
   ],
   "source": [
    "fig, axs=plt.subplots(3,1,figsize=(12,8),sharex=True,sharey=True)\n",
    "axs[0].plot(precipStations.index,precipStations['Est1'],label='Est1')\n",
    "axs[1].plot(precipStations.index,precipStations['Est2'],label='Est2')\n",
    "axs[2].plot(precipStations.index,precipStations['Est3'],label='Est3')\n",
    "plt.legend()\n",
    "plt.xticks(rotation='vertical')\n",
    "plt.show()"
   ]
  },
  {
   "cell_type": "code",
   "execution_count": 192,
   "metadata": {},
   "outputs": [
    {
     "data": {
      "text/html": [
       "<div>\n",
       "<style scoped>\n",
       "    .dataframe tbody tr th:only-of-type {\n",
       "        vertical-align: middle;\n",
       "    }\n",
       "\n",
       "    .dataframe tbody tr th {\n",
       "        vertical-align: top;\n",
       "    }\n",
       "\n",
       "    .dataframe thead th {\n",
       "        text-align: right;\n",
       "    }\n",
       "</style>\n",
       "<table border=\"1\" class=\"dataframe\">\n",
       "  <thead>\n",
       "    <tr style=\"text-align: right;\">\n",
       "      <th></th>\n",
       "      <th>Est1</th>\n",
       "      <th>Est2</th>\n",
       "      <th>Est3</th>\n",
       "    </tr>\n",
       "    <tr>\n",
       "      <th>Fecha</th>\n",
       "      <th></th>\n",
       "      <th></th>\n",
       "      <th></th>\n",
       "    </tr>\n",
       "  </thead>\n",
       "  <tbody>\n",
       "    <tr>\n",
       "      <th>2014-08-23</th>\n",
       "      <td>0.0</td>\n",
       "      <td>0.0</td>\n",
       "      <td>0.0</td>\n",
       "    </tr>\n",
       "    <tr>\n",
       "      <th>2014-08-24</th>\n",
       "      <td>0.0</td>\n",
       "      <td>0.0</td>\n",
       "      <td>0.0</td>\n",
       "    </tr>\n",
       "    <tr>\n",
       "      <th>2014-08-25</th>\n",
       "      <td>0.0</td>\n",
       "      <td>0.0</td>\n",
       "      <td>0.0</td>\n",
       "    </tr>\n",
       "    <tr>\n",
       "      <th>2014-08-26</th>\n",
       "      <td>0.0</td>\n",
       "      <td>0.0</td>\n",
       "      <td>0.0</td>\n",
       "    </tr>\n",
       "    <tr>\n",
       "      <th>2014-08-27</th>\n",
       "      <td>0.0</td>\n",
       "      <td>0.0</td>\n",
       "      <td>0.0</td>\n",
       "    </tr>\n",
       "    <tr>\n",
       "      <th>...</th>\n",
       "      <td>...</td>\n",
       "      <td>...</td>\n",
       "      <td>...</td>\n",
       "    </tr>\n",
       "    <tr>\n",
       "      <th>2015-06-21</th>\n",
       "      <td>0.0</td>\n",
       "      <td>0.0</td>\n",
       "      <td>0.0</td>\n",
       "    </tr>\n",
       "    <tr>\n",
       "      <th>2015-06-22</th>\n",
       "      <td>0.0</td>\n",
       "      <td>0.0</td>\n",
       "      <td>0.0</td>\n",
       "    </tr>\n",
       "    <tr>\n",
       "      <th>2015-06-23</th>\n",
       "      <td>0.0</td>\n",
       "      <td>0.0</td>\n",
       "      <td>0.0</td>\n",
       "    </tr>\n",
       "    <tr>\n",
       "      <th>2015-06-24</th>\n",
       "      <td>0.0</td>\n",
       "      <td>0.0</td>\n",
       "      <td>0.0</td>\n",
       "    </tr>\n",
       "    <tr>\n",
       "      <th>2015-06-25</th>\n",
       "      <td>3.8</td>\n",
       "      <td>2.2</td>\n",
       "      <td>0.0</td>\n",
       "    </tr>\n",
       "  </tbody>\n",
       "</table>\n",
       "<p>229 rows × 3 columns</p>\n",
       "</div>"
      ],
      "text/plain": [
       "            Est1  Est2  Est3\n",
       "Fecha                       \n",
       "2014-08-23   0.0   0.0   0.0\n",
       "2014-08-24   0.0   0.0   0.0\n",
       "2014-08-25   0.0   0.0   0.0\n",
       "2014-08-26   0.0   0.0   0.0\n",
       "2014-08-27   0.0   0.0   0.0\n",
       "...          ...   ...   ...\n",
       "2015-06-21   0.0   0.0   0.0\n",
       "2015-06-22   0.0   0.0   0.0\n",
       "2015-06-23   0.0   0.0   0.0\n",
       "2015-06-24   0.0   0.0   0.0\n",
       "2015-06-25   3.8   2.2   0.0\n",
       "\n",
       "[229 rows x 3 columns]"
      ]
     },
     "execution_count": 192,
     "metadata": {},
     "output_type": "execute_result"
    }
   ],
   "source": [
    "precipNotNan = precipStations.dropna()\n",
    "precipNotNan"
   ]
  },
  {
   "cell_type": "code",
   "execution_count": 258,
   "metadata": {},
   "outputs": [],
   "source": [
    "xTrain = precipNotNan[['Est1','Est3']]\n",
    "yTrain = precipNotNan[['Est2']].values.flatten()"
   ]
  },
  {
   "cell_type": "code",
   "execution_count": 261,
   "metadata": {},
   "outputs": [],
   "source": [
    "#yTrain"
   ]
  },
  {
   "cell_type": "code",
   "execution_count": 263,
   "metadata": {},
   "outputs": [],
   "source": [
    "scaler = StandardScaler().fit(xTrain)"
   ]
  },
  {
   "cell_type": "code",
   "execution_count": 264,
   "metadata": {},
   "outputs": [],
   "source": [
    "xTrainScaled = scaler.transform(xTrain)"
   ]
  },
  {
   "cell_type": "code",
   "execution_count": 265,
   "metadata": {},
   "outputs": [
    {
     "name": "stdout",
     "output_type": "stream",
     "text": [
      "[[-0.53894584 -0.50809201]\n",
      " [-0.53894584 -0.50809201]\n",
      " [-0.53894584 -0.50809201]\n",
      " [-0.53894584 -0.50809201]\n",
      " [-0.53894584 -0.50809201]\n",
      " [-0.53894584 -0.50809201]\n",
      " [-0.53894584 -0.50809201]\n",
      " [-0.53894584 -0.50809201]\n",
      " [-0.53894584 -0.50809201]\n",
      " [-0.04157671  0.123051  ]\n",
      " [-0.50341948 -0.50809201]\n",
      " [-0.53894584 -0.50809201]\n",
      " [-0.53894584 -0.50809201]\n",
      " [-0.53894584 -0.50809201]\n",
      " [-0.39684038 -0.24820959]\n",
      " [ 0.42026606  0.16017706]\n",
      " [-0.53894584 -0.43383989]\n",
      " [-0.53894584 -0.50809201]\n",
      " [-0.29026128 -0.32246171]\n",
      " [-0.53894584 -0.50809201]]\n"
     ]
    }
   ],
   "source": [
    "print(xTrainScaled[:20])"
   ]
  },
  {
   "cell_type": "code",
   "execution_count": 198,
   "metadata": {},
   "outputs": [
    {
     "name": "stdout",
     "output_type": "stream",
     "text": [
      "[ 1.00841218e-16 -6.98131509e-17]\n",
      "[1. 1.]\n"
     ]
    }
   ],
   "source": [
    "#check scaler\n",
    "print(xTrainScaled.mean(axis=0))\n",
    "print(xTrainScaled.std(axis=0))"
   ]
  },
  {
   "cell_type": "code",
   "execution_count": 199,
   "metadata": {},
   "outputs": [],
   "source": [
    "#regressor\n",
    "regr = MLPRegressor(random_state=1, max_iter=5000).fit(xTrainScaled, yTrain)"
   ]
  },
  {
   "cell_type": "code",
   "execution_count": 200,
   "metadata": {},
   "outputs": [],
   "source": [
    "#test\n",
    "xTest = precipStations[['Est1','Est3']].dropna()\n",
    "xTestScaled = scaler.transform(xTest)"
   ]
  },
  {
   "cell_type": "code",
   "execution_count": 201,
   "metadata": {},
   "outputs": [
    {
     "name": "stdout",
     "output_type": "stream",
     "text": [
      "             Est1        Est3\n",
      "count  431.000000  431.000000\n",
      "mean     2.376798    2.364269\n",
      "std      4.948763    4.888289\n",
      "min      0.000000    0.000000\n",
      "25%      0.000000    0.000000\n",
      "50%      0.000000    0.000000\n",
      "75%      2.200000    2.400000\n",
      "max     36.000000   43.800000\n",
      "[[-0.53894584 -0.50809201]\n",
      " [-0.43236674 -0.50809201]\n",
      " [-0.53894584 -0.50809201]\n",
      " [-0.53894584 -0.50809201]\n",
      " [-0.50341948 -0.47096595]\n",
      " [-0.50341948 -0.43383989]\n",
      " [ 0.98868793  0.97695037]\n",
      " [-0.53894584 -0.50809201]\n",
      " [-0.53894584 -0.50809201]\n",
      " [-0.53894584 -0.50809201]]\n"
     ]
    }
   ],
   "source": [
    "print(xTest.describe())\n",
    "print(xTestScaled[:10])"
   ]
  },
  {
   "cell_type": "code",
   "execution_count": 202,
   "metadata": {},
   "outputs": [
    {
     "name": "stdout",
     "output_type": "stream",
     "text": [
      "[ 0.05938569  0.15278002  0.05938569  0.05938569  0.17877184  0.26853265\n",
      "  8.31785189  0.05938569  0.05938569  0.05938569  0.05938569  0.05938569\n",
      "  0.05938569  0.05938569  0.05938569  2.0033938   1.74473144  0.05938569\n",
      "  0.05938569  0.05938569  0.05938569  0.89314323  0.73099724  0.05938569\n",
      "  0.05938569  0.05938569  0.05938569  0.05938569  0.05938569  0.05938569\n",
      "  0.05938569  0.05938569  0.05938569  0.05938569  0.05938569  0.05938569\n",
      "  0.05938569  0.05938569  2.73922272  0.08901102  0.05938569  0.05938569\n",
      "  0.05938569  0.90356784  3.80455527  0.23736574  0.05938569  0.80950155\n",
      "  0.05938569  0.05938569  1.42825595  1.30633847  0.05938569  0.05938569\n",
      "  9.05783655  2.91940617  7.92509212  2.23777962  0.08901102  0.05938569\n",
      "  0.05938569  0.05938569  0.05938569  0.05938569  2.56938373  0.05938569\n",
      "  0.05938569  0.05938569  0.05938569  0.05938569  0.05938569  0.32773075\n",
      "  0.62177456  0.05938569  0.05938569  0.05938569  0.05938569  0.05938569\n",
      "  0.05938569  0.05938569  0.95334271  1.30633847  0.32773075  0.05938569\n",
      "  0.05938569  0.05938569  0.14760492  0.73099724  1.06798882  0.05938569\n",
      "  0.05938569  0.05938569  0.23736574  2.2477183   2.7096809   2.7096809\n",
      "  2.7096809   2.7096809   2.7096809   2.7096809   4.28893312  3.08755589\n",
      "  1.59785527  0.08901102  5.1023374   2.40331326  2.25040958  1.10990779\n",
      "  0.05938569  0.05938569  0.73099724  0.67811962  1.42849399  0.72796518\n",
      "  3.75296416  2.63918764  0.15278002  0.23736574  0.12070883  0.05938569\n",
      "  0.05938569  0.05938569  1.78528862  5.50358044  5.97496521  8.83866162\n",
      " 15.64442421  8.42433854  6.9413407   5.99068876  1.65139969  8.62868097\n",
      " 16.7108543   3.33324297 11.83021499 11.46164034 23.30503637 12.32863793\n",
      " 20.93834165  9.38724884  9.31789191 23.93912386  9.59054503  3.11810369\n",
      "  3.93862148  0.05938569  0.05938569  0.05938569  0.05938569  0.05938569\n",
      "  0.05938569  0.23736574 11.03624036 10.55054643 15.37821338 22.1296288\n",
      "  3.6793818   9.48732832 12.49949086 21.03574432  2.65222349  0.08901102\n",
      "  7.92509212  5.04162459  4.85592633 11.09127283  7.49858848  0.90356784\n",
      "  8.53987596  0.08901102 19.29105109  3.33886864  3.20622697 17.70321532\n",
      " 10.94135329  1.5582118   5.31902111  3.01133975 18.00565912 43.5133975\n",
      "  4.97019465  0.05938569  0.05938569  0.05938569 16.75538557  9.90563243\n",
      " 13.22262848  0.5697782   3.32134761  0.63898299  0.05938569  0.20993875\n",
      "  4.40807384  7.13025168  4.42514279  1.66528788  3.65917081 15.78285289\n",
      "  1.32581312 20.27472884  2.37289765 26.41662221  9.24539675 11.41491319\n",
      "  3.15683676  9.70226153 12.19114543  9.59213722  4.4768721   6.85207253\n",
      "  8.08776503  1.91916501  6.42258077  8.62385209  0.08901102  0.67811962\n",
      "  1.68734559  0.05938569 12.1985534   0.33400053  0.05938569  0.05938569\n",
      "  0.05938569  0.61285982  0.12070883  0.05938569  0.80950155  1.51084742\n",
      "  4.66680794  0.17877184 10.38255942  0.05938569  2.65283834  2.18383473\n",
      "  0.72157309  0.20993875  0.08901102  0.05938569  0.14760492  0.05938569\n",
      "  0.17877184  0.05938569  0.24110566  0.14760492  0.05938569  3.2965467\n",
      "  1.5582118   0.05938569  2.8835126   6.6561211   0.27577021  0.17877184\n",
      "  4.49419288  0.05938569  0.05938569  0.05938569  0.85927642  0.05938569\n",
      "  0.05938569  0.05938569  8.64646858  0.05938569  0.05938569  1.60652917\n",
      "  0.50838253  0.26853265  0.05938569  0.05938569  0.05938569  0.05938569\n",
      "  0.05938569  0.84004072  0.05938569  0.05938569  0.05938569  0.05938569\n",
      "  0.05938569  0.05938569  0.05938569  0.05938569  0.05938569  0.05938569\n",
      "  0.05938569  0.29994805  0.05938569  0.05938569  1.75202861  9.47837231\n",
      "  0.05938569  0.05938569  0.05938569  0.05938569  0.05938569  0.05938569\n",
      "  0.05938569  0.05938569  0.05938569  0.05938569  0.05938569  0.05938569\n",
      "  0.05938569  0.05938569  0.17877184  0.05938569  0.05938569  0.05938569\n",
      "  0.05938569  0.88698163  0.23736574  0.05938569  0.05938569  0.05938569\n",
      "  0.05938569  0.05938569  0.05938569  0.67811962  8.40453701  0.05938569\n",
      "  0.05938569  0.05938569  0.05938569  0.05938569  0.05938569  0.05938569\n",
      "  0.05938569  0.05938569  0.05938569  0.05938569  0.05938569  0.05938569\n",
      "  0.05938569  0.05938569  0.05938569  0.05938569  0.05938569  0.05938569\n",
      "  0.05938569  0.26853265  0.05938569  0.05938569  0.05938569  0.05938569\n",
      "  0.05938569  0.05938569  1.42825595  0.05938569  0.05938569  0.05938569\n",
      "  0.05938569  0.05938569  0.05938569  3.03282497  0.05938569  0.05938569\n",
      "  0.63466614 14.86320854  8.24386395  0.33400053  0.08901102  0.05938569\n",
      "  0.24110566  0.29994805  0.05938569  0.05938569  0.05938569  0.05938569\n",
      "  0.05938569  0.05938569  0.05938569  0.05938569  0.05938569  0.05938569\n",
      "  0.05938569  0.05938569  0.14760492  0.8786804   0.05938569  0.05938569\n",
      "  0.05938569  0.05938569  0.05938569  0.05938569  0.05938569  0.05938569\n",
      "  0.05938569  0.05938569  0.05938569  0.05938569  0.05938569  0.05938569\n",
      "  3.39121194  0.05938569  0.05938569  0.08901102  0.05938569  0.08901102\n",
      "  0.05938569  0.05938569  4.16637921  8.92071389  0.05938569  0.05938569\n",
      "  0.05938569  0.05938569  0.05938569  0.05938569  0.05938569  4.37343807\n",
      "  0.05938569  0.05938569  0.20993875  0.49042613  0.20993875  0.05938569\n",
      "  0.05938569  0.05938569  0.05938569  0.05938569  0.05938569  0.05938569\n",
      "  0.05938569  1.9271936   0.46701101  0.05938569  0.05938569  0.26853265\n",
      "  0.29994805  0.08901102  1.8777112   0.08901102 11.77977745]\n"
     ]
    }
   ],
   "source": [
    "#regression\n",
    "yPredict = regr.predict(xTestScaled)\n",
    "print(yPredict)"
   ]
  },
  {
   "cell_type": "code",
   "execution_count": 203,
   "metadata": {},
   "outputs": [
    {
     "data": {
      "image/png": "[encoded data removed]",
      "text/plain": [
       "<Figure size 864x576 with 1 Axes>"
      ]
     },
     "metadata": {
      "needs_background": "light"
     },
     "output_type": "display_data"
    }
   ],
   "source": [
    "#comparison of station 2\n",
    "fig, ax=plt.subplots(figsize=(12,8),sharex=True,sharey=True)\n",
    "ax.plot(precipStations.index,precipStations['Est2'],label='Est2')\n",
    "ax.plot(xTest.index,yPredict,label='Est2Predict')\n",
    "plt.legend()\n",
    "plt.xticks(rotation='vertical')\n",
    "plt.show()"
   ]
  },
  {
   "cell_type": "code",
   "execution_count": 266,
   "metadata": {},
   "outputs": [
    {
     "data": {
      "text/html": [
       "<div>\n",
       "<style scoped>\n",
       "    .dataframe tbody tr th:only-of-type {\n",
       "        vertical-align: middle;\n",
       "    }\n",
       "\n",
       "    .dataframe tbody tr th {\n",
       "        vertical-align: top;\n",
       "    }\n",
       "\n",
       "    .dataframe thead th {\n",
       "        text-align: right;\n",
       "    }\n",
       "</style>\n",
       "<table border=\"1\" class=\"dataframe\">\n",
       "  <thead>\n",
       "    <tr style=\"text-align: right;\">\n",
       "      <th></th>\n",
       "      <th>Est1</th>\n",
       "      <th>Est2</th>\n",
       "      <th>Est3</th>\n",
       "      <th>Est2Completed</th>\n",
       "    </tr>\n",
       "    <tr>\n",
       "      <th>Fecha</th>\n",
       "      <th></th>\n",
       "      <th></th>\n",
       "      <th></th>\n",
       "      <th></th>\n",
       "    </tr>\n",
       "  </thead>\n",
       "  <tbody>\n",
       "    <tr>\n",
       "      <th>2014-07-25</th>\n",
       "      <td>0.0</td>\n",
       "      <td>NaN</td>\n",
       "      <td>0.0</td>\n",
       "      <td>0.059386</td>\n",
       "    </tr>\n",
       "    <tr>\n",
       "      <th>2014-07-26</th>\n",
       "      <td>0.6</td>\n",
       "      <td>NaN</td>\n",
       "      <td>0.0</td>\n",
       "      <td>0.152780</td>\n",
       "    </tr>\n",
       "    <tr>\n",
       "      <th>2014-07-27</th>\n",
       "      <td>0.0</td>\n",
       "      <td>NaN</td>\n",
       "      <td>0.0</td>\n",
       "      <td>0.059386</td>\n",
       "    </tr>\n",
       "    <tr>\n",
       "      <th>2014-07-28</th>\n",
       "      <td>0.0</td>\n",
       "      <td>NaN</td>\n",
       "      <td>0.0</td>\n",
       "      <td>0.059386</td>\n",
       "    </tr>\n",
       "    <tr>\n",
       "      <th>2014-07-29</th>\n",
       "      <td>0.2</td>\n",
       "      <td>NaN</td>\n",
       "      <td>0.2</td>\n",
       "      <td>0.178772</td>\n",
       "    </tr>\n",
       "    <tr>\n",
       "      <th>...</th>\n",
       "      <td>...</td>\n",
       "      <td>...</td>\n",
       "      <td>...</td>\n",
       "      <td>...</td>\n",
       "    </tr>\n",
       "    <tr>\n",
       "      <th>2015-10-22</th>\n",
       "      <td>0.4</td>\n",
       "      <td>NaN</td>\n",
       "      <td>0.4</td>\n",
       "      <td>0.299948</td>\n",
       "    </tr>\n",
       "    <tr>\n",
       "      <th>2015-10-23</th>\n",
       "      <td>0.2</td>\n",
       "      <td>NaN</td>\n",
       "      <td>0.0</td>\n",
       "      <td>0.089011</td>\n",
       "    </tr>\n",
       "    <tr>\n",
       "      <th>2015-10-24</th>\n",
       "      <td>1.8</td>\n",
       "      <td>NaN</td>\n",
       "      <td>2.6</td>\n",
       "      <td>1.877711</td>\n",
       "    </tr>\n",
       "    <tr>\n",
       "      <th>2015-10-25</th>\n",
       "      <td>0.2</td>\n",
       "      <td>NaN</td>\n",
       "      <td>0.0</td>\n",
       "      <td>0.089011</td>\n",
       "    </tr>\n",
       "    <tr>\n",
       "      <th>2015-10-26</th>\n",
       "      <td>11.0</td>\n",
       "      <td>NaN</td>\n",
       "      <td>11.4</td>\n",
       "      <td>11.779777</td>\n",
       "    </tr>\n",
       "  </tbody>\n",
       "</table>\n",
       "<p>459 rows × 4 columns</p>\n",
       "</div>"
      ],
      "text/plain": [
       "            Est1  Est2  Est3  Est2Completed\n",
       "Fecha                                      \n",
       "2014-07-25   0.0   NaN   0.0       0.059386\n",
       "2014-07-26   0.6   NaN   0.0       0.152780\n",
       "2014-07-27   0.0   NaN   0.0       0.059386\n",
       "2014-07-28   0.0   NaN   0.0       0.059386\n",
       "2014-07-29   0.2   NaN   0.2       0.178772\n",
       "...          ...   ...   ...            ...\n",
       "2015-10-22   0.4   NaN   0.4       0.299948\n",
       "2015-10-23   0.2   NaN   0.0       0.089011\n",
       "2015-10-24   1.8   NaN   2.6       1.877711\n",
       "2015-10-25   0.2   NaN   0.0       0.089011\n",
       "2015-10-26  11.0   NaN  11.4      11.779777\n",
       "\n",
       "[459 rows x 4 columns]"
      ]
     },
     "execution_count": 266,
     "metadata": {},
     "output_type": "execute_result"
    }
   ],
   "source": [
    "precipStations"
   ]
  },
  {
   "cell_type": "code",
   "execution_count": 204,
   "metadata": {},
   "outputs": [],
   "source": [
    "precipStations['Est2Completed'] = 0"
   ]
  },
  {
   "cell_type": "code",
   "execution_count": 205,
   "metadata": {},
   "outputs": [],
   "source": [
    "for index, row in precipStations.iterrows():\n",
    "    if np.isnan(row['Est2']) and ~np.isnan(row['Est1']) and ~np.isnan(row['Est3']):\n",
    "        rowScaled = scaler.transform([[row['Est1'],row['Est3']]])\n",
    "        precipStations.loc[index,['Est2Completed']] = regr.predict(rowScaled)\n",
    "    elif ~np.isnan(row['Est2']):\n",
    "        precipStations.loc[index,['Est2Completed']] = row['Est2']\n",
    "    else:\n",
    "        row['Est2Completed'] = np.nan"
   ]
  },
  {
   "cell_type": "code",
   "execution_count": 206,
   "metadata": {},
   "outputs": [
    {
     "data": {
      "image/png": "[encoded data removed]",
      "text/plain": [
       "<Figure size 864x576 with 4 Axes>"
      ]
     },
     "metadata": {
      "needs_background": "light"
     },
     "output_type": "display_data"
    }
   ],
   "source": [
    "fig, axs=plt.subplots(4,1,figsize=(12,8),sharex=True,sharey=True)\n",
    "axs[0].plot(precipStations.index,precipStations['Est1'],label='Est1')\n",
    "axs[0].legend()\n",
    "axs[1].plot(precipStations.index,precipStations['Est2'],label='Est2',color='orangered')\n",
    "axs[1].legend()\n",
    "axs[2].plot(precipStations.index,precipStations['Est2Completed'],label='Est2Completed',color='darkorange')\n",
    "axs[2].legend()\n",
    "axs[3].plot(precipStations.index,precipStations['Est3'],label='Est3')\n",
    "axs[3].legend()\n",
    "plt.xticks(rotation='vertical')\n",
    "plt.show()\n"
   ]
  },
  {
   "cell_type": "code",
   "execution_count": null,
   "metadata": {},
   "outputs": [],
   "source": []
  },
  {
   "cell_type": "code",
   "execution_count": null,
   "metadata": {},
   "outputs": [],
   "source": []
  },
  {
   "cell_type": "code",
   "execution_count": null,
   "metadata": {},
   "outputs": [],
   "source": []
  },
  {
   "cell_type": "code",
   "execution_count": null,
   "metadata": {},
   "outputs": [],
   "source": []
  }
 ],
 "metadata": {
  "kernelspec": {
   "display_name": "Python 3",
   "language": "python",
   "name": "python3"
  },
  "language_info": {
   "codemirror_mode": {
    "name": "ipython",
    "version": 3
   },
   "file_extension": ".py",
   "mimetype": "text/x-python",
   "name": "python",
   "nbconvert_exporter": "python",
   "pygments_lexer": "ipython3",
   "version": "3.8.3"
  }
 },
 "nbformat": 4,
 "nbformat_minor": 4
}
